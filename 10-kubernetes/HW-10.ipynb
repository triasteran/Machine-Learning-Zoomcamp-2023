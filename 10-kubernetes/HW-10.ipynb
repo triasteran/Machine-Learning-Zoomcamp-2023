{
 "cells": [
  {
   "cell_type": "markdown",
   "id": "67086ff5-f5d2-43b2-ae2b-1ac7b84b001b",
   "metadata": {},
   "source": [
    "# Bulding the image "
   ]
  },
  {
   "cell_type": "code",
   "execution_count": 1,
   "id": "d8b0bf76-f0bf-4803-a7f4-5525485c4939",
   "metadata": {},
   "outputs": [
    {
     "name": "stdout",
     "output_type": "stream",
     "text": [
      "Cloning into 'machine-learning-zoomcamp'...\n",
      "remote: Enumerating objects: 4875, done.\u001b[K\n",
      "remote: Counting objects: 100% (2082/2082), done.\u001b[K\n",
      "remote: Compressing objects: 100% (465/465), done.\u001b[K\n",
      "remote: Total 4875 (delta 1774), reused 1631 (delta 1612), pack-reused 2793\u001b[K\n",
      "Receiving objects: 100% (4875/4875), 10.97 MiB | 9.25 MiB/s, done.\n",
      "Resolving deltas: 100% (3025/3025), done.\n"
     ]
    }
   ],
   "source": [
    "!git clone https://github.com/DataTalksClub/machine-learning-zoomcamp.git"
   ]
  },
  {
   "cell_type": "code",
   "execution_count": 2,
   "id": "d2d71ff4-21f9-479e-8de5-4881a505fbd1",
   "metadata": {},
   "outputs": [
    {
     "name": "stdout",
     "output_type": "stream",
     "text": [
      "/bin/bash: line 0: cd: course-zoomcamp/cohorts/2023/05-deployment/homework: No such file or directory\n",
      "\u001b[1A\u001b[1B\u001b[0G\u001b[?25l[+] Building 0.0s (0/1)                                                         \n",
      "\u001b[?25h\u001b[1A\u001b[0G\u001b[?25l[+] Building 0.1s (2/2) FINISHED                                                \n",
      "\u001b[34m => [internal] load build definition from Dockerfile                       0.0s\n",
      "\u001b[0m\u001b[34m => => transferring dockerfile: 2B                                         0.0s\n",
      "\u001b[0m\u001b[34m => [internal] load .dockerignore                                          0.0s\n",
      "\u001b[0m\u001b[34m => => transferring context: 2B                                            0.0s\n",
      "\u001b[0m\u001b[?25hERROR: failed to solve: failed to read dockerfile: open /var/lib/docker/tmp/buildkit-mount3480500900/Dockerfile: no such file or directory\n"
     ]
    }
   ],
   "source": [
    "cd course-zoomcamp/cohorts/2023/05-deployment/homework\n",
    "docker build -t zoomcamp-model:hw10 ."
   ]
  },
  {
   "cell_type": "code",
   "execution_count": null,
   "id": "22c1d49f-68ee-45ae-bb92-93a9826cdfb8",
   "metadata": {},
   "outputs": [],
   "source": []
  },
  {
   "cell_type": "markdown",
   "id": "59314c4d-b7d0-40b8-bc6b-e25f569b7b1b",
   "metadata": {},
   "source": [
    "# Question 1: 0.7269"
   ]
  },
  {
   "cell_type": "code",
   "execution_count": null,
   "id": "b020a68f-6f61-4a3b-8d66-12a957bd70c8",
   "metadata": {},
   "outputs": [],
   "source": [
    "docker run -it --rm -p 9696:9696 zoomcamp-model:hw10"
   ]
  },
  {
   "cell_type": "code",
   "execution_count": null,
   "id": "63b52850-7116-4870-8ebb-5f10fb9c2938",
   "metadata": {},
   "outputs": [],
   "source": [
    "python q6_test.py"
   ]
  },
  {
   "cell_type": "code",
   "execution_count": null,
   "id": "34111ef8-276e-40c7-98f3-f5080b94d6e4",
   "metadata": {},
   "outputs": [],
   "source": [
    "{'get_credit': True, 'get_credit_probability': 0.726936946355423}"
   ]
  },
  {
   "cell_type": "code",
   "execution_count": null,
   "id": "c3570742-c12f-4e4d-8fa6-6b250359df71",
   "metadata": {},
   "outputs": [],
   "source": []
  },
  {
   "cell_type": "markdown",
   "id": "c2921709-3564-4b4a-be18-08cab1e412af",
   "metadata": {},
   "source": [
    "# Installing kubectl and kind"
   ]
  },
  {
   "cell_type": "code",
   "execution_count": null,
   "id": "97cf385c-4c93-4aa8-b50a-230a6f12e696",
   "metadata": {},
   "outputs": [],
   "source": [
    "kubectl - https://kubernetes.io/docs/tasks/tools/ (you might already have it - check before installing)\n",
    "kind - https://kind.sigs.k8s.io/docs/user/quick-start/"
   ]
  },
  {
   "cell_type": "code",
   "execution_count": null,
   "id": "a0349ac4-7921-49a2-9b82-4a789665498a",
   "metadata": {},
   "outputs": [],
   "source": [
    "curl -LO \"https://dl.k8s.io/release/$(curl -L -s https://dl.k8s.io/release/stable.txt)/bin/linux/amd64/kubectl\""
   ]
  },
  {
   "cell_type": "code",
   "execution_count": null,
   "id": "08a02fe5-1a31-468e-ac76-83c0da35253c",
   "metadata": {},
   "outputs": [],
   "source": [
    " curl -LO \"https://dl.k8s.io/release/$(curl -L -s https://dl.k8s.io/release/stable.txt)/bin/linux/amd64/kubectl.sha256\""
   ]
  },
  {
   "cell_type": "code",
   "execution_count": null,
   "id": "befce1db-df47-43c1-bf6e-4e51e96b7857",
   "metadata": {},
   "outputs": [],
   "source": [
    "echo \"$(cat kubectl.sha256)  kubectl\" | sha256sum --check"
   ]
  },
  {
   "cell_type": "code",
   "execution_count": null,
   "id": "89655528-2c23-48d0-a1c2-a107d06901ce",
   "metadata": {},
   "outputs": [],
   "source": [
    "sudo install -o root -g root -m 0755 kubectl /usr/local/bin/kubectl"
   ]
  },
  {
   "cell_type": "code",
   "execution_count": null,
   "id": "a7de6134-9779-446f-82d6-7f6254ce9b79",
   "metadata": {},
   "outputs": [],
   "source": [
    "kubectl version --client\n",
    "\n",
    "Client Version: v1.28.4\n",
    "Kustomize Version: v5.0.4-0.20230601165947-6ce0bf390ce3"
   ]
  },
  {
   "cell_type": "code",
   "execution_count": null,
   "id": "bcabdbe5-b766-4150-a78a-5cfc2a291e87",
   "metadata": {},
   "outputs": [],
   "source": [
    "[ $(uname -m) = x86_64 ] && curl -Lo ./kind https://kind.sigs.k8s.io/dl/v0.20.0/kind-linux-amd64"
   ]
  },
  {
   "cell_type": "code",
   "execution_count": null,
   "id": "01e438cc-186b-434c-99e4-2bb449038911",
   "metadata": {},
   "outputs": [],
   "source": [
    "chmod +x ./kind\n",
    "sudo mv ./kind /usr/local/bin/kind"
   ]
  },
  {
   "cell_type": "code",
   "execution_count": null,
   "id": "c2ce05c9-43a2-4cc4-8efb-2909850b6ec0",
   "metadata": {},
   "outputs": [],
   "source": [
    "kind version 0.20.0"
   ]
  },
  {
   "cell_type": "code",
   "execution_count": null,
   "id": "ec3574b4-1e64-49ef-8f7e-06d562cb219e",
   "metadata": {},
   "outputs": [],
   "source": []
  },
  {
   "cell_type": "markdown",
   "id": "cd4688d1-2a12-4c2e-ae8b-65c56d8e84a3",
   "metadata": {},
   "source": [
    "# Question 2 0.20.0"
   ]
  },
  {
   "cell_type": "code",
   "execution_count": null,
   "id": "aa8f649a-498f-4224-a32d-9290de13ff1f",
   "metadata": {},
   "outputs": [],
   "source": []
  },
  {
   "cell_type": "markdown",
   "id": "b8497d22-cf87-4b28-a0e1-7358940ca1d3",
   "metadata": {},
   "source": [
    "# Creating a cluster"
   ]
  },
  {
   "cell_type": "code",
   "execution_count": null,
   "id": "fec79e82-5324-48e6-b2b1-ec49e95128c3",
   "metadata": {},
   "outputs": [],
   "source": [
    "kind create cluster"
   ]
  },
  {
   "cell_type": "code",
   "execution_count": null,
   "id": "08a21ae7-c3b4-48a4-acaa-4603b218a7b9",
   "metadata": {},
   "outputs": [],
   "source": [
    "kubectl cluster-info"
   ]
  },
  {
   "cell_type": "code",
   "execution_count": null,
   "id": "20a6aef9-24a0-4875-a061-37fbb652dbd0",
   "metadata": {},
   "outputs": [],
   "source": []
  },
  {
   "cell_type": "markdown",
   "id": "6c11ba69-8549-4163-a5d9-0f226129f8e1",
   "metadata": {},
   "source": [
    "# Question 3 https://127.0.0.1:39965"
   ]
  },
  {
   "cell_type": "code",
   "execution_count": null,
   "id": "fe8ee1ae-99be-41fc-a7fe-de402fb48efa",
   "metadata": {},
   "outputs": [],
   "source": [
    "Now let's test if everything works. Use kubectl to get the list of running services.\n",
    "\n",
    "What's CLUSTER-IP of the service that is already running there?"
   ]
  },
  {
   "cell_type": "code",
   "execution_count": null,
   "id": "035d189e-52de-4480-bb27-25ed27666666",
   "metadata": {},
   "outputs": [],
   "source": []
  },
  {
   "cell_type": "markdown",
   "id": "486ff340-e210-4392-ba25-8c4ead42e95b",
   "metadata": {},
   "source": [
    "# Question 4: kind load docker-image"
   ]
  },
  {
   "cell_type": "code",
   "execution_count": null,
   "id": "34a7da39-fee7-4d8c-8288-e93697d95082",
   "metadata": {},
   "outputs": [],
   "source": [
    "To be able to use the docker image we previously created (zoomcamp-model:hw10), we need to register it with kind.\n",
    "\n",
    "What's the command we need to run for that?"
   ]
  },
  {
   "cell_type": "code",
   "execution_count": null,
   "id": "f12c83c4-4e1b-4457-88d9-426f9692caa3",
   "metadata": {},
   "outputs": [],
   "source": [
    "kind load docker-image zoomcamp-model:hw10"
   ]
  },
  {
   "cell_type": "code",
   "execution_count": null,
   "id": "1e307e3d-b41b-45cc-ae55-7096a06b17c5",
   "metadata": {},
   "outputs": [],
   "source": []
  },
  {
   "cell_type": "markdown",
   "id": "8b17e916-98f8-48db-b3ab-8cbb0c29d7c2",
   "metadata": {},
   "source": [
    "# Question 5: port is 9696"
   ]
  },
  {
   "cell_type": "code",
   "execution_count": null,
   "id": "6fa90b01-b60d-4b0c-8d55-4e76c5c1ddcf",
   "metadata": {},
   "outputs": [],
   "source": [
    "kubectl port-forward service/<Service name> 9696:80 "
   ]
  },
  {
   "cell_type": "code",
   "execution_count": null,
   "id": "f37512aa-c55b-4fb3-b4e8-9dea02bfb5a7",
   "metadata": {},
   "outputs": [],
   "source": [
    "kubectl apply -f deployment.yaml"
   ]
  },
  {
   "cell_type": "code",
   "execution_count": null,
   "id": "e197e050-0b7b-49f0-b810-59b0a66d92f4",
   "metadata": {},
   "outputs": [],
   "source": [
    "kubectl get pods -o wide"
   ]
  },
  {
   "cell_type": "code",
   "execution_count": null,
   "id": "ba94d231-b6f0-44ff-b60a-43d39602c154",
   "metadata": {},
   "outputs": [],
   "source": [
    "NAME                      READY   STATUS    RESTARTS   AGE     IP           NODE                 NOMINATED NODE   READINESS GATES\n",
    "credit-65ccb78b69-6vcjq   1/1     Running   0          4m19s   10.244.0.5   kind-control-plane   <none>           <none>\n"
   ]
  },
  {
   "cell_type": "code",
   "execution_count": null,
   "id": "05ad811c-6e3c-4e40-981b-24b4531db5f8",
   "metadata": {},
   "outputs": [],
   "source": []
  },
  {
   "cell_type": "markdown",
   "id": "7c4d897d-9b17-407e-a05d-7d973f45728f",
   "metadata": {},
   "source": [
    "# Question 6: credit"
   ]
  },
  {
   "cell_type": "code",
   "execution_count": null,
   "id": "13d947f8-dd51-4450-8c57-aa0572e44252",
   "metadata": {},
   "outputs": [],
   "source": [
    "app: credit"
   ]
  },
  {
   "cell_type": "code",
   "execution_count": null,
   "id": "5ef885bd-72e0-4164-959b-898d28482261",
   "metadata": {},
   "outputs": [],
   "source": []
  },
  {
   "cell_type": "code",
   "execution_count": null,
   "id": "4ff3e2d2-2e95-433b-88c3-c3189a66b2cb",
   "metadata": {},
   "outputs": [],
   "source": [
    "kubectl get pods"
   ]
  },
  {
   "cell_type": "code",
   "execution_count": null,
   "id": "df84f666-32af-417d-9ece-1e0e879d210f",
   "metadata": {},
   "outputs": [],
   "source": [
    "kubectl port-forward service/credit-65ccb78b69-6vcjq 9696:80"
   ]
  },
  {
   "cell_type": "code",
   "execution_count": null,
   "id": "b79720ff-7567-49e5-abd9-6e1448ec5d3a",
   "metadata": {},
   "outputs": [],
   "source": []
  },
  {
   "cell_type": "code",
   "execution_count": null,
   "id": "2d92a373-c7a3-4d2a-8c18-2ae24c120860",
   "metadata": {},
   "outputs": [],
   "source": []
  }
 ],
 "metadata": {
  "kernelspec": {
   "display_name": "Python 3",
   "language": "python",
   "name": "python3"
  },
  "language_info": {
   "codemirror_mode": {
    "name": "ipython",
    "version": 3
   },
   "file_extension": ".py",
   "mimetype": "text/x-python",
   "name": "python",
   "nbconvert_exporter": "python",
   "pygments_lexer": "ipython3",
   "version": "3.9.13"
  }
 },
 "nbformat": 4,
 "nbformat_minor": 5
}
