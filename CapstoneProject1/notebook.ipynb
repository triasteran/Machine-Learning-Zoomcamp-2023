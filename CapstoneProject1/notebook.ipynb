{
 "cells": [
  {
   "cell_type": "code",
   "execution_count": 1,
   "id": "7a9554f9",
   "metadata": {},
   "outputs": [
    {
     "name": "stderr",
     "output_type": "stream",
     "text": [
      "2023-11-25 15:40:42.845778: I tensorflow/core/platform/cpu_feature_guard.cc:182] This TensorFlow binary is optimized to use available CPU instructions in performance-critical operations.\n",
      "To enable the following instructions: SSE4.1 SSE4.2 AVX AVX2 AVX_VNNI FMA, in other operations, rebuild TensorFlow with the appropriate compiler flags.\n"
     ]
    }
   ],
   "source": [
    "import numpy as np\n",
    "import matplotlib.pyplot as plt\n",
    "\n",
    "%matplotlib inline\n",
    "\n",
    "import tensorflow as tf\n",
    "from tensorflow import keras\n",
    "\n",
    "from tensorflow.keras.preprocessing.image import load_img\n",
    "\n",
    "from tensorflow.keras.preprocessing.image import ImageDataGenerator"
   ]
  },
  {
   "cell_type": "code",
   "execution_count": 2,
   "id": "9876ee7e",
   "metadata": {},
   "outputs": [],
   "source": [
    "# import Deep learning Libraries\n",
    "import tensorflow as tf\n",
    "from tensorflow import keras\n",
    "\n",
    "\n",
    "from tensorflow.keras.preprocessing.image import ImageDataGenerator\n",
    "from tensorflow.keras.layers import Conv2D, MaxPooling2D, Flatten, Dense, Activation, Dropout, BatchNormalization\n",
    "from tensorflow.keras import regularizers"
   ]
  },
  {
   "cell_type": "markdown",
   "id": "d74505e2",
   "metadata": {},
   "source": [
    "Acute lymphoblastic leukemia (ALL) is the most common type of childhood cancer and accounts for approximately 25% of the pediatric cancers.\n",
    "\n",
    "Here is the dataset with microscopre images of blood cells: some of them are immature leukemic cells and other are normal cells. \n",
    "    \n",
    "It is challenging to identify which cells are leukemic and which are normal from microscopre imgage and it is important to do so in order to diagnose as early as possible. \n",
    "\n",
    "This is binary classification task: class 1 is normal cell and class2 is leukemia blast.\n",
    "    \n",
    "Data citation: Data Citation\n",
    "Gupta, A., & Gupta, R. (2019). ALL Challenge dataset of ISBI 2019 [Data set]. \n",
    "The Cancer Imaging Archive. https://doi.org/10.7937/tcia.2019.dc64i46r\n",
    "\n",
    "Dataset was taken from https://www.kaggle.com/datasets/andrewmvd/leukemia-classification/data \n",
    "\n",
    "Currently, I'm using my local laptop for building models which does not have plenty GPUs for training, therefore I have to opt for simpler models with less accuracy (and less amount of data) "
   ]
  },
  {
   "cell_type": "code",
   "execution_count": null,
   "id": "8962ae86",
   "metadata": {},
   "outputs": [],
   "source": []
  },
  {
   "cell_type": "markdown",
   "id": "6ed8ffc9",
   "metadata": {},
   "source": [
    "# Initial Data Preparation, binary classification"
   ]
  },
  {
   "cell_type": "markdown",
   "id": "6f3ba845",
   "metadata": {},
   "source": [
    "Since it's a picture classification problem, then Convolutional NN would work here nicely "
   ]
  },
  {
   "cell_type": "code",
   "execution_count": 3,
   "id": "32226959",
   "metadata": {},
   "outputs": [
    {
     "name": "stdout",
     "output_type": "stream",
     "text": [
      "testing_data  training_data  validation_data\r\n"
     ]
    }
   ],
   "source": [
    "!ls archive/C-NMC_Leukemia"
   ]
  },
  {
   "cell_type": "code",
   "execution_count": 23,
   "id": "51ab7b8d",
   "metadata": {},
   "outputs": [
    {
     "data": {
      "image/png": "[encoded data removed]",
      "text/plain": [
       "<PIL.Image.Image image mode=RGB size=150x150>"
      ]
     },
     "execution_count": 23,
     "metadata": {},
     "output_type": "execute_result"
    }
   ],
   "source": [
    "path = '/home/triasteran/ML/CapStoneProject1/archive/C-NMC_Leukemia/testing_data/C-NMC_test_final_phase_data'\n",
    "name = '1000.bmp'\n",
    "fullname = f'{path}/{name}'\n",
    "img = load_img(fullname, target_size=(150, 150))\n",
    "img"
   ]
  },
  {
   "cell_type": "code",
   "execution_count": 24,
   "id": "138ff633",
   "metadata": {},
   "outputs": [
    {
     "data": {
      "image/png": "[encoded data removed]",
      "text/plain": [
       "<PIL.Image.Image image mode=RGB size=150x150>"
      ]
     },
     "execution_count": 24,
     "metadata": {},
     "output_type": "execute_result"
    }
   ],
   "source": [
    "path = '/home/triasteran/ML/CapStoneProject1/archive/C-NMC_Leukemia/testing_data/C-NMC_test_final_phase_data'\n",
    "name = '1005.bmp'\n",
    "fullname = f'{path}/{name}'\n",
    "img = load_img(fullname, target_size=(150, 150))\n",
    "img"
   ]
  },
  {
   "cell_type": "code",
   "execution_count": 25,
   "id": "b3488ec5",
   "metadata": {},
   "outputs": [
    {
     "data": {
      "text/plain": [
       "(150, 150, 3)"
      ]
     },
     "execution_count": 25,
     "metadata": {},
     "output_type": "execute_result"
    }
   ],
   "source": [
    "x = np.array(img)\n",
    "x.shape"
   ]
  },
  {
   "cell_type": "code",
   "execution_count": null,
   "id": "eebdbfbb",
   "metadata": {},
   "outputs": [],
   "source": []
  },
  {
   "cell_type": "markdown",
   "id": "15f730e9",
   "metadata": {},
   "source": [
    "# Model 1: simple convolutional neural network"
   ]
  },
  {
   "cell_type": "markdown",
   "id": "0df3e223",
   "metadata": {},
   "source": [
    "### model creation "
   ]
  },
  {
   "cell_type": "code",
   "execution_count": 9,
   "id": "4dc8e349",
   "metadata": {},
   "outputs": [
    {
     "name": "stderr",
     "output_type": "stream",
     "text": [
      "2023-11-25 15:43:54.429066: I tensorflow/core/common_runtime/process_util.cc:146] Creating new thread pool with default inter op setting: 2. Tune using inter_op_parallelism_threads for best performance.\n"
     ]
    }
   ],
   "source": [
    "#create model\n",
    "model = Sequential()\n",
    "\n",
    "#add model layers\n",
    "# 32 filters\n",
    "# kernel size (3,3)\n",
    "# relu activation\n",
    "model.add(Conv2D(32, kernel_size=3, activation='relu', input_shape=(150,150,3)))\n",
    "\n",
    "# pooling: MaxPooling2D \n",
    "#Set the pooling size to (2, 2)\n",
    "model.add(MaxPooling2D(pool_size=(2, 2)))\n",
    "\n",
    "# Turn the multi-dimensional result into vectors using a Flatten layer\n",
    "model.add(Flatten())\n",
    "\n",
    "# Next, add a Dense layer with 64 neurons and 'relu' activation \n",
    "model.add(Dense(64, activation='relu'))\n",
    "\n",
    "# Finally, create the Dense layer with 1 neuron - this will be the output \n",
    "model.add(Dense(1, activation='sigmoid'))\n",
    "\n",
    "# As optimizer use SGD with the following parameters:\n",
    "# \n",
    "opt = keras.optimizers.SGD(learning_rate=0.002, momentum=0.8)\n",
    "loss = keras.losses.BinaryCrossentropy(from_logits=False)\n",
    "\n",
    "model.compile(optimizer=opt, loss=loss, metrics=['accuracy'])"
   ]
  },
  {
   "cell_type": "markdown",
   "id": "213e4c2d",
   "metadata": {},
   "source": [
    "### data generation"
   ]
  },
  {
   "cell_type": "markdown",
   "id": "60277c20",
   "metadata": {},
   "source": [
    "we will use fold_0 for training, fold_1 for testing and fold_2 for validation (they are conviniently put into correct directory structure)\n",
    "\n",
    "We won't use any data augmentation in this round \n",
    "\n",
    "As a preprocessing we will have noralisation by dividing values to 255"
   ]
  },
  {
   "cell_type": "code",
   "execution_count": 46,
   "id": "0f17163e",
   "metadata": {},
   "outputs": [
    {
     "name": "stdout",
     "output_type": "stream",
     "text": [
      "Found 3527 images belonging to 2 classes.\n"
     ]
    }
   ],
   "source": [
    "train_gen = ImageDataGenerator(rescale=1./255)\n",
    "\n",
    "train_ds = train_gen.flow_from_directory(\n",
    "    '/home/triasteran/ML/CapStoneProject1/archive/C-NMC_Leukemia/training_data/fold_0/',\n",
    "    target_size=(150, 150),\n",
    "    batch_size=20,\n",
    "    shuffle=True,  class_mode='binary'\n",
    ")"
   ]
  },
  {
   "cell_type": "code",
   "execution_count": 47,
   "id": "510d6070",
   "metadata": {},
   "outputs": [
    {
     "name": "stdout",
     "output_type": "stream",
     "text": [
      "Found 3581 images belonging to 2 classes.\n"
     ]
    }
   ],
   "source": [
    "val_gen = ImageDataGenerator(rescale=1./255)\n",
    "\n",
    "val_ds = val_gen.flow_from_directory(\n",
    "    '/home/triasteran/ML/CapStoneProject1/archive/C-NMC_Leukemia/training_data/fold_1/',\n",
    "    target_size=(150, 150),\n",
    "    batch_size=20,\n",
    "    shuffle=True,  class_mode='binary'\n",
    ")"
   ]
  },
  {
   "cell_type": "code",
   "execution_count": null,
   "id": "e3b3d06d",
   "metadata": {},
   "outputs": [],
   "source": []
  },
  {
   "cell_type": "markdown",
   "id": "3be359a0",
   "metadata": {},
   "source": [
    "### Training"
   ]
  },
  {
   "cell_type": "code",
   "execution_count": 48,
   "id": "5ece6663",
   "metadata": {},
   "outputs": [
    {
     "name": "stdout",
     "output_type": "stream",
     "text": [
      "Epoch 1/10\n",
      "  1/177 [..............................] - ETA: 22s - loss: 0.5241 - accuracy: 0.8000"
     ]
    },
    {
     "name": "stderr",
     "output_type": "stream",
     "text": [
      "2023-11-25 16:41:57.762891: I tensorflow/core/common_runtime/executor.cc:1197] [/device:CPU:0] (DEBUG INFO) Executor start aborting (this does not indicate an error and you can ignore this message): INVALID_ARGUMENT: You must feed a value for placeholder tensor 'Placeholder/_0' with dtype int32\n",
      "\t [[{{node Placeholder/_0}}]]\n"
     ]
    },
    {
     "name": "stdout",
     "output_type": "stream",
     "text": [
      "177/177 [==============================] - 28s 160ms/step - loss: 0.4258 - accuracy: 0.8225 - val_loss: 0.5275 - val_accuracy: 0.7580\n",
      "Epoch 2/10\n",
      "177/177 [==============================] - 30s 168ms/step - loss: 0.4223 - accuracy: 0.8205 - val_loss: 0.5122 - val_accuracy: 0.7588\n",
      "Epoch 3/10\n",
      "177/177 [==============================] - 29s 166ms/step - loss: 0.4196 - accuracy: 0.8273 - val_loss: 0.5161 - val_accuracy: 0.7599\n",
      "Epoch 4/10\n",
      "177/177 [==============================] - 30s 167ms/step - loss: 0.4183 - accuracy: 0.8208 - val_loss: 0.5216 - val_accuracy: 0.7574\n",
      "Epoch 5/10\n",
      "177/177 [==============================] - 30s 170ms/step - loss: 0.4158 - accuracy: 0.8242 - val_loss: 0.5425 - val_accuracy: 0.7588\n",
      "Epoch 6/10\n",
      "177/177 [==============================] - 30s 169ms/step - loss: 0.4137 - accuracy: 0.8236 - val_loss: 0.5101 - val_accuracy: 0.7563\n",
      "Epoch 7/10\n",
      "177/177 [==============================] - 30s 171ms/step - loss: 0.4115 - accuracy: 0.8248 - val_loss: 0.5243 - val_accuracy: 0.7596\n",
      "Epoch 8/10\n",
      "177/177 [==============================] - 29s 164ms/step - loss: 0.4106 - accuracy: 0.8299 - val_loss: 0.5132 - val_accuracy: 0.7596\n",
      "Epoch 9/10\n",
      "177/177 [==============================] - 29s 166ms/step - loss: 0.4128 - accuracy: 0.8268 - val_loss: 0.5168 - val_accuracy: 0.7605\n",
      "Epoch 10/10\n",
      "177/177 [==============================] - 27s 153ms/step - loss: 0.4088 - accuracy: 0.8273 - val_loss: 0.5205 - val_accuracy: 0.7605\n"
     ]
    }
   ],
   "source": [
    "history = model.fit(\n",
    "    train_ds,\n",
    "    epochs=10,\n",
    "    validation_data=val_ds\n",
    ")"
   ]
  },
  {
   "cell_type": "code",
   "execution_count": 51,
   "id": "eec6c106",
   "metadata": {},
   "outputs": [
    {
     "data": {
      "text/plain": [
       "<matplotlib.legend.Legend at 0x7f8a5d6ec5d0>"
      ]
     },
     "execution_count": 51,
     "metadata": {},
     "output_type": "execute_result"
    },
    {
     "data": {
      "image/png": "[encoded data removed]",
      "text/plain": [
       "<Figure size 640x480 with 1 Axes>"
      ]
     },
     "metadata": {},
     "output_type": "display_data"
    }
   ],
   "source": [
    "plt.plot(history.history['accuracy'], label='train')\n",
    "plt.plot(history.history['val_accuracy'], label='val')\n",
    "plt.xticks(np.arange(10))\n",
    "plt.legend()"
   ]
  },
  {
   "cell_type": "markdown",
   "id": "0a715770",
   "metadata": {},
   "source": [
    "So it looks like that val accuracy stays at ~0.75-0.76 across epochs while train accuracy is at 0.82-0.83. \n",
    "We will try to adjust some parameters to see whether they can make a difference "
   ]
  },
  {
   "cell_type": "code",
   "execution_count": null,
   "id": "6b767604",
   "metadata": {},
   "outputs": [],
   "source": []
  },
  {
   "cell_type": "code",
   "execution_count": null,
   "id": "c97a773b",
   "metadata": {},
   "outputs": [],
   "source": []
  },
  {
   "cell_type": "markdown",
   "id": "db66e1ed",
   "metadata": {},
   "source": [
    "# Model1: adjusting learning rate "
   ]
  },
  {
   "cell_type": "code",
   "execution_count": 52,
   "id": "85d0f29b",
   "metadata": {},
   "outputs": [],
   "source": [
    "def create_CNN_model(learning_rate = 0.001):\n",
    "    #create model\n",
    "    model = Sequential()\n",
    "\n",
    "    #add model layers\n",
    "    # 32 filters\n",
    "    # kernel size (3,3)\n",
    "    # relu activation\n",
    "    model.add(Conv2D(32, kernel_size=3, activation='relu', input_shape=(150,150,3)))\n",
    "\n",
    "    # pooling: MaxPooling2D \n",
    "    #Set the pooling size to (2, 2)\n",
    "    model.add(MaxPooling2D(pool_size=(2, 2)))\n",
    "\n",
    "    # Turn the multi-dimensional result into vectors using a Flatten layer\n",
    "    model.add(Flatten())\n",
    "\n",
    "    # Next, add a Dense layer with 64 neurons and 'relu' activation \n",
    "    model.add(Dense(64, activation='relu'))\n",
    "\n",
    "    # Finally, create the Dense layer with 1 neuron - this will be the output \n",
    "    model.add(Dense(1, activation='sigmoid'))\n",
    "\n",
    "    # As optimizer use SGD with the following parameters:\n",
    "    # \n",
    "    opt = keras.optimizers.SGD(learning_rate=learning_rate, momentum=0.8)\n",
    "    loss = keras.losses.BinaryCrossentropy(from_logits=False)\n",
    "\n",
    "    model.compile(optimizer=opt, loss=loss, metrics=['accuracy'])\n",
    "    \n",
    "    return model"
   ]
  },
  {
   "cell_type": "code",
   "execution_count": 53,
   "id": "858ae21b",
   "metadata": {},
   "outputs": [
    {
     "name": "stdout",
     "output_type": "stream",
     "text": [
      "0.0001\n",
      "Epoch 1/10\n"
     ]
    },
    {
     "name": "stderr",
     "output_type": "stream",
     "text": [
      "2023-11-25 16:57:33.893705: I tensorflow/core/common_runtime/executor.cc:1197] [/device:CPU:0] (DEBUG INFO) Executor start aborting (this does not indicate an error and you can ignore this message): INVALID_ARGUMENT: You must feed a value for placeholder tensor 'Placeholder/_0' with dtype int32\n",
      "\t [[{{node Placeholder/_0}}]]\n"
     ]
    },
    {
     "name": "stdout",
     "output_type": "stream",
     "text": [
      "177/177 [==============================] - ETA: 0s - loss: 0.5871 - accuracy: 0.6694"
     ]
    },
    {
     "name": "stderr",
     "output_type": "stream",
     "text": [
      "2023-11-25 16:57:53.669621: I tensorflow/core/common_runtime/executor.cc:1197] [/device:CPU:0] (DEBUG INFO) Executor start aborting (this does not indicate an error and you can ignore this message): INVALID_ARGUMENT: You must feed a value for placeholder tensor 'Placeholder/_0' with dtype int32\n",
      "\t [[{{node Placeholder/_0}}]]\n"
     ]
    },
    {
     "name": "stdout",
     "output_type": "stream",
     "text": [
      "177/177 [==============================] - 28s 156ms/step - loss: 0.5871 - accuracy: 0.6694 - val_loss: 0.5270 - val_accuracy: 0.6752\n",
      "Epoch 2/10\n",
      "177/177 [==============================] - 30s 170ms/step - loss: 0.5232 - accuracy: 0.7153 - val_loss: 0.4803 - val_accuracy: 0.7861\n",
      "Epoch 3/10\n",
      "177/177 [==============================] - 30s 169ms/step - loss: 0.4913 - accuracy: 0.7908 - val_loss: 0.4511 - val_accuracy: 0.8185\n",
      "Epoch 4/10\n",
      "177/177 [==============================] - 29s 165ms/step - loss: 0.4710 - accuracy: 0.8143 - val_loss: 0.4333 - val_accuracy: 0.8274\n",
      "Epoch 5/10\n",
      "177/177 [==============================] - 29s 165ms/step - loss: 0.4581 - accuracy: 0.8205 - val_loss: 0.4210 - val_accuracy: 0.8313\n",
      "Epoch 6/10\n",
      "177/177 [==============================] - 30s 172ms/step - loss: 0.4500 - accuracy: 0.8214 - val_loss: 0.4147 - val_accuracy: 0.8313\n",
      "Epoch 7/10\n",
      "177/177 [==============================] - 30s 169ms/step - loss: 0.4448 - accuracy: 0.8208 - val_loss: 0.4135 - val_accuracy: 0.8311\n",
      "Epoch 8/10\n",
      "177/177 [==============================] - 30s 168ms/step - loss: 0.4415 - accuracy: 0.8202 - val_loss: 0.4065 - val_accuracy: 0.8352\n",
      "Epoch 9/10\n",
      "177/177 [==============================] - 30s 168ms/step - loss: 0.4390 - accuracy: 0.8214 - val_loss: 0.4040 - val_accuracy: 0.8344\n",
      "Epoch 10/10\n",
      "177/177 [==============================] - 31s 173ms/step - loss: 0.4372 - accuracy: 0.8200 - val_loss: 0.4028 - val_accuracy: 0.8341\n",
      "\n",
      "\n",
      "0.001\n",
      "Epoch 1/10\n"
     ]
    },
    {
     "name": "stderr",
     "output_type": "stream",
     "text": [
      "2023-11-25 17:03:05.522366: I tensorflow/core/common_runtime/executor.cc:1197] [/device:CPU:0] (DEBUG INFO) Executor start aborting (this does not indicate an error and you can ignore this message): INVALID_ARGUMENT: You must feed a value for placeholder tensor 'Placeholder/_0' with dtype int32\n",
      "\t [[{{node Placeholder/_0}}]]\n"
     ]
    },
    {
     "name": "stdout",
     "output_type": "stream",
     "text": [
      "177/177 [==============================] - ETA: 0s - loss: 0.5136 - accuracy: 0.7587"
     ]
    },
    {
     "name": "stderr",
     "output_type": "stream",
     "text": [
      "2023-11-25 17:03:26.474881: I tensorflow/core/common_runtime/executor.cc:1197] [/device:CPU:0] (DEBUG INFO) Executor start aborting (this does not indicate an error and you can ignore this message): INVALID_ARGUMENT: You must feed a value for placeholder tensor 'Placeholder/_0' with dtype int32\n",
      "\t [[{{node Placeholder/_0}}]]\n"
     ]
    },
    {
     "name": "stdout",
     "output_type": "stream",
     "text": [
      "177/177 [==============================] - 30s 167ms/step - loss: 0.5136 - accuracy: 0.7587 - val_loss: 0.4337 - val_accuracy: 0.8255\n",
      "Epoch 2/10\n",
      "177/177 [==============================] - 29s 163ms/step - loss: 0.4491 - accuracy: 0.8191 - val_loss: 0.4116 - val_accuracy: 0.8319\n",
      "Epoch 3/10\n",
      "177/177 [==============================] - 29s 166ms/step - loss: 0.4375 - accuracy: 0.8174 - val_loss: 0.4013 - val_accuracy: 0.8305\n",
      "Epoch 4/10\n",
      "177/177 [==============================] - 28s 158ms/step - loss: 0.4319 - accuracy: 0.8208 - val_loss: 0.4222 - val_accuracy: 0.8322\n",
      "Epoch 5/10\n",
      "177/177 [==============================] - 29s 165ms/step - loss: 0.4289 - accuracy: 0.8208 - val_loss: 0.3993 - val_accuracy: 0.8294\n",
      "Epoch 6/10\n",
      "177/177 [==============================] - 29s 165ms/step - loss: 0.4256 - accuracy: 0.8236 - val_loss: 0.4035 - val_accuracy: 0.8291\n",
      "Epoch 7/10\n",
      "177/177 [==============================] - 29s 164ms/step - loss: 0.4251 - accuracy: 0.8248 - val_loss: 0.3979 - val_accuracy: 0.8311\n",
      "Epoch 8/10\n",
      "177/177 [==============================] - 28s 159ms/step - loss: 0.4225 - accuracy: 0.8256 - val_loss: 0.3991 - val_accuracy: 0.8285\n",
      "Epoch 9/10\n",
      "177/177 [==============================] - 29s 166ms/step - loss: 0.4222 - accuracy: 0.8217 - val_loss: 0.3976 - val_accuracy: 0.8294\n",
      "Epoch 10/10\n",
      "177/177 [==============================] - 30s 172ms/step - loss: 0.4199 - accuracy: 0.8228 - val_loss: 0.3969 - val_accuracy: 0.8319\n",
      "\n",
      "\n",
      "0.01\n",
      "Epoch 1/10\n"
     ]
    },
    {
     "name": "stderr",
     "output_type": "stream",
     "text": [
      "2023-11-25 17:08:43.409629: I tensorflow/core/common_runtime/executor.cc:1197] [/device:CPU:0] (DEBUG INFO) Executor start aborting (this does not indicate an error and you can ignore this message): INVALID_ARGUMENT: You must feed a value for placeholder tensor 'Placeholder/_0' with dtype int32\n",
      "\t [[{{node Placeholder/_0}}]]\n"
     ]
    },
    {
     "name": "stdout",
     "output_type": "stream",
     "text": [
      "177/177 [==============================] - ETA: 0s - loss: 0.4614 - accuracy: 0.8064"
     ]
    },
    {
     "name": "stderr",
     "output_type": "stream",
     "text": [
      "2023-11-25 17:09:04.470659: I tensorflow/core/common_runtime/executor.cc:1197] [/device:CPU:0] (DEBUG INFO) Executor start aborting (this does not indicate an error and you can ignore this message): INVALID_ARGUMENT: You must feed a value for placeholder tensor 'Placeholder/_0' with dtype int32\n",
      "\t [[{{node Placeholder/_0}}]]\n"
     ]
    },
    {
     "name": "stdout",
     "output_type": "stream",
     "text": [
      "177/177 [==============================] - 30s 167ms/step - loss: 0.4614 - accuracy: 0.8064 - val_loss: 0.4224 - val_accuracy: 0.8285\n",
      "Epoch 2/10\n",
      "177/177 [==============================] - 30s 172ms/step - loss: 0.4397 - accuracy: 0.8202 - val_loss: 0.4151 - val_accuracy: 0.8311\n",
      "Epoch 3/10\n",
      "177/177 [==============================] - 31s 176ms/step - loss: 0.4285 - accuracy: 0.8242 - val_loss: 0.4333 - val_accuracy: 0.8224\n",
      "Epoch 4/10\n",
      "177/177 [==============================] - 31s 175ms/step - loss: 0.4197 - accuracy: 0.8290 - val_loss: 0.4389 - val_accuracy: 0.8221\n",
      "Epoch 5/10\n",
      "177/177 [==============================] - 31s 173ms/step - loss: 0.4121 - accuracy: 0.8310 - val_loss: 0.4966 - val_accuracy: 0.8135\n",
      "Epoch 6/10\n",
      "177/177 [==============================] - 30s 171ms/step - loss: 0.3994 - accuracy: 0.8330 - val_loss: 0.4075 - val_accuracy: 0.8389\n",
      "Epoch 7/10\n",
      "177/177 [==============================] - 31s 176ms/step - loss: 0.3872 - accuracy: 0.8356 - val_loss: 0.3972 - val_accuracy: 0.8366\n",
      "Epoch 8/10\n",
      "177/177 [==============================] - 32s 180ms/step - loss: 0.3730 - accuracy: 0.8460 - val_loss: 0.4077 - val_accuracy: 0.8355\n",
      "Epoch 9/10\n",
      "177/177 [==============================] - 30s 168ms/step - loss: 0.3515 - accuracy: 0.8534 - val_loss: 0.4022 - val_accuracy: 0.8369\n",
      "Epoch 10/10\n",
      "177/177 [==============================] - 31s 173ms/step - loss: 0.3420 - accuracy: 0.8642 - val_loss: 0.4250 - val_accuracy: 0.8422\n",
      "\n",
      "\n",
      "0.1\n",
      "Epoch 1/10\n"
     ]
    },
    {
     "name": "stderr",
     "output_type": "stream",
     "text": [
      "2023-11-25 17:14:30.914610: I tensorflow/core/common_runtime/executor.cc:1197] [/device:CPU:0] (DEBUG INFO) Executor start aborting (this does not indicate an error and you can ignore this message): INVALID_ARGUMENT: You must feed a value for placeholder tensor 'Placeholder/_0' with dtype int32\n",
      "\t [[{{node Placeholder/_0}}]]\n"
     ]
    },
    {
     "name": "stdout",
     "output_type": "stream",
     "text": [
      "177/177 [==============================] - ETA: 0s - loss: 0.5230 - accuracy: 0.7689"
     ]
    },
    {
     "name": "stderr",
     "output_type": "stream",
     "text": [
      "2023-11-25 17:14:54.226608: I tensorflow/core/common_runtime/executor.cc:1197] [/device:CPU:0] (DEBUG INFO) Executor start aborting (this does not indicate an error and you can ignore this message): INVALID_ARGUMENT: You must feed a value for placeholder tensor 'Placeholder/_0' with dtype int32\n",
      "\t [[{{node Placeholder/_0}}]]\n"
     ]
    },
    {
     "name": "stdout",
     "output_type": "stream",
     "text": [
      "177/177 [==============================] - 32s 182ms/step - loss: 0.5230 - accuracy: 0.7689 - val_loss: 0.4915 - val_accuracy: 0.7612\n",
      "Epoch 2/10\n",
      "177/177 [==============================] - 34s 192ms/step - loss: 0.5923 - accuracy: 0.7270 - val_loss: 0.6305 - val_accuracy: 0.6752\n",
      "Epoch 3/10\n",
      "177/177 [==============================] - 32s 180ms/step - loss: 0.6281 - accuracy: 0.6773 - val_loss: 0.6306 - val_accuracy: 0.6752\n",
      "Epoch 4/10\n",
      "177/177 [==============================] - 32s 179ms/step - loss: 0.6299 - accuracy: 0.6796 - val_loss: 0.6315 - val_accuracy: 0.6752\n",
      "Epoch 5/10\n",
      "177/177 [==============================] - 31s 176ms/step - loss: 0.6276 - accuracy: 0.6796 - val_loss: 0.6460 - val_accuracy: 0.6752\n",
      "Epoch 6/10\n",
      "177/177 [==============================] - 31s 176ms/step - loss: 0.6241 - accuracy: 0.6836 - val_loss: 0.6343 - val_accuracy: 0.6752\n",
      "Epoch 7/10\n",
      "177/177 [==============================] - 32s 182ms/step - loss: 0.6292 - accuracy: 0.6796 - val_loss: 0.6307 - val_accuracy: 0.6752\n",
      "Epoch 8/10\n",
      "177/177 [==============================] - 31s 178ms/step - loss: 0.6290 - accuracy: 0.6796 - val_loss: 0.6304 - val_accuracy: 0.6752\n",
      "Epoch 9/10\n",
      "177/177 [==============================] - 31s 175ms/step - loss: 0.6288 - accuracy: 0.6796 - val_loss: 0.6307 - val_accuracy: 0.6752\n",
      "Epoch 10/10\n",
      "177/177 [==============================] - 32s 183ms/step - loss: 0.6286 - accuracy: 0.6796 - val_loss: 0.6307 - val_accuracy: 0.6752\n",
      "\n",
      "\n"
     ]
    }
   ],
   "source": [
    "scores = {}\n",
    "\n",
    "for lr in [0.0001, 0.001, 0.01, 0.1]:\n",
    "    print(lr)\n",
    "\n",
    "    model = create_CNN_model(learning_rate=lr)\n",
    "    history = model.fit(train_ds, epochs=10, validation_data=val_ds)\n",
    "    scores[lr] = history.history\n",
    "\n",
    "    print()\n",
    "    print()"
   ]
  },
  {
   "cell_type": "raw",
   "id": "ff4e1d0a",
   "metadata": {},
   "source": [
    "Clearly 0.1 value is outlier, we won't be considering it \n",
    "\n",
    "I'd stay with 0.01 value since it's giving reasonably high accuracy on val set "
   ]
  },
  {
   "cell_type": "code",
   "execution_count": 56,
   "id": "79a2fbda",
   "metadata": {},
   "outputs": [
    {
     "data": {
      "text/plain": [
       "<matplotlib.legend.Legend at 0x7f8a5c501690>"
      ]
     },
     "execution_count": 56,
     "metadata": {},
     "output_type": "execute_result"
    },
    {
     "data": {
      "image/png": "[encoded data removed]",
      "text/plain": [
       "<Figure size 640x480 with 1 Axes>"
      ]
     },
     "metadata": {},
     "output_type": "display_data"
    }
   ],
   "source": [
    "for lr, hist in scores.items():\n",
    "    plt.plot(hist['accuracy'], label=('train=%s' % lr))\n",
    "    #plt.plot(hist['val_accuracy'], label=('test=%s' % lr))\n",
    "\n",
    "plt.xticks(np.arange(10))\n",
    "plt.legend()"
   ]
  },
  {
   "cell_type": "code",
   "execution_count": 57,
   "id": "656ea624",
   "metadata": {},
   "outputs": [
    {
     "data": {
      "text/plain": [
       "<matplotlib.legend.Legend at 0x7f8a5c784a90>"
      ]
     },
     "execution_count": 57,
     "metadata": {},
     "output_type": "execute_result"
    },
    {
     "data": {
      "image/png": "[encoded data removed]",
      "text/plain": [
       "<Figure size 640x480 with 1 Axes>"
      ]
     },
     "metadata": {},
     "output_type": "display_data"
    }
   ],
   "source": [
    "for lr, hist in scores.items():\n",
    "    #plt.plot(hist['accuracy'], label=('train=%s' % lr))\n",
    "    plt.plot(hist['val_accuracy'], label=('test=%s' % lr))\n",
    "\n",
    "plt.xticks(np.arange(10))\n",
    "plt.legend()"
   ]
  },
  {
   "cell_type": "code",
   "execution_count": null,
   "id": "260eaaa6",
   "metadata": {},
   "outputs": [],
   "source": []
  },
  {
   "cell_type": "code",
   "execution_count": null,
   "id": "3d61a096",
   "metadata": {},
   "outputs": [],
   "source": []
  },
  {
   "cell_type": "code",
   "execution_count": null,
   "id": "4472360f",
   "metadata": {},
   "outputs": [],
   "source": []
  },
  {
   "cell_type": "code",
   "execution_count": null,
   "id": "6f14fdfc",
   "metadata": {},
   "outputs": [],
   "source": []
  },
  {
   "cell_type": "markdown",
   "id": "51b0ec44",
   "metadata": {},
   "source": [
    "# Advancing Model1: dropout"
   ]
  },
  {
   "cell_type": "markdown",
   "id": "7278ea3b",
   "metadata": {},
   "source": [
    "Now let's define a dropout layer and the dropout rate "
   ]
  },
  {
   "cell_type": "code",
   "execution_count": 58,
   "id": "2192780a",
   "metadata": {},
   "outputs": [],
   "source": [
    "def create_CNN_model_advanced(learning_rate = 0.01,  droprate=0.5):\n",
    "    #create model\n",
    "    model = Sequential()\n",
    "\n",
    "    #add model layers\n",
    "    # 32 filters\n",
    "    # kernel size (3,3)\n",
    "    # relu activation\n",
    "    model.add(Conv2D(32, kernel_size=3, activation='relu', input_shape=(150,150,3)))\n",
    "\n",
    "    # pooling: MaxPooling2D \n",
    "    #Set the pooling size to (2, 2)\n",
    "    model.add(MaxPooling2D(pool_size=(2, 2)))\n",
    "\n",
    "    # Turn the multi-dimensional result into vectors using a Flatten layer\n",
    "    model.add(Flatten())\n",
    "\n",
    "    # Next, add a Dense layer with 64 neurons and 'relu' activation \n",
    "    model.add(Dense(64, activation='relu'))\n",
    "    \n",
    "    # Add a dropout layer \n",
    "    model.add(Dropout(droprate))\n",
    "\n",
    "    # Finally, create the Dense layer with 1 neuron - this will be the output \n",
    "    model.add(Dense(1, activation='sigmoid'))\n",
    "\n",
    "    # As optimizer use SGD with the following parameters:\n",
    "    # \n",
    "    opt = keras.optimizers.SGD(learning_rate=learning_rate, momentum=0.8)\n",
    "    loss = keras.losses.BinaryCrossentropy(from_logits=False)\n",
    "\n",
    "    model.compile(optimizer=opt, loss=loss, metrics=['accuracy'])\n",
    "    \n",
    "    return model"
   ]
  },
  {
   "cell_type": "code",
   "execution_count": null,
   "id": "bcc63435",
   "metadata": {},
   "outputs": [
    {
     "name": "stdout",
     "output_type": "stream",
     "text": [
      "0.0\n",
      "Epoch 1/10\n"
     ]
    },
    {
     "name": "stderr",
     "output_type": "stream",
     "text": [
      "2023-11-25 17:25:44.477537: I tensorflow/core/common_runtime/executor.cc:1197] [/device:CPU:0] (DEBUG INFO) Executor start aborting (this does not indicate an error and you can ignore this message): INVALID_ARGUMENT: You must feed a value for placeholder tensor 'Placeholder/_0' with dtype int32\n",
      "\t [[{{node Placeholder/_0}}]]\n"
     ]
    },
    {
     "name": "stdout",
     "output_type": "stream",
     "text": [
      "177/177 [==============================] - ETA: 0s - loss: 0.4665 - accuracy: 0.7998"
     ]
    },
    {
     "name": "stderr",
     "output_type": "stream",
     "text": [
      "2023-11-25 17:26:03.601905: I tensorflow/core/common_runtime/executor.cc:1197] [/device:CPU:0] (DEBUG INFO) Executor start aborting (this does not indicate an error and you can ignore this message): INVALID_ARGUMENT: You must feed a value for placeholder tensor 'Placeholder/_0' with dtype int32\n",
      "\t [[{{node Placeholder/_0}}]]\n"
     ]
    },
    {
     "name": "stdout",
     "output_type": "stream",
     "text": [
      "177/177 [==============================] - 27s 153ms/step - loss: 0.4665 - accuracy: 0.7998 - val_loss: 0.5229 - val_accuracy: 0.7577\n",
      "Epoch 2/10\n",
      "177/177 [==============================] - 29s 164ms/step - loss: 0.4384 - accuracy: 0.8157 - val_loss: 0.5171 - val_accuracy: 0.7608\n",
      "Epoch 3/10\n",
      "177/177 [==============================] - 29s 162ms/step - loss: 0.4261 - accuracy: 0.8217 - val_loss: 0.5520 - val_accuracy: 0.7467\n",
      "Epoch 4/10\n",
      "177/177 [==============================] - 32s 179ms/step - loss: 0.4227 - accuracy: 0.8225 - val_loss: 0.5283 - val_accuracy: 0.7557\n",
      "Epoch 5/10\n",
      "136/177 [======================>.......] - ETA: 5s - loss: 0.4108 - accuracy: 0.8304"
     ]
    }
   ],
   "source": [
    "learning_rate = 0.01\n",
    "\n",
    "scores = {}\n",
    "\n",
    "for droprate in [0.0, 0.2, 0.5, 0.8]:\n",
    "    print(droprate)\n",
    "\n",
    "    model = create_CNN_model_advanced(learning_rate = learning_rate,  \n",
    "                                      droprate=droprate)\n",
    "\n",
    "    history = model.fit(train_ds, epochs=10, validation_data=test_ds)\n",
    "    scores[droprate] = history.history\n",
    "\n",
    "    print()\n",
    "    print()"
   ]
  },
  {
   "cell_type": "code",
   "execution_count": null,
   "id": "2144812c",
   "metadata": {},
   "outputs": [],
   "source": [
    "for droprate, hist in scores.items():\n",
    "    plt.plot(hist['val_accuracy'], label=('val=%s' % droprate))\n",
    "\n",
    "plt.ylim(0.78, 0.86)\n",
    "plt.legend()"
   ]
  },
  {
   "cell_type": "code",
   "execution_count": null,
   "id": "06e225a3",
   "metadata": {},
   "outputs": [],
   "source": [
    "hist = scores[0.0]\n",
    "plt.plot(hist['val_accuracy'], label=0.0)\n",
    "\n",
    "hist = scores[0.2]\n",
    "plt.plot(hist['val_accuracy'], label=0.2)\n",
    "\n",
    "plt.legend()\n",
    "#plt.plot(hist['accuracy'], label=('val=%s' % droprate))"
   ]
  },
  {
   "cell_type": "code",
   "execution_count": null,
   "id": "b2917615",
   "metadata": {},
   "outputs": [],
   "source": []
  },
  {
   "cell_type": "markdown",
   "id": "d8b827b6",
   "metadata": {},
   "source": [
    "# Advancing Model1 further: data augmentation"
   ]
  },
  {
   "cell_type": "code",
   "execution_count": null,
   "id": "5385656c",
   "metadata": {},
   "outputs": [],
   "source": [
    "train_gen = ImageDataGenerator(rescale=1./255,\n",
    "                              rotation_range=50,\n",
    "                               width_shift_range=0.1,\n",
    "                               height_shift_range=0.1,\n",
    "                               zoom_range=0.1,\n",
    "                               horizontal_flip=True,\n",
    "                               fill_mode='nearest')\n",
    "\n",
    "train_ds = train_gen.flow_from_directory(\n",
    "    '/home/triasteran/ML/CapStoneProject1/archive/C-NMC_Leukemia/training_data/fold_0_and_1/',\n",
    "    target_size=(150, 150),\n",
    "    batch_size=20,\n",
    "    shuffle=True,  class_mode='binary'\n",
    ")\n",
    "\n",
    "test_gen = ImageDataGenerator(rescale=1./255, \n",
    "                             rotation_range=50,\n",
    "                              width_shift_range=0.1,\n",
    "                              height_shift_range=0.1,\n",
    "                              zoom_range=0.1,\n",
    "                              horizontal_flip=True,\n",
    "                              fill_mode='nearest')\n",
    "\n",
    "test_ds = test_gen.flow_from_directory(\n",
    "    '/home/triasteran/ML/08-nn/data/test',\n",
    "    target_size=(150, 150),\n",
    "    batch_size=20,\n",
    "    shuffle=True,  class_mode='binary'\n",
    ")"
   ]
  },
  {
   "cell_type": "code",
   "execution_count": null,
   "id": "c83aa863",
   "metadata": {},
   "outputs": [],
   "source": [
    "learning_rate = 0.001\n",
    "droprate = 0.2\n",
    "\n",
    "model = create_CNN_model_advanced(learning_rate = learning_rate,  \n",
    "                                  droprate=droprate)\n",
    "\n",
    "history = model.fit(train_ds, epochs=50, validation_data=val_ds)"
   ]
  },
  {
   "cell_type": "code",
   "execution_count": null,
   "id": "1648d5bc",
   "metadata": {},
   "outputs": [],
   "source": [
    "hist = history.history\n",
    "plt.plot(hist['val_accuracy'], label='val')\n",
    "plt.plot(hist['accuracy'], label='train')\n",
    "\n",
    "plt.legend()"
   ]
  },
  {
   "cell_type": "code",
   "execution_count": null,
   "id": "41f14daa",
   "metadata": {},
   "outputs": [],
   "source": []
  },
  {
   "cell_type": "markdown",
   "id": "78b53d7b",
   "metadata": {},
   "source": [
    "# Now we can find the best performing model via checkpointing "
   ]
  },
  {
   "cell_type": "code",
   "execution_count": null,
   "id": "fbebd24e",
   "metadata": {},
   "outputs": [],
   "source": [
    "chechpoint = keras.callbacks.ModelCheckpoint(\n",
    "    'cnn_v1_{epoch:02d}_{test_accuracy:.3f}.h5',\n",
    "    save_best_only=True,\n",
    "    monitor='test_accuracy',\n",
    "    mode='max'\n",
    ")"
   ]
  },
  {
   "cell_type": "code",
   "execution_count": null,
   "id": "74118568",
   "metadata": {},
   "outputs": [],
   "source": [
    "learning_rate = 0.001\n",
    "droprate = 0.2\n",
    "\n",
    "model = create_CNN_model_advanced(learning_rate = learning_rate,  \n",
    "                                  droprate=droprate)\n",
    "\n",
    "history = model.fit(\n",
    "    train_ds,\n",
    "    epochs=10,\n",
    "    validation_data=test_ds,\n",
    "    callbacks=[chechpoint]\n",
    ")"
   ]
  },
  {
   "cell_type": "code",
   "execution_count": null,
   "id": "21deac18",
   "metadata": {},
   "outputs": [],
   "source": []
  },
  {
   "cell_type": "markdown",
   "id": "d2109425",
   "metadata": {},
   "source": [
    "# Now we can use the model "
   ]
  },
  {
   "cell_type": "code",
   "execution_count": null,
   "id": "537f8acf",
   "metadata": {},
   "outputs": [],
   "source": []
  },
  {
   "cell_type": "code",
   "execution_count": null,
   "id": "ff651ef9",
   "metadata": {},
   "outputs": [],
   "source": []
  },
  {
   "cell_type": "code",
   "execution_count": null,
   "id": "a9cd5049",
   "metadata": {},
   "outputs": [],
   "source": []
  },
  {
   "cell_type": "code",
   "execution_count": null,
   "id": "33e928b9",
   "metadata": {},
   "outputs": [],
   "source": []
  },
  {
   "cell_type": "markdown",
   "id": "7fa21fa5",
   "metadata": {},
   "source": [
    "# Let's try other approached for image recognition: "
   ]
  },
  {
   "cell_type": "code",
   "execution_count": null,
   "id": "bf2ac6c9",
   "metadata": {},
   "outputs": [],
   "source": [
    "test_gen = ImageDataGenerator(rescale=1./255)\n",
    "\n",
    "test_ds = test_gen.flow_from_directory(\n",
    "    '/home/triasteran/ML/CapStoneProject1/archive/C-NMC_Leukemia/training_data/fold_2/',\n",
    "    target_size=(150, 150),\n",
    "    batch_size=20,\n",
    "    shuffle=True,  class_mode='binary'\n",
    ")"
   ]
  },
  {
   "cell_type": "code",
   "execution_count": null,
   "id": "d301920a",
   "metadata": {},
   "outputs": [],
   "source": []
  },
  {
   "cell_type": "code",
   "execution_count": null,
   "id": "c085a4a2",
   "metadata": {},
   "outputs": [],
   "source": []
  },
  {
   "cell_type": "code",
   "execution_count": null,
   "id": "c85c36a9",
   "metadata": {},
   "outputs": [],
   "source": []
  }
 ],
 "metadata": {
  "kernelspec": {
   "display_name": "Python 3 (ipykernel)",
   "language": "python",
   "name": "python3"
  },
  "language_info": {
   "codemirror_mode": {
    "name": "ipython",
    "version": 3
   },
   "file_extension": ".py",
   "mimetype": "text/x-python",
   "name": "python",
   "nbconvert_exporter": "python",
   "pygments_lexer": "ipython3",
   "version": "3.11.4"
  }
 },
 "nbformat": 4,
 "nbformat_minor": 5
}
