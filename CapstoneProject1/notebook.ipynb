{
 "cells": [
  {
   "cell_type": "markdown",
   "id": "e479ebee-6b08-4e92-abba-819054444dd2",
   "metadata": {},
   "source": [
    "# Import libraries "
   ]
  },
  {
   "cell_type": "code",
   "execution_count": 34,
   "id": "b95eaad8-96c5-47ce-ae5f-39b14074f415",
   "metadata": {},
   "outputs": [],
   "source": [
    "import numpy as np\n",
    "import matplotlib.pyplot as plt\n",
    "import glob\n",
    "\n",
    "import requests\n",
    "from PIL import Image\n",
    "from io import BytesIO\n",
    "\n",
    "import tensorflow as tf\n",
    "from tensorflow import keras\n",
    "\n",
    "from tensorflow.keras.preprocessing.image import load_img\n",
    "from tensorflow.keras.preprocessing.image import ImageDataGenerator\n",
    "\n",
    "from keras.models import Sequential\n",
    "\n",
    "from tensorflow.keras.preprocessing.image import ImageDataGenerator\n",
    "from tensorflow.keras.layers import Conv2D, MaxPooling2D, Flatten, Dense, Activation, Dropout, BatchNormalization\n",
    "from tensorflow.keras.optimizers import Adam, Adamax\n",
    "\n",
    "%matplotlib inline"
   ]
  },
  {
   "cell_type": "code",
   "execution_count": 35,
   "id": "3e8c043b-5b74-414f-8312-9bf0c5812c96",
   "metadata": {},
   "outputs": [],
   "source": [
    "from sklearn.model_selection import cross_val_score,cross_val_predict\n",
    "from sklearn.ensemble import RandomForestClassifier\n",
    "from sklearn.naive_bayes import GaussianNB\n",
    "from sklearn.metrics import confusion_matrix\n",
    "from sklearn.metrics import f1_score,precision_score,recall_score,accuracy_score\n",
    "from sklearn.model_selection import GridSearchCV"
   ]
  },
  {
   "cell_type": "code",
   "execution_count": null,
   "id": "cbfde54a-ba36-4c32-953f-c3a48185be43",
   "metadata": {},
   "outputs": [],
   "source": []
  },
  {
   "cell_type": "markdown",
   "id": "6a474e85-f578-4639-a057-6dc8f4ffb126",
   "metadata": {},
   "source": [
    "# Data preparation (binary classification)"
   ]
  },
  {
   "cell_type": "markdown",
   "id": "056825e7-5adc-4e59-a70e-96e0510016fa",
   "metadata": {},
   "source": [
    "## let's have a look at images "
   ]
  },
  {
   "cell_type": "code",
   "execution_count": 36,
   "id": "b7f782fd-6b3b-488e-a2e9-0bc8080c2e23",
   "metadata": {},
   "outputs": [
    {
     "data": {
      "image/png": "[encoded data removed]",
      "text/plain": [
       "<PIL.Image.Image image mode=RGB size=150x150 at 0x7F58CE0D3850>"
      ]
     },
     "execution_count": 36,
     "metadata": {},
     "output_type": "execute_result"
    }
   ],
   "source": [
    "path = '/home/alla/ML/CapstoneProject1/archive/C-NMC_Leukemia/testing_data/C-NMC_test_final_phase_data'\n",
    "name = '1000.bmp'\n",
    "fullname = f'{path}/{name}'\n",
    "img = load_img(fullname, target_size=(150, 150))\n",
    "img"
   ]
  },
  {
   "cell_type": "code",
   "execution_count": 37,
   "id": "37b085d7-fb46-41e6-9ce0-06e38f979f1a",
   "metadata": {},
   "outputs": [
    {
     "data": {
      "image/png": "[encoded data removed]",
      "text/plain": [
       "<PIL.Image.Image image mode=RGB size=150x150 at 0x7F597B844790>"
      ]
     },
     "execution_count": 37,
     "metadata": {},
     "output_type": "execute_result"
    }
   ],
   "source": [
    "path = '/home/alla/ML/CapstoneProject1/archive/C-NMC_Leukemia/testing_data/C-NMC_test_final_phase_data'\n",
    "name = '1005.bmp'\n",
    "fullname = f'{path}/{name}'\n",
    "img = load_img(fullname, target_size=(150, 150))\n",
    "img"
   ]
  },
  {
   "cell_type": "code",
   "execution_count": null,
   "id": "25e7841d-d87e-4c71-88d5-8afae9dc73c7",
   "metadata": {},
   "outputs": [],
   "source": []
  },
  {
   "cell_type": "markdown",
   "id": "2eb90c27-42cf-4150-b344-8c78105f886d",
   "metadata": {},
   "source": [
    "## Now we prepare the images - scale them (1./255) and shrink to (150, 150) size"
   ]
  },
  {
   "cell_type": "code",
   "execution_count": 38,
   "id": "47a3d6dd-e8c0-43b0-a024-254783ba5574",
   "metadata": {},
   "outputs": [
    {
     "name": "stdout",
     "output_type": "stream",
     "text": [
      "Found 3527 images belonging to 2 classes.\n"
     ]
    }
   ],
   "source": [
    "train_gen = ImageDataGenerator(rescale=1./255)\n",
    "\n",
    "train_ds = train_gen.flow_from_directory(\n",
    "    '/home/alla/ML/CapstoneProject1/archive/C-NMC_Leukemia/training_data/fold_0/',\n",
    "    target_size=(150, 150),\n",
    "    batch_size=20,\n",
    "    shuffle=True,  class_mode='binary'\n",
    ")"
   ]
  },
  {
   "cell_type": "code",
   "execution_count": 39,
   "id": "edf84348-df74-4e40-8c40-07e922aae3c3",
   "metadata": {},
   "outputs": [
    {
     "name": "stdout",
     "output_type": "stream",
     "text": [
      "Found 3581 images belonging to 2 classes.\n"
     ]
    }
   ],
   "source": [
    "val_gen = ImageDataGenerator(rescale=1./255)\n",
    "\n",
    "val_ds = val_gen.flow_from_directory(\n",
    "    '/home/alla/ML/CapstoneProject1/archive/C-NMC_Leukemia/training_data/fold_1/',\n",
    "    target_size=(150, 150),\n",
    "    batch_size=20,\n",
    "    shuffle=True,  class_mode='binary'\n",
    ")"
   ]
  },
  {
   "cell_type": "code",
   "execution_count": 40,
   "id": "6b7e1b72-aa4f-40f5-88d1-9399a1f017b5",
   "metadata": {},
   "outputs": [
    {
     "name": "stdout",
     "output_type": "stream",
     "text": [
      "Found 3553 images belonging to 2 classes.\n"
     ]
    }
   ],
   "source": [
    "test_gen = ImageDataGenerator(rescale=1./255, \n",
    "                             rotation_range=50,\n",
    "                              width_shift_range=0.1,\n",
    "                              height_shift_range=0.1,\n",
    "                              zoom_range=0.1,\n",
    "                              horizontal_flip=True,\n",
    "                              fill_mode='nearest')\n",
    "\n",
    "test_ds = test_gen.flow_from_directory(\n",
    "    '/home/alla/ML/CapstoneProject1/archive/C-NMC_Leukemia/training_data/fold_2/',\n",
    "    target_size=(150, 150),\n",
    "    batch_size=20,\n",
    "    shuffle=True,  class_mode='binary'\n",
    ")"
   ]
  },
  {
   "cell_type": "code",
   "execution_count": null,
   "id": "a295d47e-142b-4201-9645-46decf555675",
   "metadata": {},
   "outputs": [],
   "source": []
  },
  {
   "cell_type": "markdown",
   "id": "b91a8926-6ae0-406f-ab28-f66cff9d2a35",
   "metadata": {},
   "source": [
    "# Model 1: simple convolutional neural network"
   ]
  },
  {
   "cell_type": "code",
   "execution_count": 44,
   "id": "20d0e15f-e4c2-40d2-a08b-fe76bc39af37",
   "metadata": {},
   "outputs": [],
   "source": [
    "model = Sequential()\n",
    "\n",
    "model.add(Conv2D(32, (3, 3), activation='relu',\n",
    "                        input_shape=(150, 150, 3)))\n",
    "\n",
    "model.add(MaxPooling2D((2, 2)))\n",
    "\n",
    "model.add(Flatten())\n",
    "\n",
    "model.add(Dense(64, activation='relu'))\n",
    "\n",
    "model.add(Dense(1, activation='sigmoid'))\n",
    "\n",
    "model.compile(loss='binary_crossentropy',\n",
    "             optimizer=keras.optimizers.SGD(learning_rate=0.002, momentum=0.8),\\\n",
    "             metrics=['acc'])"
   ]
  },
  {
   "cell_type": "code",
   "execution_count": 45,
   "id": "97c3ae9b-3667-4cb4-8b46-d5eecc5e4aa5",
   "metadata": {},
   "outputs": [
    {
     "name": "stdout",
     "output_type": "stream",
     "text": [
      "Epoch 1/10\n",
      "177/177 [==============================] - 36s 203ms/step - loss: 0.4780 - acc: 0.7874 - val_loss: 0.4010 - val_acc: 0.8350\n",
      "Epoch 2/10\n",
      "177/177 [==============================] - 36s 204ms/step - loss: 0.4371 - acc: 0.8214 - val_loss: 0.4232 - val_acc: 0.8308\n",
      "Epoch 3/10\n",
      "177/177 [==============================] - 38s 214ms/step - loss: 0.4347 - acc: 0.8191 - val_loss: 0.4012 - val_acc: 0.8266\n",
      "Epoch 4/10\n",
      "177/177 [==============================] - 39s 221ms/step - loss: 0.4269 - acc: 0.8208 - val_loss: 0.4284 - val_acc: 0.8257\n",
      "Epoch 5/10\n",
      "177/177 [==============================] - 37s 211ms/step - loss: 0.4298 - acc: 0.8174 - val_loss: 0.3982 - val_acc: 0.8311\n",
      "Epoch 6/10\n",
      "177/177 [==============================] - 38s 216ms/step - loss: 0.4234 - acc: 0.8211 - val_loss: 0.3997 - val_acc: 0.8283\n",
      "Epoch 7/10\n",
      "177/177 [==============================] - 38s 214ms/step - loss: 0.4222 - acc: 0.8236 - val_loss: 0.4110 - val_acc: 0.8294\n",
      "Epoch 8/10\n",
      "177/177 [==============================] - 39s 219ms/step - loss: 0.4218 - acc: 0.8248 - val_loss: 0.4163 - val_acc: 0.8288\n",
      "Epoch 9/10\n",
      "177/177 [==============================] - 38s 212ms/step - loss: 0.4176 - acc: 0.8234 - val_loss: 0.3973 - val_acc: 0.8324\n",
      "Epoch 10/10\n",
      "177/177 [==============================] - 39s 218ms/step - loss: 0.4145 - acc: 0.8225 - val_loss: 0.4024 - val_acc: 0.8269\n"
     ]
    }
   ],
   "source": [
    "history = model.fit(\n",
    "    train_ds,\n",
    "    epochs=10,\n",
    "    validation_data=val_ds\n",
    ")"
   ]
  },
  {
   "cell_type": "code",
   "execution_count": 66,
   "id": "e1417a4e-770c-4586-a0ed-fb0246e02b06",
   "metadata": {},
   "outputs": [
    {
     "data": {
      "text/plain": [
       "<matplotlib.legend.Legend at 0x7f959e293490>"
      ]
     },
     "execution_count": 66,
     "metadata": {},
     "output_type": "execute_result"
    },
    {
     "data": {
      "image/png": "[encoded data removed]",
      "text/plain": [
       "<Figure size 640x480 with 1 Axes>"
      ]
     },
     "metadata": {},
     "output_type": "display_data"
    }
   ],
   "source": [
    "hist = history.history\n",
    "plt.plot(hist['val_acc'], label='val')\n",
    "plt.plot(hist['acc'], label='train')\n",
    "\n",
    "plt.legend()"
   ]
  },
  {
   "cell_type": "code",
   "execution_count": 67,
   "id": "043bbf43-ef3e-4e44-81eb-88865d1b9957",
   "metadata": {},
   "outputs": [
    {
     "data": {
      "text/plain": [
       "{'all': 0, 'hem': 1}"
      ]
     },
     "execution_count": 67,
     "metadata": {},
     "output_type": "execute_result"
    }
   ],
   "source": [
    "train_ds.class_indices"
   ]
  },
  {
   "cell_type": "code",
   "execution_count": 68,
   "id": "47464c3a-58b9-4bfc-ba00-5ea1a4955360",
   "metadata": {},
   "outputs": [
    {
     "data": {
      "text/plain": [
       "['loss', 'acc']"
      ]
     },
     "execution_count": 68,
     "metadata": {},
     "output_type": "execute_result"
    }
   ],
   "source": [
    "model.metrics_names"
   ]
  },
  {
   "cell_type": "code",
   "execution_count": 65,
   "id": "f6937671-5ef6-4f0d-95f1-3c2abde004c5",
   "metadata": {},
   "outputs": [
    {
     "name": "stdout",
     "output_type": "stream",
     "text": [
      "178/178 [==============================] - 46s 261ms/step - loss: 0.6352 - acc: 0.6513\n"
     ]
    },
    {
     "data": {
      "text/plain": [
       "[0.6351622939109802, 0.6512805819511414]"
      ]
     },
     "execution_count": 65,
     "metadata": {},
     "output_type": "execute_result"
    }
   ],
   "source": [
    "# loss and accuracy \n",
    "# model.metrics_names\n",
    "model.evaluate(test_ds)"
   ]
  },
  {
   "cell_type": "code",
   "execution_count": 71,
   "id": "f98a98c2-9ba7-42a1-9b5f-70b4346ddd61",
   "metadata": {},
   "outputs": [
    {
     "name": "stdout",
     "output_type": "stream",
     "text": [
      "1/1 [==============================] - 0s 27ms/step\n"
     ]
    },
    {
     "data": {
      "text/plain": [
       "{'hem': 0.0, 'all': 1.0}"
      ]
     },
     "execution_count": 71,
     "metadata": {},
     "output_type": "execute_result"
    }
   ],
   "source": [
    "# HEM\n",
    "sample_path = 'https://raw.githubusercontent.com/triasteran/Machine-Learning-Zoomcamp-2023/b9f4faf7b04311b191b7fa12ab3fedabf9825d69/CapstoneProject1/tests/UID_h3_6_1_hem.bmp'\n",
    "    \n",
    "response = requests.get(sample_path)   \n",
    "\n",
    "img = Image.open(BytesIO(response.content)).resize((150, 150),Image.NEAREST)\n",
    "\n",
    "\n",
    "# preprocess it \n",
    "x = np.array(img, dtype='float32')\n",
    "X = np.array([x])\n",
    "X = X/ (1./255)\n",
    "\n",
    "# now use the model to predict a class \n",
    "pred = model.predict(X)[0]\n",
    "\n",
    "res = {'hem':pred[0], 'all':1-pred[0]}\n",
    "\n",
    "res"
   ]
  },
  {
   "cell_type": "code",
   "execution_count": 72,
   "id": "82252a7c-4c9b-4b16-8da1-4c3d1a53bc73",
   "metadata": {},
   "outputs": [
    {
     "name": "stdout",
     "output_type": "stream",
     "text": [
      "1/1 [==============================] - 0s 32ms/step\n"
     ]
    },
    {
     "data": {
      "text/plain": [
       "{'hem': 0.051099427, 'all': 0.9489005729556084}"
      ]
     },
     "execution_count": 72,
     "metadata": {},
     "output_type": "execute_result"
    }
   ],
   "source": [
    "# ALL\n",
    "sample_path = 'https://raw.githubusercontent.com/triasteran/Machine-Learning-Zoomcamp-2023/b9f4faf7b04311b191b7fa12ab3fedabf9825d69/CapstoneProject1/tests/UID_78_9_7_all.bmp'\n",
    "    \n",
    "response = requests.get(sample_path)   \n",
    "\n",
    "img = Image.open(BytesIO(response.content)).resize((150, 150),Image.NEAREST)\n",
    "\n",
    "\n",
    "# preprocess it \n",
    "x = np.array(img, dtype='float32')\n",
    "X = np.array([x])\n",
    "X = X/255\n",
    "\n",
    "# now use the model to predict a class \n",
    "pred = model.predict(X)[0]\n",
    "\n",
    "res = {'hem':pred[0], 'all':1-pred[0]}\n",
    "\n",
    "res"
   ]
  },
  {
   "cell_type": "code",
   "execution_count": 60,
   "id": "c2de19df-4368-48f1-a9ef-b0a5786c5a07",
   "metadata": {},
   "outputs": [],
   "source": [
    "!# ls /home/alla/ML/CapstoneProject1/archive/C-NMC_Leukemia/training_data/fold_2/all"
   ]
  },
  {
   "cell_type": "code",
   "execution_count": 73,
   "id": "2c96903d-cb9e-4f00-9528-8b70b6032c1b",
   "metadata": {},
   "outputs": [],
   "source": [
    "main_path = '/home/alla/ML/CapstoneProject1/archive/C-NMC_Leukemia/training_data/fold_2/'\n",
    "hem_test = main_path + '/' + 'hem/'+ 'UID_H1_25_1_hem.bmp'\n",
    "all_test = main_path + '/' + 'all/'+ 'UID_67_16_4_all.bmp'"
   ]
  },
  {
   "cell_type": "code",
   "execution_count": 74,
   "id": "26704082-34dd-47ad-8284-e2b6f48fa135",
   "metadata": {},
   "outputs": [
    {
     "name": "stdout",
     "output_type": "stream",
     "text": [
      "1/1 [==============================] - 0s 19ms/step\n"
     ]
    },
    {
     "data": {
      "text/plain": [
       "{'hem': 1.0, 'all': 0.0}"
      ]
     },
     "execution_count": 74,
     "metadata": {},
     "output_type": "execute_result"
    }
   ],
   "source": [
    "def preprocess_input(x):\n",
    "    x /= 1./255\n",
    "    return x\n",
    "\n",
    "with Image.open(hem_test) as img:\n",
    "    img = img.resize((150, 150), Image.NEAREST)\n",
    "\n",
    "x = np.array(img, dtype='float32')\n",
    "X = np.array([x])\n",
    "\n",
    "X = preprocess_input(X)\n",
    "\n",
    "pred = model.predict(X)[0]\n",
    "\n",
    "# HEM prob \n",
    "\n",
    "res = {'hem':pred[0], 'all':1-pred[0]}\n",
    "\n",
    "res"
   ]
  },
  {
   "cell_type": "code",
   "execution_count": 75,
   "id": "7b008764-ffda-4dac-bc48-70c99b77fb93",
   "metadata": {},
   "outputs": [
    {
     "name": "stdout",
     "output_type": "stream",
     "text": [
      "1/1 [==============================] - 0s 26ms/step\n"
     ]
    },
    {
     "data": {
      "text/plain": [
       "{'hem': 0.0, 'all': 1.0}"
      ]
     },
     "execution_count": 75,
     "metadata": {},
     "output_type": "execute_result"
    }
   ],
   "source": [
    "with Image.open(all_test) as img:\n",
    "    img = img.resize((150, 150), Image.NEAREST)\n",
    "\n",
    "x = np.array(img, dtype='float32')\n",
    "X = np.array([x])\n",
    "\n",
    "X = preprocess_input(X)\n",
    "\n",
    "pred = model.predict(X)[0]\n",
    "\n",
    "res = {'hem':pred[0], 'all':1-pred[0]}\n",
    "\n",
    "res"
   ]
  },
  {
   "cell_type": "code",
   "execution_count": null,
   "id": "d348dc6e-ef54-4949-836a-f27f8665af35",
   "metadata": {},
   "outputs": [],
   "source": []
  },
  {
   "cell_type": "markdown",
   "id": "b2197618-52bd-4bfb-9354-535ee4eab54d",
   "metadata": {},
   "source": [
    "# Model1: adjusting learning rate "
   ]
  },
  {
   "cell_type": "code",
   "execution_count": 76,
   "id": "d5cf1c7a-fd82-4901-961a-10b2b24c30c6",
   "metadata": {},
   "outputs": [],
   "source": [
    "def create_CNN_model(learning_rate = 0.001):\n",
    "\n",
    "    model = Sequential()\n",
    "\n",
    "    model.add(Conv2D(32, (3, 3), activation='relu',\n",
    "                        input_shape=(150, 150, 3)))\n",
    "\n",
    "    model.add(MaxPooling2D((2, 2)))\n",
    "\n",
    "    model.add(Flatten())\n",
    "\n",
    "    model.add(Dense(64, activation='relu'))\n",
    "\n",
    "    model.add(Dense(1, activation='sigmoid'))\n",
    "\n",
    "    model.compile(loss='binary_crossentropy',\n",
    "             optimizer=keras.optimizers.SGD(learning_rate=learning_rate, momentum=0.8),\n",
    "             metrics=['acc'])\n",
    "    \n",
    "    return model"
   ]
  },
  {
   "cell_type": "code",
   "execution_count": 77,
   "id": "9dbf9811-7c4c-45de-ab93-a54f90275a86",
   "metadata": {},
   "outputs": [
    {
     "name": "stdout",
     "output_type": "stream",
     "text": [
      "0.0001\n",
      "Epoch 1/10\n",
      "177/177 [==============================] - 40s 225ms/step - loss: 0.5848 - acc: 0.6756 - val_loss: 0.5232 - val_acc: 0.6752\n",
      "Epoch 2/10\n",
      "177/177 [==============================] - 41s 228ms/step - loss: 0.5230 - acc: 0.6932 - val_loss: 0.4815 - val_acc: 0.7738\n",
      "Epoch 3/10\n",
      "177/177 [==============================] - 40s 224ms/step - loss: 0.4934 - acc: 0.7888 - val_loss: 0.4532 - val_acc: 0.8168\n",
      "Epoch 4/10\n",
      "177/177 [==============================] - 40s 224ms/step - loss: 0.4736 - acc: 0.8149 - val_loss: 0.4369 - val_acc: 0.8257\n",
      "Epoch 5/10\n",
      "177/177 [==============================] - 41s 231ms/step - loss: 0.4616 - acc: 0.8225 - val_loss: 0.4249 - val_acc: 0.8319\n",
      "Epoch 6/10\n",
      "177/177 [==============================] - 40s 224ms/step - loss: 0.4539 - acc: 0.8205 - val_loss: 0.4205 - val_acc: 0.8308\n",
      "Epoch 7/10\n",
      "177/177 [==============================] - 41s 230ms/step - loss: 0.4488 - acc: 0.8202 - val_loss: 0.4129 - val_acc: 0.8338\n",
      "Epoch 8/10\n",
      "177/177 [==============================] - 39s 222ms/step - loss: 0.4452 - acc: 0.8200 - val_loss: 0.4102 - val_acc: 0.8341\n",
      "Epoch 9/10\n",
      "177/177 [==============================] - 39s 222ms/step - loss: 0.4421 - acc: 0.8214 - val_loss: 0.4090 - val_acc: 0.8330\n",
      "Epoch 10/10\n",
      "177/177 [==============================] - 39s 221ms/step - loss: 0.4400 - acc: 0.8214 - val_loss: 0.4051 - val_acc: 0.8347\n",
      "\n",
      "\n",
      "0.001\n",
      "Epoch 1/10\n",
      "177/177 [==============================] - 38s 215ms/step - loss: 0.5031 - acc: 0.7650 - val_loss: 0.4124 - val_acc: 0.8319\n",
      "Epoch 2/10\n",
      "177/177 [==============================] - 37s 207ms/step - loss: 0.4397 - acc: 0.8205 - val_loss: 0.4005 - val_acc: 0.8358\n",
      "Epoch 3/10\n",
      "177/177 [==============================] - 36s 205ms/step - loss: 0.4337 - acc: 0.8205 - val_loss: 0.3974 - val_acc: 0.8352\n",
      "Epoch 4/10\n",
      "177/177 [==============================] - 37s 207ms/step - loss: 0.4293 - acc: 0.8205 - val_loss: 0.4043 - val_acc: 0.8291\n",
      "Epoch 5/10\n",
      "177/177 [==============================] - 36s 204ms/step - loss: 0.4264 - acc: 0.8205 - val_loss: 0.3977 - val_acc: 0.8319\n",
      "Epoch 6/10\n",
      "177/177 [==============================] - 36s 204ms/step - loss: 0.4242 - acc: 0.8225 - val_loss: 0.4005 - val_acc: 0.8288\n",
      "Epoch 7/10\n",
      "177/177 [==============================] - 37s 211ms/step - loss: 0.4252 - acc: 0.8217 - val_loss: 0.3970 - val_acc: 0.8313\n",
      "Epoch 8/10\n",
      "177/177 [==============================] - 38s 214ms/step - loss: 0.4209 - acc: 0.8225 - val_loss: 0.4027 - val_acc: 0.8283\n",
      "Epoch 9/10\n",
      "177/177 [==============================] - 37s 211ms/step - loss: 0.4195 - acc: 0.8256 - val_loss: 0.3954 - val_acc: 0.8324\n",
      "Epoch 10/10\n",
      "177/177 [==============================] - 37s 209ms/step - loss: 0.4198 - acc: 0.8242 - val_loss: 0.3948 - val_acc: 0.8330\n",
      "\n",
      "\n",
      "0.01\n",
      "Epoch 1/10\n",
      "177/177 [==============================] - 36s 201ms/step - loss: 0.4661 - acc: 0.8010 - val_loss: 0.4316 - val_acc: 0.8185\n",
      "Epoch 2/10\n",
      "177/177 [==============================] - 36s 202ms/step - loss: 0.4359 - acc: 0.8154 - val_loss: 0.4188 - val_acc: 0.8288\n",
      "Epoch 3/10\n",
      "177/177 [==============================] - 37s 207ms/step - loss: 0.4306 - acc: 0.8188 - val_loss: 0.4102 - val_acc: 0.8291\n",
      "Epoch 4/10\n",
      "177/177 [==============================] - 36s 203ms/step - loss: 0.4220 - acc: 0.8242 - val_loss: 0.4412 - val_acc: 0.8227\n",
      "Epoch 5/10\n",
      "177/177 [==============================] - 36s 203ms/step - loss: 0.4133 - acc: 0.8290 - val_loss: 0.4025 - val_acc: 0.8297\n",
      "Epoch 6/10\n",
      "177/177 [==============================] - 36s 205ms/step - loss: 0.4037 - acc: 0.8282 - val_loss: 0.4175 - val_acc: 0.8369\n",
      "Epoch 7/10\n",
      "177/177 [==============================] - 36s 205ms/step - loss: 0.3972 - acc: 0.8341 - val_loss: 0.4108 - val_acc: 0.8302\n",
      "Epoch 8/10\n",
      "177/177 [==============================] - 37s 207ms/step - loss: 0.3808 - acc: 0.8392 - val_loss: 0.4289 - val_acc: 0.8260\n",
      "Epoch 9/10\n",
      "177/177 [==============================] - 36s 206ms/step - loss: 0.3693 - acc: 0.8463 - val_loss: 0.3989 - val_acc: 0.8419\n",
      "Epoch 10/10\n",
      "177/177 [==============================] - 37s 210ms/step - loss: 0.3529 - acc: 0.8534 - val_loss: 0.4073 - val_acc: 0.8350\n",
      "\n",
      "\n",
      "0.1\n",
      "Epoch 1/10\n",
      "177/177 [==============================] - 36s 200ms/step - loss: 0.6659 - acc: 0.7298 - val_loss: 0.5843 - val_acc: 0.6761\n",
      "Epoch 2/10\n",
      "177/177 [==============================] - 35s 200ms/step - loss: 0.6895 - acc: 0.6776 - val_loss: 0.6396 - val_acc: 0.6752\n",
      "Epoch 3/10\n",
      "177/177 [==============================] - 37s 211ms/step - loss: 0.6302 - acc: 0.6793 - val_loss: 0.5766 - val_acc: 0.6752\n",
      "Epoch 4/10\n",
      "177/177 [==============================] - 37s 210ms/step - loss: 0.6221 - acc: 0.6895 - val_loss: 0.6322 - val_acc: 0.6752\n",
      "Epoch 5/10\n",
      "177/177 [==============================] - 38s 214ms/step - loss: 0.6309 - acc: 0.6796 - val_loss: 0.6330 - val_acc: 0.6752\n",
      "Epoch 6/10\n",
      "177/177 [==============================] - 38s 212ms/step - loss: 0.6281 - acc: 0.6796 - val_loss: 0.6323 - val_acc: 0.6752\n",
      "Epoch 7/10\n",
      "177/177 [==============================] - 38s 217ms/step - loss: 0.6289 - acc: 0.6796 - val_loss: 0.6315 - val_acc: 0.6752\n",
      "Epoch 8/10\n",
      "177/177 [==============================] - 38s 213ms/step - loss: 0.6285 - acc: 0.6796 - val_loss: 0.6310 - val_acc: 0.6752\n",
      "Epoch 9/10\n",
      "177/177 [==============================] - 39s 218ms/step - loss: 0.6285 - acc: 0.6796 - val_loss: 0.6304 - val_acc: 0.6752\n",
      "Epoch 10/10\n",
      "177/177 [==============================] - 38s 215ms/step - loss: 0.6285 - acc: 0.6796 - val_loss: 0.6306 - val_acc: 0.6752\n",
      "\n",
      "\n"
     ]
    }
   ],
   "source": [
    "scores = {}\n",
    "\n",
    "for lr in [0.0001, 0.001, 0.01, 0.1]:\n",
    "    print(lr)\n",
    "\n",
    "    model = create_CNN_model(learning_rate=lr)\n",
    "    history = model.fit(train_ds, epochs=10, validation_data=val_ds)\n",
    "    scores[lr] = history.history\n",
    "\n",
    "    print()\n",
    "    print()"
   ]
  },
  {
   "cell_type": "code",
   "execution_count": 79,
   "id": "c781376b-b3c8-484f-a42e-a29a54f89180",
   "metadata": {},
   "outputs": [
    {
     "data": {
      "text/plain": [
       "<matplotlib.legend.Legend at 0x7f959da355b0>"
      ]
     },
     "execution_count": 79,
     "metadata": {},
     "output_type": "execute_result"
    },
    {
     "data": {
      "image/png": "[encoded data removed]",
      "text/plain": [
       "<Figure size 640x480 with 1 Axes>"
      ]
     },
     "metadata": {},
     "output_type": "display_data"
    }
   ],
   "source": [
    "for lr, hist in scores.items():\n",
    "    plt.plot(hist['acc'], label=('train=%s' % lr))\n",
    "    #plt.plot(hist['val_accuracy'], label=('test=%s' % lr))\n",
    "\n",
    "plt.xticks(np.arange(10))\n",
    "plt.legend()"
   ]
  },
  {
   "cell_type": "code",
   "execution_count": 80,
   "id": "3581bc25-2b3d-4fd4-a054-cd09132c2860",
   "metadata": {},
   "outputs": [
    {
     "data": {
      "text/plain": [
       "<matplotlib.legend.Legend at 0x7f96588339d0>"
      ]
     },
     "execution_count": 80,
     "metadata": {},
     "output_type": "execute_result"
    },
    {
     "data": {
      "image/png": "[encoded data removed]",
      "text/plain": [
       "<Figure size 640x480 with 1 Axes>"
      ]
     },
     "metadata": {},
     "output_type": "display_data"
    }
   ],
   "source": [
    "for lr, hist in scores.items():\n",
    "    #plt.plot(hist['accuracy'], label=('train=%s' % lr))\n",
    "    plt.plot(hist['val_acc'], label=('test=%s' % lr))\n",
    "\n",
    "plt.xticks(np.arange(10))\n",
    "plt.legend()"
   ]
  },
  {
   "cell_type": "code",
   "execution_count": null,
   "id": "3af106e5-1ee0-4bd6-987c-fbf8c7d5b9e7",
   "metadata": {},
   "outputs": [],
   "source": []
  },
  {
   "cell_type": "markdown",
   "id": "7f488bd3-94cf-4ee0-9005-5a96a8a9384f",
   "metadata": {},
   "source": [
    "\n",
    "# Advancing Model1: dropout"
   ]
  },
  {
   "cell_type": "code",
   "execution_count": 81,
   "id": "47e21d57-757a-4470-a1da-f82c759e8367",
   "metadata": {},
   "outputs": [],
   "source": [
    "def create_CNN_model_advanced(learning_rate = 0.01,  droprate=0.5):\n",
    "\n",
    "    model = Sequential()\n",
    "\n",
    "    model.add(Conv2D(32, (3, 3), activation='relu',\n",
    "                        input_shape=(150, 150, 3)))\n",
    "\n",
    "    model.add(MaxPooling2D((2, 2)))\n",
    "\n",
    "    model.add(Flatten())\n",
    "\n",
    "    model.add(Dense(64, activation='relu'))\n",
    "\n",
    "    model.add(Dropout(droprate))\n",
    "\n",
    "    model.add(Dense(1, activation='sigmoid'))\n",
    "\n",
    "    model.compile(loss='binary_crossentropy',\n",
    "             optimizer=keras.optimizers.SGD(learning_rate=learning_rate, momentum=0.8),\n",
    "             metrics=['acc'])\n",
    "    \n",
    "    return model"
   ]
  },
  {
   "cell_type": "code",
   "execution_count": 82,
   "id": "8aa07db7-5bf1-4002-b34c-7124e68f7381",
   "metadata": {},
   "outputs": [
    {
     "name": "stdout",
     "output_type": "stream",
     "text": [
      "0.0\n",
      "Epoch 1/10\n",
      "177/177 [==============================] - 70s 394ms/step - loss: 0.4725 - acc: 0.7959 - val_loss: 0.5878 - val_acc: 0.7152\n",
      "Epoch 2/10\n",
      "177/177 [==============================] - 70s 399ms/step - loss: 0.4436 - acc: 0.8185 - val_loss: 0.5750 - val_acc: 0.7239\n",
      "Epoch 3/10\n",
      "177/177 [==============================] - 68s 388ms/step - loss: 0.4326 - acc: 0.8197 - val_loss: 0.6000 - val_acc: 0.6741\n",
      "Epoch 4/10\n",
      "177/177 [==============================] - 68s 383ms/step - loss: 0.4247 - acc: 0.8197 - val_loss: 0.5947 - val_acc: 0.6721\n",
      "Epoch 5/10\n",
      "177/177 [==============================] - 68s 384ms/step - loss: 0.4216 - acc: 0.8239 - val_loss: 0.5989 - val_acc: 0.6730\n",
      "Epoch 6/10\n",
      "177/177 [==============================] - 68s 384ms/step - loss: 0.4097 - acc: 0.8276 - val_loss: 0.6028 - val_acc: 0.6834\n",
      "Epoch 7/10\n",
      "177/177 [==============================] - 69s 389ms/step - loss: 0.4006 - acc: 0.8373 - val_loss: 0.6347 - val_acc: 0.6487\n",
      "Epoch 8/10\n",
      "177/177 [==============================] - 68s 386ms/step - loss: 0.3896 - acc: 0.8401 - val_loss: 0.6086 - val_acc: 0.6746\n",
      "Epoch 9/10\n",
      "177/177 [==============================] - 71s 400ms/step - loss: 0.3747 - acc: 0.8446 - val_loss: 0.6253 - val_acc: 0.6848\n",
      "Epoch 10/10\n",
      "177/177 [==============================] - 69s 389ms/step - loss: 0.3631 - acc: 0.8492 - val_loss: 0.6138 - val_acc: 0.6732\n",
      "\n",
      "\n",
      "0.2\n",
      "Epoch 1/10\n",
      "177/177 [==============================] - 69s 387ms/step - loss: 0.4791 - acc: 0.7967 - val_loss: 0.5606 - val_acc: 0.7194\n",
      "Epoch 2/10\n",
      "177/177 [==============================] - 69s 390ms/step - loss: 0.4476 - acc: 0.8174 - val_loss: 0.5583 - val_acc: 0.7309\n",
      "Epoch 3/10\n",
      "177/177 [==============================] - 69s 388ms/step - loss: 0.4423 - acc: 0.8194 - val_loss: 0.5720 - val_acc: 0.7188\n",
      "Epoch 4/10\n",
      "177/177 [==============================] - 68s 387ms/step - loss: 0.4298 - acc: 0.8174 - val_loss: 0.5824 - val_acc: 0.7025\n",
      "Epoch 5/10\n",
      "177/177 [==============================] - 69s 390ms/step - loss: 0.4243 - acc: 0.8185 - val_loss: 0.5687 - val_acc: 0.7064\n",
      "Epoch 6/10\n",
      "177/177 [==============================] - 69s 391ms/step - loss: 0.4254 - acc: 0.8245 - val_loss: 0.5697 - val_acc: 0.7079\n",
      "Epoch 7/10\n",
      "177/177 [==============================] - 69s 388ms/step - loss: 0.4081 - acc: 0.8307 - val_loss: 0.5598 - val_acc: 0.7183\n",
      "Epoch 8/10\n",
      "177/177 [==============================] - 70s 397ms/step - loss: 0.4160 - acc: 0.8310 - val_loss: 0.5660 - val_acc: 0.7138\n",
      "Epoch 9/10\n",
      "177/177 [==============================] - 68s 386ms/step - loss: 0.3999 - acc: 0.8350 - val_loss: 0.5713 - val_acc: 0.7115\n",
      "Epoch 10/10\n",
      "177/177 [==============================] - 70s 395ms/step - loss: 0.3902 - acc: 0.8356 - val_loss: 0.5852 - val_acc: 0.7000\n",
      "\n",
      "\n",
      "0.5\n",
      "Epoch 1/10\n",
      "177/177 [==============================] - 69s 392ms/step - loss: 0.4901 - acc: 0.7930 - val_loss: 0.5875 - val_acc: 0.6966\n",
      "Epoch 2/10\n",
      "177/177 [==============================] - 68s 385ms/step - loss: 0.4648 - acc: 0.8115 - val_loss: 0.5777 - val_acc: 0.7129\n",
      "Epoch 3/10\n",
      "177/177 [==============================] - 68s 385ms/step - loss: 0.4594 - acc: 0.8117 - val_loss: 0.5627 - val_acc: 0.7169\n",
      "Epoch 4/10\n",
      "177/177 [==============================] - 68s 387ms/step - loss: 0.4455 - acc: 0.8154 - val_loss: 0.5551 - val_acc: 0.7107\n",
      "Epoch 5/10\n",
      "177/177 [==============================] - 69s 390ms/step - loss: 0.4413 - acc: 0.8228 - val_loss: 0.5656 - val_acc: 0.7053\n",
      "Epoch 6/10\n",
      "177/177 [==============================] - 68s 385ms/step - loss: 0.4362 - acc: 0.8185 - val_loss: 0.5620 - val_acc: 0.7208\n",
      "Epoch 7/10\n",
      "177/177 [==============================] - 69s 390ms/step - loss: 0.4335 - acc: 0.8228 - val_loss: 0.5708 - val_acc: 0.7191\n",
      "Epoch 8/10\n",
      "177/177 [==============================] - 74s 420ms/step - loss: 0.4305 - acc: 0.8256 - val_loss: 0.5916 - val_acc: 0.7042\n",
      "Epoch 9/10\n",
      "177/177 [==============================] - 69s 393ms/step - loss: 0.4227 - acc: 0.8236 - val_loss: 0.5739 - val_acc: 0.7163\n",
      "Epoch 10/10\n",
      "177/177 [==============================] - 70s 394ms/step - loss: 0.4122 - acc: 0.8268 - val_loss: 0.5709 - val_acc: 0.7101\n",
      "\n",
      "\n",
      "0.8\n",
      "Epoch 1/10\n",
      "177/177 [==============================] - 69s 388ms/step - loss: 0.5366 - acc: 0.7593 - val_loss: 0.5883 - val_acc: 0.7360\n",
      "Epoch 2/10\n",
      "177/177 [==============================] - 68s 386ms/step - loss: 0.5137 - acc: 0.7706 - val_loss: 0.5621 - val_acc: 0.7109\n",
      "Epoch 3/10\n",
      "177/177 [==============================] - 68s 388ms/step - loss: 0.4959 - acc: 0.7780 - val_loss: 0.5677 - val_acc: 0.7183\n",
      "Epoch 4/10\n",
      "177/177 [==============================] - 70s 396ms/step - loss: 0.4814 - acc: 0.7908 - val_loss: 0.5711 - val_acc: 0.7183\n",
      "Epoch 5/10\n",
      "177/177 [==============================] - 69s 393ms/step - loss: 0.4817 - acc: 0.7868 - val_loss: 0.5594 - val_acc: 0.7228\n",
      "Epoch 6/10\n",
      "177/177 [==============================] - 69s 390ms/step - loss: 0.4777 - acc: 0.7899 - val_loss: 0.6054 - val_acc: 0.6822\n",
      "Epoch 7/10\n",
      "177/177 [==============================] - 69s 393ms/step - loss: 0.4555 - acc: 0.8021 - val_loss: 0.5928 - val_acc: 0.6955\n",
      "Epoch 8/10\n",
      "177/177 [==============================] - 69s 393ms/step - loss: 0.4598 - acc: 0.8041 - val_loss: 0.5934 - val_acc: 0.6943\n",
      "Epoch 9/10\n",
      "177/177 [==============================] - 69s 390ms/step - loss: 0.4453 - acc: 0.8046 - val_loss: 0.6057 - val_acc: 0.6772\n",
      "Epoch 10/10\n",
      "177/177 [==============================] - 70s 398ms/step - loss: 0.4489 - acc: 0.8081 - val_loss: 0.6051 - val_acc: 0.6732\n",
      "\n",
      "\n"
     ]
    }
   ],
   "source": [
    "learning_rate = 0.01\n",
    "\n",
    "scores = {}\n",
    "\n",
    "for droprate in [0.0, 0.2, 0.5, 0.8]:\n",
    "    print(droprate)\n",
    "\n",
    "    model = create_CNN_model_advanced(learning_rate = learning_rate,  \n",
    "                                      droprate=droprate)\n",
    "\n",
    "    history = model.fit(train_ds, epochs=10, validation_data=test_ds)\n",
    "    scores[droprate] = history.history\n",
    "\n",
    "    print()\n",
    "    print()"
   ]
  },
  {
   "cell_type": "code",
   "execution_count": 85,
   "id": "c610d236-a277-4095-837c-a739764feab1",
   "metadata": {},
   "outputs": [
    {
     "data": {
      "text/plain": [
       "<matplotlib.legend.Legend at 0x7f959d7fbe50>"
      ]
     },
     "execution_count": 85,
     "metadata": {},
     "output_type": "execute_result"
    },
    {
     "data": {
      "image/png": "[encoded data removed]",
      "text/plain": [
       "<Figure size 640x480 with 1 Axes>"
      ]
     },
     "metadata": {},
     "output_type": "display_data"
    }
   ],
   "source": [
    "for droprate, hist in scores.items():\n",
    "    plt.plot(hist['val_acc'], label=('val=%s' % droprate))\n",
    "\n",
    "#plt.ylim(0.78, 0.86)\n",
    "plt.legend()"
   ]
  },
  {
   "cell_type": "code",
   "execution_count": 87,
   "id": "cdc2e76d-f753-495b-9e40-3e1167f05ada",
   "metadata": {},
   "outputs": [
    {
     "data": {
      "text/plain": [
       "<matplotlib.legend.Legend at 0x7f959d7b6a00>"
      ]
     },
     "execution_count": 87,
     "metadata": {},
     "output_type": "execute_result"
    },
    {
     "data": {
      "image/png": "[encoded data removed]",
      "text/plain": [
       "<Figure size 640x480 with 1 Axes>"
      ]
     },
     "metadata": {},
     "output_type": "display_data"
    }
   ],
   "source": [
    "hist = scores[0.0]\n",
    "plt.plot(hist['val_acc'], label=0.5)\n",
    "\n",
    "hist = scores[0.2]\n",
    "plt.plot(hist['val_acc'], label=0.2)\n",
    "\n",
    "plt.legend()\n",
    "#plt.plot(hist['accuracy'], label=('val=%s' % droprate))"
   ]
  },
  {
   "cell_type": "code",
   "execution_count": null,
   "id": "575d8f2b-bfc7-40e4-aa75-57275dfbc3cd",
   "metadata": {},
   "outputs": [],
   "source": []
  },
  {
   "cell_type": "markdown",
   "id": "9b2706a7-c795-4f9d-bedf-0f7dd57e52c8",
   "metadata": {},
   "source": [
    "# Advancing Model1 further: data augmentation"
   ]
  },
  {
   "cell_type": "code",
   "execution_count": 88,
   "id": "a62a1af7-adc5-4b9b-9e54-de8dc79e2bc9",
   "metadata": {},
   "outputs": [
    {
     "name": "stdout",
     "output_type": "stream",
     "text": [
      "Found 3527 images belonging to 2 classes.\n",
      "Found 3581 images belonging to 2 classes.\n"
     ]
    }
   ],
   "source": [
    "train_gen = ImageDataGenerator(rescale=1./255,\n",
    "                               rotation_range=50,\n",
    "                               width_shift_range=0.1,\n",
    "                               height_shift_range=0.1,\n",
    "                               zoom_range=0.1,\n",
    "                               horizontal_flip=True,\n",
    "                               fill_mode='nearest')\n",
    "\n",
    "train_ds = train_gen.flow_from_directory(\n",
    "    '/home/alla/ML/CapstoneProject1/archive/C-NMC_Leukemia/training_data/fold_0/',\n",
    "    target_size=(150, 150),\n",
    "    batch_size=20,\n",
    "    shuffle=True,  class_mode='binary'\n",
    ")\n",
    "\n",
    "val_gen = ImageDataGenerator(rescale=1./255, \n",
    "                             rotation_range=50,\n",
    "                              width_shift_range=0.1,\n",
    "                              height_shift_range=0.1,\n",
    "                              zoom_range=0.1,\n",
    "                              horizontal_flip=True,\n",
    "                              fill_mode='nearest')\n",
    "\n",
    "val_ds = val_gen.flow_from_directory(\n",
    "    '/home/alla/ML/CapstoneProject1/archive/C-NMC_Leukemia/training_data/fold_1/',\n",
    "    target_size=(150, 150),\n",
    "    batch_size=20,\n",
    "    shuffle=True,  class_mode='binary'\n",
    ")"
   ]
  },
  {
   "cell_type": "code",
   "execution_count": 89,
   "id": "9b650127-625c-4c0b-9fb8-ad2a201ed957",
   "metadata": {},
   "outputs": [
    {
     "name": "stdout",
     "output_type": "stream",
     "text": [
      "Epoch 1/10\n",
      "177/177 [==============================] - 95s 539ms/step - loss: 0.5690 - acc: 0.6856 - val_loss: 0.5076 - val_acc: 0.7230\n",
      "Epoch 2/10\n",
      "177/177 [==============================] - 99s 563ms/step - loss: 0.5155 - acc: 0.7587 - val_loss: 0.4603 - val_acc: 0.8023\n",
      "Epoch 3/10\n",
      "177/177 [==============================] - 99s 559ms/step - loss: 0.5003 - acc: 0.7882 - val_loss: 0.4563 - val_acc: 0.7998\n",
      "Epoch 4/10\n",
      "177/177 [==============================] - 101s 571ms/step - loss: 0.4890 - acc: 0.7874 - val_loss: 0.4395 - val_acc: 0.8199\n",
      "Epoch 5/10\n",
      "177/177 [==============================] - 101s 570ms/step - loss: 0.4826 - acc: 0.7896 - val_loss: 0.4335 - val_acc: 0.8129\n",
      "Epoch 6/10\n",
      "177/177 [==============================] - 102s 578ms/step - loss: 0.4791 - acc: 0.7959 - val_loss: 0.4406 - val_acc: 0.8132\n",
      "Epoch 7/10\n",
      "177/177 [==============================] - 101s 570ms/step - loss: 0.4687 - acc: 0.8049 - val_loss: 0.4208 - val_acc: 0.8244\n",
      "Epoch 8/10\n",
      "177/177 [==============================] - 102s 575ms/step - loss: 0.4703 - acc: 0.7956 - val_loss: 0.4319 - val_acc: 0.8202\n",
      "Epoch 9/10\n",
      "177/177 [==============================] - 100s 564ms/step - loss: 0.4645 - acc: 0.8072 - val_loss: 0.4540 - val_acc: 0.8026\n",
      "Epoch 10/10\n",
      "177/177 [==============================] - 99s 559ms/step - loss: 0.4614 - acc: 0.8004 - val_loss: 0.4193 - val_acc: 0.8244\n"
     ]
    }
   ],
   "source": [
    "learning_rate = 0.001\n",
    "droprate = 0.2\n",
    "\n",
    "model = create_CNN_model_advanced(learning_rate = learning_rate,  \n",
    "                                  droprate=droprate)\n",
    "\n",
    "history = model.fit(train_ds, epochs=10, validation_data=val_ds)"
   ]
  },
  {
   "cell_type": "code",
   "execution_count": 90,
   "id": "b7c886e9-375d-4fa0-9917-b2796abfe3b7",
   "metadata": {},
   "outputs": [
    {
     "data": {
      "text/plain": [
       "<matplotlib.legend.Legend at 0x7f959d9b6430>"
      ]
     },
     "execution_count": 90,
     "metadata": {},
     "output_type": "execute_result"
    },
    {
     "data": {
      "image/png": "[encoded data removed]",
      "text/plain": [
       "<Figure size 640x480 with 1 Axes>"
      ]
     },
     "metadata": {},
     "output_type": "display_data"
    }
   ],
   "source": [
    "hist = history.history\n",
    "plt.plot(hist['val_acc'], label='val')\n",
    "plt.plot(hist['acc'], label='train')\n",
    "\n",
    "plt.legend()"
   ]
  },
  {
   "cell_type": "code",
   "execution_count": null,
   "id": "604393cd-d469-48e5-90c0-b0333ad34249",
   "metadata": {},
   "outputs": [],
   "source": []
  },
  {
   "cell_type": "markdown",
   "id": "7059e53d-ed85-4648-b7ca-4670bdb592c9",
   "metadata": {},
   "source": [
    "# Finally we save the best model via checkpointing. We will use the simpler version with chosen droprate and learning rate, but no augmentation this time"
   ]
  },
  {
   "cell_type": "code",
   "execution_count": 93,
   "id": "49976154-9e26-4613-bd10-dbdc448203e0",
   "metadata": {},
   "outputs": [],
   "source": [
    "checkpoint = keras.callbacks.ModelCheckpoint(\n",
    "    'cnn_v1_{epoch:02d}_{val_acc:.3f}.h5',\n",
    "    save_best_only=True,\n",
    "    monitor='val_acc',\n",
    "    mode='max'\n",
    ")"
   ]
  },
  {
   "cell_type": "code",
   "execution_count": 94,
   "id": "698d91d0-2d35-40dc-b6cf-8fe1644a5f77",
   "metadata": {},
   "outputs": [
    {
     "name": "stdout",
     "output_type": "stream",
     "text": [
      "Epoch 1/10\n",
      "177/177 [==============================] - 103s 580ms/step - loss: 0.5671 - acc: 0.6844 - val_loss: 0.5074 - val_acc: 0.7154\n",
      "Epoch 2/10\n",
      "177/177 [==============================] - 104s 587ms/step - loss: 0.5140 - acc: 0.7516 - val_loss: 0.4705 - val_acc: 0.8109\n",
      "Epoch 3/10\n",
      "177/177 [==============================] - 102s 576ms/step - loss: 0.4942 - acc: 0.7899 - val_loss: 0.4451 - val_acc: 0.8160\n",
      "Epoch 4/10\n",
      "177/177 [==============================] - 104s 589ms/step - loss: 0.4914 - acc: 0.7973 - val_loss: 0.4402 - val_acc: 0.8154\n",
      "Epoch 5/10\n",
      "177/177 [==============================] - 102s 577ms/step - loss: 0.4804 - acc: 0.7913 - val_loss: 0.4296 - val_acc: 0.8238\n",
      "Epoch 6/10\n",
      "177/177 [==============================] - 103s 586ms/step - loss: 0.4803 - acc: 0.8010 - val_loss: 0.4260 - val_acc: 0.8230\n",
      "Epoch 7/10\n",
      "177/177 [==============================] - 104s 590ms/step - loss: 0.4796 - acc: 0.7959 - val_loss: 0.4347 - val_acc: 0.8132\n",
      "Epoch 8/10\n",
      "177/177 [==============================] - 106s 603ms/step - loss: 0.4754 - acc: 0.7933 - val_loss: 0.4250 - val_acc: 0.8213\n",
      "Epoch 9/10\n",
      "177/177 [==============================] - 108s 610ms/step - loss: 0.4673 - acc: 0.7987 - val_loss: 0.4287 - val_acc: 0.8182\n",
      "Epoch 10/10\n",
      "177/177 [==============================] - 107s 606ms/step - loss: 0.4767 - acc: 0.7936 - val_loss: 0.4217 - val_acc: 0.8249\n"
     ]
    }
   ],
   "source": [
    "learning_rate = 0.001\n",
    "droprate = 0.2\n",
    "\n",
    "model = create_CNN_model_advanced(learning_rate = learning_rate,  \n",
    "                                  droprate=droprate)\n",
    "\n",
    "history = model.fit(\n",
    "    train_ds,\n",
    "    epochs=10,\n",
    "    validation_data=val_ds,\n",
    "    callbacks=[checkpoint]\n",
    ")"
   ]
  },
  {
   "cell_type": "code",
   "execution_count": null,
   "id": "f766baf4-ce12-4563-9a32-3597b740ac37",
   "metadata": {},
   "outputs": [],
   "source": []
  },
  {
   "cell_type": "markdown",
   "id": "b1b717e8-e6b4-4de0-aa78-713a7398de25",
   "metadata": {},
   "source": [
    "# Now we can evaluate and use the model"
   ]
  },
  {
   "cell_type": "code",
   "execution_count": 96,
   "id": "fd05f9cc-9287-4eed-a973-d8c02f23f12c",
   "metadata": {},
   "outputs": [],
   "source": [
    "model = keras.models.load_model('cnn_v1_10_0.825.h5') "
   ]
  },
  {
   "cell_type": "code",
   "execution_count": 121,
   "id": "7c8ac316-0baa-46dd-8422-b3c9f9f5cdd7",
   "metadata": {},
   "outputs": [
    {
     "name": "stdout",
     "output_type": "stream",
     "text": [
      "178/178 [==============================] - 42s 238ms/step - loss: 0.5316 - acc: 0.7498\n",
      "0.7497889399528503\n"
     ]
    }
   ],
   "source": [
    "# loss and accuracy \n",
    "# model.metrics_names\n",
    "out = model.evaluate(test_ds)\n",
    "\n",
    "loss, test_acc = out\n",
    "\n",
    "print (test_acc)"
   ]
  },
  {
   "cell_type": "markdown",
   "id": "e98cecd1-9cd3-4684-8b8a-f73f79429a0f",
   "metadata": {},
   "source": [
    "I just found out that there is a significant class imbalance and 'all' samples are predicted much better than 'hem' unfortunately "
   ]
  },
  {
   "cell_type": "code",
   "execution_count": 143,
   "id": "015d3230-42c7-4415-863d-db467c05b1fb",
   "metadata": {},
   "outputs": [
    {
     "name": "stdout",
     "output_type": "stream",
     "text": [
      "1/1 [==============================] - 0s 30ms/step\n",
      "/home/alla/ML/CapstoneProject1/archive/C-NMC_Leukemia/training_data/fold_2/hem/UID_H48_16_13_hem.bmp\n",
      "1/1 [==============================] - 0s 33ms/step\n",
      "1/1 [==============================] - 0s 58ms/step\n",
      "1/1 [==============================] - 0s 32ms/step\n",
      "/home/alla/ML/CapstoneProject1/archive/C-NMC_Leukemia/training_data/fold_2/hem/UID_H23_9_14_hem.bmp\n",
      "1/1 [==============================] - 0s 23ms/step\n",
      "/home/alla/ML/CapstoneProject1/archive/C-NMC_Leukemia/training_data/fold_2/hem/UID_H23_13_1_hem.bmp\n",
      "1/1 [==============================] - 0s 39ms/step\n",
      "1/1 [==============================] - 0s 34ms/step\n",
      "1/1 [==============================] - 0s 36ms/step\n",
      "1/1 [==============================] - 0s 44ms/step\n",
      "/home/alla/ML/CapstoneProject1/archive/C-NMC_Leukemia/training_data/fold_2/hem/UID_H23_14_8_hem.bmp\n",
      "1/1 [==============================] - 0s 43ms/step\n",
      "1/1 [==============================] - 0s 65ms/step\n",
      "1/1 [==============================] - 0s 46ms/step\n",
      "1/1 [==============================] - 0s 46ms/step\n",
      "/home/alla/ML/CapstoneProject1/archive/C-NMC_Leukemia/training_data/fold_2/hem/UID_H23_23_9_hem.bmp\n",
      "1/1 [==============================] - 0s 30ms/step\n",
      "1/1 [==============================] - 0s 37ms/step\n",
      "/home/alla/ML/CapstoneProject1/archive/C-NMC_Leukemia/training_data/fold_2/hem/UID_H13_30_3_hem.bmp\n",
      "1/1 [==============================] - 0s 36ms/step\n",
      "/home/alla/ML/CapstoneProject1/archive/C-NMC_Leukemia/training_data/fold_2/hem/UID_H23_9_9_hem.bmp\n",
      "1/1 [==============================] - 0s 61ms/step\n",
      "1/1 [==============================] - 0s 52ms/step\n",
      "/home/alla/ML/CapstoneProject1/archive/C-NMC_Leukemia/training_data/fold_2/hem/UID_H23_10_6_hem.bmp\n",
      "1/1 [==============================] - 0s 47ms/step\n",
      "1/1 [==============================] - 0s 47ms/step\n",
      "1/1 [==============================] - 0s 38ms/step\n",
      "/home/alla/ML/CapstoneProject1/archive/C-NMC_Leukemia/training_data/fold_2/hem/UID_H1_16_1_hem.bmp\n",
      "1/1 [==============================] - 0s 34ms/step\n",
      "1/1 [==============================] - 0s 69ms/step\n",
      "1/1 [==============================] - 0s 42ms/step\n",
      "1/1 [==============================] - 0s 43ms/step\n",
      "/home/alla/ML/CapstoneProject1/archive/C-NMC_Leukemia/training_data/fold_2/hem/UID_H13_10_1_hem.bmp\n",
      "1/1 [==============================] - 0s 43ms/step\n",
      "/home/alla/ML/CapstoneProject1/archive/C-NMC_Leukemia/training_data/fold_2/hem/UID_H23_27_2_hem.bmp\n",
      "1/1 [==============================] - 0s 88ms/step\n",
      "1/1 [==============================] - 0s 63ms/step\n",
      "1/1 [==============================] - 0s 49ms/step\n",
      "1/1 [==============================] - 0s 62ms/step\n",
      "1/1 [==============================] - 0s 34ms/step\n",
      "/home/alla/ML/CapstoneProject1/archive/C-NMC_Leukemia/training_data/fold_2/hem/UID_H23_5_3_hem.bmp\n",
      "1/1 [==============================] - 0s 70ms/step\n",
      "1/1 [==============================] - 0s 46ms/step\n",
      "/home/alla/ML/CapstoneProject1/archive/C-NMC_Leukemia/training_data/fold_2/hem/UID_H20_37_1_hem.bmp\n",
      "1/1 [==============================] - 0s 44ms/step\n",
      "/home/alla/ML/CapstoneProject1/archive/C-NMC_Leukemia/training_data/fold_2/hem/UID_H23_33_2_hem.bmp\n",
      "1/1 [==============================] - 0s 42ms/step\n",
      "/home/alla/ML/CapstoneProject1/archive/C-NMC_Leukemia/training_data/fold_2/hem/UID_H23_7_6_hem.bmp\n",
      "1/1 [==============================] - 0s 61ms/step\n",
      "1/1 [==============================] - 0s 38ms/step\n",
      "1/1 [==============================] - ETA: 0s"
     ]
    },
    {
     "ename": "KeyboardInterrupt",
     "evalue": "",
     "output_type": "error",
     "traceback": [
      "\u001b[0;31m---------------------------------------------------------------------------\u001b[0m",
      "\u001b[0;31mKeyboardInterrupt\u001b[0m                         Traceback (most recent call last)",
      "Cell \u001b[0;32mIn[143], line 11\u001b[0m\n\u001b[1;32m      8\u001b[0m X \u001b[38;5;241m=\u001b[39m np\u001b[38;5;241m.\u001b[39marray([x])\n\u001b[1;32m      9\u001b[0m X \u001b[38;5;241m=\u001b[39m X\u001b[38;5;241m/\u001b[39m \u001b[38;5;241m255\u001b[39m\n\u001b[0;32m---> 11\u001b[0m pred \u001b[38;5;241m=\u001b[39m \u001b[43mmodel\u001b[49m\u001b[38;5;241;43m.\u001b[39;49m\u001b[43mpredict\u001b[49m\u001b[43m(\u001b[49m\u001b[43mX\u001b[49m\u001b[43m)\u001b[49m[\u001b[38;5;241m0\u001b[39m]\n\u001b[1;32m     12\u001b[0m res \u001b[38;5;241m=\u001b[39m {\u001b[38;5;124m'\u001b[39m\u001b[38;5;124mhem\u001b[39m\u001b[38;5;124m'\u001b[39m:pred[\u001b[38;5;241m0\u001b[39m], \u001b[38;5;124m'\u001b[39m\u001b[38;5;124mall\u001b[39m\u001b[38;5;124m'\u001b[39m:\u001b[38;5;241m1\u001b[39m\u001b[38;5;241m-\u001b[39mpred[\u001b[38;5;241m0\u001b[39m]}\n\u001b[1;32m     13\u001b[0m \u001b[38;5;66;03m#print (res)\u001b[39;00m\n",
      "File \u001b[0;32m~/anaconda3/lib/python3.9/site-packages/keras/utils/traceback_utils.py:64\u001b[0m, in \u001b[0;36mfilter_traceback.<locals>.error_handler\u001b[0;34m(*args, **kwargs)\u001b[0m\n\u001b[1;32m     62\u001b[0m filtered_tb \u001b[38;5;241m=\u001b[39m \u001b[38;5;28;01mNone\u001b[39;00m\n\u001b[1;32m     63\u001b[0m \u001b[38;5;28;01mtry\u001b[39;00m:\n\u001b[0;32m---> 64\u001b[0m   \u001b[38;5;28;01mreturn\u001b[39;00m \u001b[43mfn\u001b[49m\u001b[43m(\u001b[49m\u001b[38;5;241;43m*\u001b[39;49m\u001b[43margs\u001b[49m\u001b[43m,\u001b[49m\u001b[43m \u001b[49m\u001b[38;5;241;43m*\u001b[39;49m\u001b[38;5;241;43m*\u001b[39;49m\u001b[43mkwargs\u001b[49m\u001b[43m)\u001b[49m\n\u001b[1;32m     65\u001b[0m \u001b[38;5;28;01mexcept\u001b[39;00m \u001b[38;5;167;01mException\u001b[39;00m \u001b[38;5;28;01mas\u001b[39;00m e:  \u001b[38;5;66;03m# pylint: disable=broad-except\u001b[39;00m\n\u001b[1;32m     66\u001b[0m   filtered_tb \u001b[38;5;241m=\u001b[39m _process_traceback_frames(e\u001b[38;5;241m.\u001b[39m__traceback__)\n",
      "File \u001b[0;32m~/anaconda3/lib/python3.9/site-packages/keras/engine/training.py:2046\u001b[0m, in \u001b[0;36mModel.predict\u001b[0;34m(self, x, batch_size, verbose, steps, callbacks, max_queue_size, workers, use_multiprocessing)\u001b[0m\n\u001b[1;32m   2041\u001b[0m         tf\u001b[38;5;241m.\u001b[39m__internal__\u001b[38;5;241m.\u001b[39mnest\u001b[38;5;241m.\u001b[39mmap_structure_up_to(\n\u001b[1;32m   2042\u001b[0m             batch_outputs,\n\u001b[1;32m   2043\u001b[0m             \u001b[38;5;28;01mlambda\u001b[39;00m output, batch_output: output\u001b[38;5;241m.\u001b[39mappend(batch_output),\n\u001b[1;32m   2044\u001b[0m             outputs, batch_outputs)\n\u001b[1;32m   2045\u001b[0m       end_step \u001b[38;5;241m=\u001b[39m step \u001b[38;5;241m+\u001b[39m data_handler\u001b[38;5;241m.\u001b[39mstep_increment\n\u001b[0;32m-> 2046\u001b[0m       \u001b[43mcallbacks\u001b[49m\u001b[38;5;241;43m.\u001b[39;49m\u001b[43mon_predict_batch_end\u001b[49m\u001b[43m(\u001b[49m\u001b[43mend_step\u001b[49m\u001b[43m,\u001b[49m\u001b[43m \u001b[49m\u001b[43m{\u001b[49m\u001b[38;5;124;43m'\u001b[39;49m\u001b[38;5;124;43moutputs\u001b[39;49m\u001b[38;5;124;43m'\u001b[39;49m\u001b[43m:\u001b[49m\u001b[43m \u001b[49m\u001b[43mbatch_outputs\u001b[49m\u001b[43m}\u001b[49m\u001b[43m)\u001b[49m\n\u001b[1;32m   2047\u001b[0m \u001b[38;5;28;01mif\u001b[39;00m batch_outputs \u001b[38;5;129;01mis\u001b[39;00m \u001b[38;5;28;01mNone\u001b[39;00m:\n\u001b[1;32m   2048\u001b[0m   \u001b[38;5;28;01mraise\u001b[39;00m \u001b[38;5;167;01mValueError\u001b[39;00m(\u001b[38;5;124m'\u001b[39m\u001b[38;5;124mUnexpected result of `predict_function` \u001b[39m\u001b[38;5;124m'\u001b[39m\n\u001b[1;32m   2049\u001b[0m                    \u001b[38;5;124m'\u001b[39m\u001b[38;5;124m(Empty batch_outputs). Please use \u001b[39m\u001b[38;5;124m'\u001b[39m\n\u001b[1;32m   2050\u001b[0m                    \u001b[38;5;124m'\u001b[39m\u001b[38;5;124m`Model.compile(..., run_eagerly=True)`, or \u001b[39m\u001b[38;5;124m'\u001b[39m\n\u001b[1;32m   2051\u001b[0m                    \u001b[38;5;124m'\u001b[39m\u001b[38;5;124m`tf.config.run_functions_eagerly(True)` for more \u001b[39m\u001b[38;5;124m'\u001b[39m\n\u001b[1;32m   2052\u001b[0m                    \u001b[38;5;124m'\u001b[39m\u001b[38;5;124minformation of where went wrong, or file a \u001b[39m\u001b[38;5;124m'\u001b[39m\n\u001b[1;32m   2053\u001b[0m                    \u001b[38;5;124m'\u001b[39m\u001b[38;5;124missue/bug to `tf.keras`.\u001b[39m\u001b[38;5;124m'\u001b[39m)\n",
      "File \u001b[0;32m~/anaconda3/lib/python3.9/site-packages/keras/callbacks.py:482\u001b[0m, in \u001b[0;36mCallbackList.on_predict_batch_end\u001b[0;34m(self, batch, logs)\u001b[0m\n\u001b[1;32m    475\u001b[0m \u001b[38;5;250m\u001b[39m\u001b[38;5;124;03m\"\"\"Calls the `on_predict_batch_end` methods of its callbacks.\u001b[39;00m\n\u001b[1;32m    476\u001b[0m \n\u001b[1;32m    477\u001b[0m \u001b[38;5;124;03mArgs:\u001b[39;00m\n\u001b[1;32m    478\u001b[0m \u001b[38;5;124;03m    batch: Integer, index of batch within the current epoch.\u001b[39;00m\n\u001b[1;32m    479\u001b[0m \u001b[38;5;124;03m    logs: Dict. Aggregated metric results up until this batch.\u001b[39;00m\n\u001b[1;32m    480\u001b[0m \u001b[38;5;124;03m\"\"\"\u001b[39;00m\n\u001b[1;32m    481\u001b[0m \u001b[38;5;28;01mif\u001b[39;00m \u001b[38;5;28mself\u001b[39m\u001b[38;5;241m.\u001b[39m_should_call_predict_batch_hooks:\n\u001b[0;32m--> 482\u001b[0m   \u001b[38;5;28;43mself\u001b[39;49m\u001b[38;5;241;43m.\u001b[39;49m\u001b[43m_call_batch_hook\u001b[49m\u001b[43m(\u001b[49m\u001b[43mModeKeys\u001b[49m\u001b[38;5;241;43m.\u001b[39;49m\u001b[43mPREDICT\u001b[49m\u001b[43m,\u001b[49m\u001b[43m \u001b[49m\u001b[38;5;124;43m'\u001b[39;49m\u001b[38;5;124;43mend\u001b[39;49m\u001b[38;5;124;43m'\u001b[39;49m\u001b[43m,\u001b[49m\u001b[43m \u001b[49m\u001b[43mbatch\u001b[49m\u001b[43m,\u001b[49m\u001b[43m \u001b[49m\u001b[43mlogs\u001b[49m\u001b[38;5;241;43m=\u001b[39;49m\u001b[43mlogs\u001b[49m\u001b[43m)\u001b[49m\n",
      "File \u001b[0;32m~/anaconda3/lib/python3.9/site-packages/keras/callbacks.py:297\u001b[0m, in \u001b[0;36mCallbackList._call_batch_hook\u001b[0;34m(self, mode, hook, batch, logs)\u001b[0m\n\u001b[1;32m    295\u001b[0m   \u001b[38;5;28mself\u001b[39m\u001b[38;5;241m.\u001b[39m_call_batch_begin_hook(mode, batch, logs)\n\u001b[1;32m    296\u001b[0m \u001b[38;5;28;01melif\u001b[39;00m hook \u001b[38;5;241m==\u001b[39m \u001b[38;5;124m'\u001b[39m\u001b[38;5;124mend\u001b[39m\u001b[38;5;124m'\u001b[39m:\n\u001b[0;32m--> 297\u001b[0m   \u001b[38;5;28;43mself\u001b[39;49m\u001b[38;5;241;43m.\u001b[39;49m\u001b[43m_call_batch_end_hook\u001b[49m\u001b[43m(\u001b[49m\u001b[43mmode\u001b[49m\u001b[43m,\u001b[49m\u001b[43m \u001b[49m\u001b[43mbatch\u001b[49m\u001b[43m,\u001b[49m\u001b[43m \u001b[49m\u001b[43mlogs\u001b[49m\u001b[43m)\u001b[49m\n\u001b[1;32m    298\u001b[0m \u001b[38;5;28;01melse\u001b[39;00m:\n\u001b[1;32m    299\u001b[0m   \u001b[38;5;28;01mraise\u001b[39;00m \u001b[38;5;167;01mValueError\u001b[39;00m(\n\u001b[1;32m    300\u001b[0m       \u001b[38;5;124mf\u001b[39m\u001b[38;5;124m'\u001b[39m\u001b[38;5;124mUnrecognized hook: \u001b[39m\u001b[38;5;132;01m{\u001b[39;00mhook\u001b[38;5;132;01m}\u001b[39;00m\u001b[38;5;124m. Expected values are [\u001b[39m\u001b[38;5;124m\"\u001b[39m\u001b[38;5;124mbegin\u001b[39m\u001b[38;5;124m\"\u001b[39m\u001b[38;5;124m, \u001b[39m\u001b[38;5;124m\"\u001b[39m\u001b[38;5;124mend\u001b[39m\u001b[38;5;124m\"\u001b[39m\u001b[38;5;124m]\u001b[39m\u001b[38;5;124m'\u001b[39m)\n",
      "File \u001b[0;32m~/anaconda3/lib/python3.9/site-packages/keras/callbacks.py:318\u001b[0m, in \u001b[0;36mCallbackList._call_batch_end_hook\u001b[0;34m(self, mode, batch, logs)\u001b[0m\n\u001b[1;32m    315\u001b[0m   batch_time \u001b[38;5;241m=\u001b[39m time\u001b[38;5;241m.\u001b[39mtime() \u001b[38;5;241m-\u001b[39m \u001b[38;5;28mself\u001b[39m\u001b[38;5;241m.\u001b[39m_batch_start_time\n\u001b[1;32m    316\u001b[0m   \u001b[38;5;28mself\u001b[39m\u001b[38;5;241m.\u001b[39m_batch_times\u001b[38;5;241m.\u001b[39mappend(batch_time)\n\u001b[0;32m--> 318\u001b[0m \u001b[38;5;28;43mself\u001b[39;49m\u001b[38;5;241;43m.\u001b[39;49m\u001b[43m_call_batch_hook_helper\u001b[49m\u001b[43m(\u001b[49m\u001b[43mhook_name\u001b[49m\u001b[43m,\u001b[49m\u001b[43m \u001b[49m\u001b[43mbatch\u001b[49m\u001b[43m,\u001b[49m\u001b[43m \u001b[49m\u001b[43mlogs\u001b[49m\u001b[43m)\u001b[49m\n\u001b[1;32m    320\u001b[0m \u001b[38;5;28;01mif\u001b[39;00m \u001b[38;5;28mlen\u001b[39m(\u001b[38;5;28mself\u001b[39m\u001b[38;5;241m.\u001b[39m_batch_times) \u001b[38;5;241m>\u001b[39m\u001b[38;5;241m=\u001b[39m \u001b[38;5;28mself\u001b[39m\u001b[38;5;241m.\u001b[39m_num_batches_for_timing_check:\n\u001b[1;32m    321\u001b[0m   end_hook_name \u001b[38;5;241m=\u001b[39m hook_name\n",
      "File \u001b[0;32m~/anaconda3/lib/python3.9/site-packages/keras/callbacks.py:356\u001b[0m, in \u001b[0;36mCallbackList._call_batch_hook_helper\u001b[0;34m(self, hook_name, batch, logs)\u001b[0m\n\u001b[1;32m    354\u001b[0m \u001b[38;5;28;01mfor\u001b[39;00m callback \u001b[38;5;129;01min\u001b[39;00m \u001b[38;5;28mself\u001b[39m\u001b[38;5;241m.\u001b[39mcallbacks:\n\u001b[1;32m    355\u001b[0m   hook \u001b[38;5;241m=\u001b[39m \u001b[38;5;28mgetattr\u001b[39m(callback, hook_name)\n\u001b[0;32m--> 356\u001b[0m   \u001b[43mhook\u001b[49m\u001b[43m(\u001b[49m\u001b[43mbatch\u001b[49m\u001b[43m,\u001b[49m\u001b[43m \u001b[49m\u001b[43mlogs\u001b[49m\u001b[43m)\u001b[49m\n\u001b[1;32m    358\u001b[0m \u001b[38;5;28;01mif\u001b[39;00m \u001b[38;5;28mself\u001b[39m\u001b[38;5;241m.\u001b[39m_check_timing:\n\u001b[1;32m    359\u001b[0m   \u001b[38;5;28;01mif\u001b[39;00m hook_name \u001b[38;5;129;01mnot\u001b[39;00m \u001b[38;5;129;01min\u001b[39;00m \u001b[38;5;28mself\u001b[39m\u001b[38;5;241m.\u001b[39m_hook_times:\n",
      "File \u001b[0;32m~/anaconda3/lib/python3.9/site-packages/keras/callbacks.py:1042\u001b[0m, in \u001b[0;36mProgbarLogger.on_predict_batch_end\u001b[0;34m(self, batch, logs)\u001b[0m\n\u001b[1;32m   1040\u001b[0m \u001b[38;5;28;01mdef\u001b[39;00m \u001b[38;5;21mon_predict_batch_end\u001b[39m(\u001b[38;5;28mself\u001b[39m, batch, logs\u001b[38;5;241m=\u001b[39m\u001b[38;5;28;01mNone\u001b[39;00m):\n\u001b[1;32m   1041\u001b[0m   \u001b[38;5;66;03m# Don't pass prediction results.\u001b[39;00m\n\u001b[0;32m-> 1042\u001b[0m   \u001b[38;5;28;43mself\u001b[39;49m\u001b[38;5;241;43m.\u001b[39;49m\u001b[43m_batch_update_progbar\u001b[49m\u001b[43m(\u001b[49m\u001b[43mbatch\u001b[49m\u001b[43m,\u001b[49m\u001b[43m \u001b[49m\u001b[38;5;28;43;01mNone\u001b[39;49;00m\u001b[43m)\u001b[49m\n",
      "File \u001b[0;32m~/anaconda3/lib/python3.9/site-packages/keras/callbacks.py:1107\u001b[0m, in \u001b[0;36mProgbarLogger._batch_update_progbar\u001b[0;34m(self, batch, logs)\u001b[0m\n\u001b[1;32m   1104\u001b[0m \u001b[38;5;28;01mif\u001b[39;00m \u001b[38;5;28mself\u001b[39m\u001b[38;5;241m.\u001b[39mverbose \u001b[38;5;241m==\u001b[39m \u001b[38;5;241m1\u001b[39m:\n\u001b[1;32m   1105\u001b[0m   \u001b[38;5;66;03m# Only block async when verbose = 1.\u001b[39;00m\n\u001b[1;32m   1106\u001b[0m   logs \u001b[38;5;241m=\u001b[39m tf_utils\u001b[38;5;241m.\u001b[39msync_to_numpy_or_python_type(logs)\n\u001b[0;32m-> 1107\u001b[0m   \u001b[38;5;28;43mself\u001b[39;49m\u001b[38;5;241;43m.\u001b[39;49m\u001b[43mprogbar\u001b[49m\u001b[38;5;241;43m.\u001b[39;49m\u001b[43mupdate\u001b[49m\u001b[43m(\u001b[49m\u001b[38;5;28;43mself\u001b[39;49m\u001b[38;5;241;43m.\u001b[39;49m\u001b[43mseen\u001b[49m\u001b[43m,\u001b[49m\u001b[43m \u001b[49m\u001b[38;5;28;43mlist\u001b[39;49m\u001b[43m(\u001b[49m\u001b[43mlogs\u001b[49m\u001b[38;5;241;43m.\u001b[39;49m\u001b[43mitems\u001b[49m\u001b[43m(\u001b[49m\u001b[43m)\u001b[49m\u001b[43m)\u001b[49m\u001b[43m,\u001b[49m\u001b[43m \u001b[49m\u001b[43mfinalize\u001b[49m\u001b[38;5;241;43m=\u001b[39;49m\u001b[38;5;28;43;01mFalse\u001b[39;49;00m\u001b[43m)\u001b[49m\n",
      "File \u001b[0;32m~/anaconda3/lib/python3.9/site-packages/keras/utils/generic_utils.py:976\u001b[0m, in \u001b[0;36mProgbar.update\u001b[0;34m(self, current, values, finalize)\u001b[0m\n\u001b[1;32m    973\u001b[0m     info \u001b[38;5;241m+\u001b[39m\u001b[38;5;241m=\u001b[39m \u001b[38;5;124m'\u001b[39m\u001b[38;5;130;01m\\n\u001b[39;00m\u001b[38;5;124m'\u001b[39m\n\u001b[1;32m    975\u001b[0m   message \u001b[38;5;241m+\u001b[39m\u001b[38;5;241m=\u001b[39m info\n\u001b[0;32m--> 976\u001b[0m   \u001b[43mio_utils\u001b[49m\u001b[38;5;241;43m.\u001b[39;49m\u001b[43mprint_msg\u001b[49m\u001b[43m(\u001b[49m\u001b[43mmessage\u001b[49m\u001b[43m,\u001b[49m\u001b[43m \u001b[49m\u001b[43mline_break\u001b[49m\u001b[38;5;241;43m=\u001b[39;49m\u001b[38;5;28;43;01mFalse\u001b[39;49;00m\u001b[43m)\u001b[49m\n\u001b[1;32m    977\u001b[0m   message \u001b[38;5;241m=\u001b[39m \u001b[38;5;124m'\u001b[39m\u001b[38;5;124m'\u001b[39m\n\u001b[1;32m    979\u001b[0m \u001b[38;5;28;01melif\u001b[39;00m \u001b[38;5;28mself\u001b[39m\u001b[38;5;241m.\u001b[39mverbose \u001b[38;5;241m==\u001b[39m \u001b[38;5;241m2\u001b[39m:\n",
      "File \u001b[0;32m~/anaconda3/lib/python3.9/site-packages/keras/utils/io_utils.py:78\u001b[0m, in \u001b[0;36mprint_msg\u001b[0;34m(message, line_break)\u001b[0m\n\u001b[1;32m     76\u001b[0m   \u001b[38;5;28;01melse\u001b[39;00m:\n\u001b[1;32m     77\u001b[0m     sys\u001b[38;5;241m.\u001b[39mstdout\u001b[38;5;241m.\u001b[39mwrite(message)\n\u001b[0;32m---> 78\u001b[0m   \u001b[43msys\u001b[49m\u001b[38;5;241;43m.\u001b[39;49m\u001b[43mstdout\u001b[49m\u001b[38;5;241;43m.\u001b[39;49m\u001b[43mflush\u001b[49m\u001b[43m(\u001b[49m\u001b[43m)\u001b[49m\n\u001b[1;32m     79\u001b[0m \u001b[38;5;28;01melse\u001b[39;00m:\n\u001b[1;32m     80\u001b[0m   logging\u001b[38;5;241m.\u001b[39minfo(message)\n",
      "File \u001b[0;32m~/anaconda3/lib/python3.9/site-packages/ipykernel/iostream.py:562\u001b[0m, in \u001b[0;36mOutStream.flush\u001b[0;34m(self)\u001b[0m\n\u001b[1;32m    560\u001b[0m \u001b[38;5;66;03m# wait for flush to actually get through, if we can.\u001b[39;00m\n\u001b[1;32m    561\u001b[0m evt \u001b[38;5;241m=\u001b[39m threading\u001b[38;5;241m.\u001b[39mEvent()\n\u001b[0;32m--> 562\u001b[0m \u001b[38;5;28;43mself\u001b[39;49m\u001b[38;5;241;43m.\u001b[39;49m\u001b[43mpub_thread\u001b[49m\u001b[38;5;241;43m.\u001b[39;49m\u001b[43mschedule\u001b[49m\u001b[43m(\u001b[49m\u001b[43mevt\u001b[49m\u001b[38;5;241;43m.\u001b[39;49m\u001b[43mset\u001b[49m\u001b[43m)\u001b[49m\n\u001b[1;32m    563\u001b[0m \u001b[38;5;66;03m# and give a timeout to avoid\u001b[39;00m\n\u001b[1;32m    564\u001b[0m \u001b[38;5;28;01mif\u001b[39;00m \u001b[38;5;129;01mnot\u001b[39;00m evt\u001b[38;5;241m.\u001b[39mwait(\u001b[38;5;28mself\u001b[39m\u001b[38;5;241m.\u001b[39mflush_timeout):\n\u001b[1;32m    565\u001b[0m     \u001b[38;5;66;03m# write directly to __stderr__ instead of warning because\u001b[39;00m\n\u001b[1;32m    566\u001b[0m     \u001b[38;5;66;03m# if this is happening sys.stderr may be the problem.\u001b[39;00m\n",
      "File \u001b[0;32m~/anaconda3/lib/python3.9/site-packages/ipykernel/iostream.py:251\u001b[0m, in \u001b[0;36mIOPubThread.schedule\u001b[0;34m(self, f)\u001b[0m\n\u001b[1;32m    249\u001b[0m     \u001b[38;5;28mself\u001b[39m\u001b[38;5;241m.\u001b[39m_events\u001b[38;5;241m.\u001b[39mappend(f)\n\u001b[1;32m    250\u001b[0m     \u001b[38;5;66;03m# wake event thread (message content is ignored)\u001b[39;00m\n\u001b[0;32m--> 251\u001b[0m     \u001b[38;5;28;43mself\u001b[39;49m\u001b[38;5;241;43m.\u001b[39;49m\u001b[43m_event_pipe\u001b[49m\u001b[38;5;241;43m.\u001b[39;49m\u001b[43msend\u001b[49m\u001b[43m(\u001b[49m\u001b[38;5;124;43mb\u001b[39;49m\u001b[38;5;124;43m\"\u001b[39;49m\u001b[38;5;124;43m\"\u001b[39;49m\u001b[43m)\u001b[49m\n\u001b[1;32m    252\u001b[0m \u001b[38;5;28;01melse\u001b[39;00m:\n\u001b[1;32m    253\u001b[0m     f()\n",
      "File \u001b[0;32m~/anaconda3/lib/python3.9/site-packages/zmq/sugar/socket.py:696\u001b[0m, in \u001b[0;36mSocket.send\u001b[0;34m(self, data, flags, copy, track, routing_id, group)\u001b[0m\n\u001b[1;32m    689\u001b[0m         data \u001b[38;5;241m=\u001b[39m zmq\u001b[38;5;241m.\u001b[39mFrame(\n\u001b[1;32m    690\u001b[0m             data,\n\u001b[1;32m    691\u001b[0m             track\u001b[38;5;241m=\u001b[39mtrack,\n\u001b[1;32m    692\u001b[0m             copy\u001b[38;5;241m=\u001b[39mcopy \u001b[38;5;129;01mor\u001b[39;00m \u001b[38;5;28;01mNone\u001b[39;00m,\n\u001b[1;32m    693\u001b[0m             copy_threshold\u001b[38;5;241m=\u001b[39m\u001b[38;5;28mself\u001b[39m\u001b[38;5;241m.\u001b[39mcopy_threshold,\n\u001b[1;32m    694\u001b[0m         )\n\u001b[1;32m    695\u001b[0m     data\u001b[38;5;241m.\u001b[39mgroup \u001b[38;5;241m=\u001b[39m group\n\u001b[0;32m--> 696\u001b[0m \u001b[38;5;28;01mreturn\u001b[39;00m \u001b[38;5;28;43msuper\u001b[39;49m\u001b[43m(\u001b[49m\u001b[43m)\u001b[49m\u001b[38;5;241;43m.\u001b[39;49m\u001b[43msend\u001b[49m\u001b[43m(\u001b[49m\u001b[43mdata\u001b[49m\u001b[43m,\u001b[49m\u001b[43m \u001b[49m\u001b[43mflags\u001b[49m\u001b[38;5;241;43m=\u001b[39;49m\u001b[43mflags\u001b[49m\u001b[43m,\u001b[49m\u001b[43m \u001b[49m\u001b[43mcopy\u001b[49m\u001b[38;5;241;43m=\u001b[39;49m\u001b[43mcopy\u001b[49m\u001b[43m,\u001b[49m\u001b[43m \u001b[49m\u001b[43mtrack\u001b[49m\u001b[38;5;241;43m=\u001b[39;49m\u001b[43mtrack\u001b[49m\u001b[43m)\u001b[49m\n",
      "File \u001b[0;32mzmq/backend/cython/socket.pyx:742\u001b[0m, in \u001b[0;36mzmq.backend.cython.socket.Socket.send\u001b[0;34m()\u001b[0m\n",
      "File \u001b[0;32mzmq/backend/cython/socket.pyx:789\u001b[0m, in \u001b[0;36mzmq.backend.cython.socket.Socket.send\u001b[0;34m()\u001b[0m\n",
      "File \u001b[0;32mzmq/backend/cython/socket.pyx:250\u001b[0m, in \u001b[0;36mzmq.backend.cython.socket._send_copy\u001b[0;34m()\u001b[0m\n",
      "File \u001b[0;32m~/anaconda3/lib/python3.9/site-packages/zmq/backend/cython/checkrc.pxd:13\u001b[0m, in \u001b[0;36mzmq.backend.cython.checkrc._check_rc\u001b[0;34m()\u001b[0m\n",
      "\u001b[0;31mKeyboardInterrupt\u001b[0m: "
     ]
    }
   ],
   "source": [
    "counter = {'hem':0, 'all':0}\n",
    "\n",
    "path = '/home/alla/ML/CapstoneProject1/archive/C-NMC_Leukemia/training_data/fold_2/hem/'\n",
    "\n",
    "for fullname in glob.glob(path+'*'):\n",
    "    img = load_img(fullname, target_size=(150, 150))\n",
    "    x = np.array(img, dtype='float32')\n",
    "    X = np.array([x])\n",
    "    X = X/ 255\n",
    "    \n",
    "    pred = model.predict(X)[0]\n",
    "    res = {'hem':pred[0], 'all':1-pred[0]}\n",
    "    #print (res)\n",
    "\n",
    "    if pred >= 0.5:\n",
    "        counter['hem'] += 1\n",
    "        print (fullname)\n",
    "    else:\n",
    "        counter['all'] += 1\n",
    "\n",
    "\n",
    "counter['hem'] / (counter['hem'] + counter['all'])"
   ]
  },
  {
   "cell_type": "code",
   "execution_count": 134,
   "id": "eedd86d9-d040-4586-aa31-897fd993380f",
   "metadata": {},
   "outputs": [
    {
     "data": {
      "text/plain": [
       "{'hem': 446, 'all': 650}"
      ]
     },
     "execution_count": 134,
     "metadata": {},
     "output_type": "execute_result"
    }
   ],
   "source": [
    "counter"
   ]
  },
  {
   "cell_type": "code",
   "execution_count": 142,
   "id": "93f456c7-8912-4d24-85f1-5efb78d2bbfe",
   "metadata": {},
   "outputs": [
    {
     "name": "stdout",
     "output_type": "stream",
     "text": [
      "1/1 [==============================] - 0s 30ms/step\n",
      "1/1 [==============================] - 0s 34ms/step\n",
      "1/1 [==============================] - 0s 37ms/step\n",
      "1/1 [==============================] - 0s 48ms/step\n",
      "1/1 [==============================] - 0s 41ms/step\n",
      "1/1 [==============================] - 0s 35ms/step\n",
      "1/1 [==============================] - 0s 41ms/step\n",
      "1/1 [==============================] - 0s 50ms/step\n",
      "1/1 [==============================] - 0s 32ms/step\n",
      "/home/alla/ML/CapstoneProject1/archive/C-NMC_Leukemia/training_data/fold_2/all/UID_25_21_2_all.bmp\n",
      "1/1 [==============================] - 0s 50ms/step\n",
      "/home/alla/ML/CapstoneProject1/archive/C-NMC_Leukemia/training_data/fold_2/all/UID_24_21_1_all.bmp\n",
      "1/1 [==============================] - 0s 66ms/step\n",
      "1/1 [==============================] - 0s 42ms/step\n",
      "1/1 [==============================] - 0s 46ms/step\n",
      "1/1 [==============================] - 0s 31ms/step\n",
      "1/1 [==============================] - 0s 41ms/step\n",
      "1/1 [==============================] - 0s 43ms/step\n",
      "1/1 [==============================] - 0s 45ms/step\n",
      "1/1 [==============================] - 0s 39ms/step\n",
      "1/1 [==============================] - 0s 39ms/step\n",
      "1/1 [==============================] - 0s 37ms/step\n",
      "1/1 [==============================] - 0s 40ms/step\n",
      "1/1 [==============================] - 0s 49ms/step\n",
      "1/1 [==============================] - 0s 45ms/step\n",
      "1/1 [==============================] - 0s 50ms/step\n",
      "1/1 [==============================] - 0s 51ms/step\n",
      "1/1 [==============================] - 0s 39ms/step\n",
      "1/1 [==============================] - 0s 49ms/step\n",
      "1/1 [==============================] - 0s 38ms/step\n",
      "1/1 [==============================] - 0s 48ms/step\n",
      "1/1 [==============================] - 0s 41ms/step\n",
      "1/1 [==============================] - 0s 61ms/step\n",
      "1/1 [==============================] - 0s 55ms/step\n",
      "1/1 [==============================] - 0s 44ms/step\n",
      "1/1 [==============================] - 0s 52ms/step\n",
      "1/1 [==============================] - 0s 45ms/step\n",
      "1/1 [==============================] - 0s 42ms/step\n",
      "1/1 [==============================] - 0s 60ms/step\n",
      "1/1 [==============================] - 0s 94ms/step\n",
      "1/1 [==============================] - 0s 100ms/step\n",
      "1/1 [==============================] - 0s 68ms/step\n",
      "1/1 [==============================] - 0s 76ms/step\n",
      "1/1 [==============================] - 0s 77ms/step\n",
      "1/1 [==============================] - 0s 66ms/step\n",
      "1/1 [==============================] - 0s 45ms/step\n",
      "1/1 [==============================] - 0s 64ms/step\n",
      "1/1 [==============================] - 0s 44ms/step\n",
      "1/1 [==============================] - 0s 53ms/step\n",
      "1/1 [==============================] - 0s 51ms/step\n",
      "1/1 [==============================] - 0s 37ms/step\n",
      "1/1 [==============================] - 0s 50ms/step\n",
      "1/1 [==============================] - 0s 38ms/step\n",
      "1/1 [==============================] - 0s 26ms/step\n",
      "/home/alla/ML/CapstoneProject1/archive/C-NMC_Leukemia/training_data/fold_2/all/UID_37_23_4_all.bmp\n",
      "1/1 [==============================] - 0s 84ms/step\n",
      "1/1 [==============================] - 0s 42ms/step\n",
      "1/1 [==============================] - 0s 51ms/step\n",
      "1/1 [==============================] - 0s 37ms/step\n",
      "1/1 [==============================] - 0s 69ms/step\n",
      "1/1 [==============================] - 0s 45ms/step\n",
      "1/1 [==============================] - 0s 45ms/step\n",
      "1/1 [==============================] - 0s 43ms/step\n",
      "1/1 [==============================] - 0s 49ms/step\n",
      "1/1 [==============================] - 0s 58ms/step\n",
      "1/1 [==============================] - 0s 60ms/step\n",
      "1/1 [==============================] - 0s 43ms/step\n",
      "1/1 [==============================] - 0s 48ms/step\n",
      "1/1 [==============================] - 0s 64ms/step\n",
      "1/1 [==============================] - 0s 60ms/step\n",
      "1/1 [==============================] - 0s 57ms/step\n",
      "/home/alla/ML/CapstoneProject1/archive/C-NMC_Leukemia/training_data/fold_2/all/UID_24_8_8_all.bmp\n",
      "1/1 [==============================] - 0s 63ms/step\n",
      "1/1 [==============================] - 0s 57ms/step\n",
      "/home/alla/ML/CapstoneProject1/archive/C-NMC_Leukemia/training_data/fold_2/all/UID_27_10_5_all.bmp\n",
      "1/1 [==============================] - 0s 55ms/step\n",
      "1/1 [==============================] - 0s 57ms/step\n",
      "1/1 [==============================] - 0s 47ms/step\n",
      "1/1 [==============================] - 0s 66ms/step\n",
      "1/1 [==============================] - 0s 63ms/step\n",
      "/home/alla/ML/CapstoneProject1/archive/C-NMC_Leukemia/training_data/fold_2/all/UID_37_18_5_all.bmp\n",
      "1/1 [==============================] - 0s 50ms/step\n",
      "1/1 [==============================] - 0s 45ms/step\n",
      "1/1 [==============================] - 0s 47ms/step\n",
      "1/1 [==============================] - 0s 57ms/step\n",
      "1/1 [==============================] - 0s 25ms/step\n",
      "1/1 [==============================] - 0s 36ms/step\n",
      "1/1 [==============================] - 0s 75ms/step\n",
      "/home/alla/ML/CapstoneProject1/archive/C-NMC_Leukemia/training_data/fold_2/all/UID_24_21_2_all.bmp\n",
      "1/1 [==============================] - 0s 37ms/step\n",
      "1/1 [==============================] - 0s 44ms/step\n",
      "1/1 [==============================] - 0s 43ms/step\n",
      "1/1 [==============================] - 0s 45ms/step\n",
      "1/1 [==============================] - 0s 67ms/step\n",
      "1/1 [==============================] - 0s 61ms/step\n",
      "1/1 [==============================] - 0s 53ms/step\n",
      "1/1 [==============================] - 0s 43ms/step\n",
      "1/1 [==============================] - 0s 36ms/step\n",
      "1/1 [==============================] - 0s 54ms/step\n",
      "1/1 [==============================] - 0s 47ms/step\n",
      "/home/alla/ML/CapstoneProject1/archive/C-NMC_Leukemia/training_data/fold_2/all/UID_24_34_3_all.bmp\n",
      "1/1 [==============================] - 0s 64ms/step\n",
      "1/1 [==============================] - 0s 66ms/step\n",
      "1/1 [==============================] - 0s 50ms/step\n",
      "1/1 [==============================] - 0s 82ms/step\n",
      "1/1 [==============================] - 0s 72ms/step\n",
      "1/1 [==============================] - 0s 59ms/step\n",
      "1/1 [==============================] - 0s 54ms/step\n",
      "1/1 [==============================] - 0s 62ms/step\n",
      "1/1 [==============================] - 0s 48ms/step\n",
      "1/1 [==============================] - 0s 54ms/step\n",
      "1/1 [==============================] - 0s 47ms/step\n",
      "1/1 [==============================] - 0s 32ms/step\n",
      "1/1 [==============================] - 0s 38ms/step\n",
      "1/1 [==============================] - 0s 21ms/step\n",
      "1/1 [==============================] - 0s 42ms/step\n",
      "1/1 [==============================] - 0s 43ms/step\n",
      "1/1 [==============================] - 0s 36ms/step\n",
      "1/1 [==============================] - 0s 32ms/step\n",
      "1/1 [==============================] - 0s 47ms/step\n",
      "1/1 [==============================] - 0s 35ms/step\n",
      "1/1 [==============================] - 0s 25ms/step\n",
      "1/1 [==============================] - 0s 44ms/step\n",
      "1/1 [==============================] - 0s 50ms/step\n",
      "1/1 [==============================] - 0s 42ms/step\n",
      "1/1 [==============================] - 0s 55ms/step\n",
      "1/1 [==============================] - 0s 44ms/step\n",
      "1/1 [==============================] - 0s 34ms/step\n",
      "1/1 [==============================] - 0s 42ms/step\n",
      "1/1 [==============================] - 0s 38ms/step\n",
      "1/1 [==============================] - 0s 38ms/step\n",
      "1/1 [==============================] - 0s 33ms/step\n",
      "1/1 [==============================] - 0s 37ms/step\n",
      "1/1 [==============================] - 0s 74ms/step\n",
      "1/1 [==============================] - 0s 33ms/step\n",
      "1/1 [==============================] - 0s 37ms/step\n",
      "1/1 [==============================] - 0s 75ms/step\n",
      "1/1 [==============================] - 0s 36ms/step\n",
      "1/1 [==============================] - 0s 40ms/step\n",
      "1/1 [==============================] - 0s 50ms/step\n",
      "1/1 [==============================] - 0s 57ms/step\n",
      "/home/alla/ML/CapstoneProject1/archive/C-NMC_Leukemia/training_data/fold_2/all/UID_27_21_4_all.bmp\n",
      "1/1 [==============================] - 0s 63ms/step\n",
      "1/1 [==============================] - 0s 49ms/step\n",
      "1/1 [==============================] - 0s 67ms/step\n",
      "1/1 [==============================] - 0s 33ms/step\n",
      "1/1 [==============================] - 0s 81ms/step\n",
      "1/1 [==============================] - 0s 36ms/step\n",
      "1/1 [==============================] - 0s 45ms/step\n",
      "1/1 [==============================] - 0s 36ms/step\n",
      "1/1 [==============================] - 0s 45ms/step\n",
      "1/1 [==============================] - 0s 57ms/step\n",
      "1/1 [==============================] - 0s 50ms/step\n",
      "1/1 [==============================] - 0s 56ms/step\n",
      "1/1 [==============================] - 0s 46ms/step\n",
      "1/1 [==============================] - 0s 41ms/step\n",
      "1/1 [==============================] - 0s 34ms/step\n",
      "1/1 [==============================] - 0s 36ms/step\n",
      "1/1 [==============================] - 0s 59ms/step\n",
      "1/1 [==============================] - 0s 78ms/step\n",
      "1/1 [==============================] - 0s 79ms/step\n",
      "1/1 [==============================] - 0s 57ms/step\n",
      "1/1 [==============================] - 0s 67ms/step\n",
      "1/1 [==============================] - 0s 65ms/step\n",
      "1/1 [==============================] - 0s 74ms/step\n",
      "1/1 [==============================] - 0s 51ms/step\n",
      "1/1 [==============================] - 0s 69ms/step\n",
      "1/1 [==============================] - 0s 34ms/step\n",
      "1/1 [==============================] - 0s 50ms/step\n",
      "1/1 [==============================] - 0s 40ms/step\n",
      "1/1 [==============================] - 0s 63ms/step\n",
      "1/1 [==============================] - 0s 40ms/step\n",
      "1/1 [==============================] - 0s 50ms/step\n",
      "1/1 [==============================] - 0s 55ms/step\n",
      "1/1 [==============================] - 0s 43ms/step\n",
      "1/1 [==============================] - 0s 41ms/step\n",
      "1/1 [==============================] - 0s 32ms/step\n",
      "1/1 [==============================] - 0s 50ms/step\n",
      "1/1 [==============================] - 0s 38ms/step\n",
      "1/1 [==============================] - 0s 57ms/step\n",
      "/home/alla/ML/CapstoneProject1/archive/C-NMC_Leukemia/training_data/fold_2/all/UID_24_22_2_all.bmp\n",
      "1/1 [==============================] - 0s 72ms/step\n",
      "1/1 [==============================] - 0s 87ms/step\n",
      "1/1 [==============================] - 0s 63ms/step\n",
      "1/1 [==============================] - 0s 100ms/step\n",
      "1/1 [==============================] - 0s 112ms/step\n",
      "1/1 [==============================] - 0s 44ms/step\n",
      "1/1 [==============================] - 0s 33ms/step\n",
      "/home/alla/ML/CapstoneProject1/archive/C-NMC_Leukemia/training_data/fold_2/all/UID_25_31_1_all.bmp\n",
      "1/1 [==============================] - 0s 40ms/step\n",
      "1/1 [==============================] - 0s 50ms/step\n",
      "1/1 [==============================] - 0s 38ms/step\n",
      "1/1 [==============================] - 0s 36ms/step\n",
      "1/1 [==============================] - 0s 44ms/step\n",
      "/home/alla/ML/CapstoneProject1/archive/C-NMC_Leukemia/training_data/fold_2/all/UID_37_25_1_all.bmp\n",
      "1/1 [==============================] - 0s 71ms/step\n",
      "1/1 [==============================] - 0s 72ms/step\n",
      "1/1 [==============================] - 0s 32ms/step\n",
      "1/1 [==============================] - 0s 33ms/step\n",
      "1/1 [==============================] - 0s 79ms/step\n",
      "/home/alla/ML/CapstoneProject1/archive/C-NMC_Leukemia/training_data/fold_2/all/UID_37_17_1_all.bmp\n",
      "1/1 [==============================] - 0s 40ms/step\n",
      "1/1 [==============================] - 0s 53ms/step\n",
      "1/1 [==============================] - 0s 52ms/step\n",
      "1/1 [==============================] - 0s 34ms/step\n",
      "1/1 [==============================] - 0s 43ms/step\n",
      "1/1 [==============================] - 0s 43ms/step\n",
      "1/1 [==============================] - 0s 38ms/step\n",
      "1/1 [==============================] - 0s 40ms/step\n",
      "/home/alla/ML/CapstoneProject1/archive/C-NMC_Leukemia/training_data/fold_2/all/UID_37_25_12_all.bmp\n",
      "1/1 [==============================] - 0s 40ms/step\n",
      "1/1 [==============================] - 0s 64ms/step\n",
      "1/1 [==============================] - 0s 36ms/step\n",
      "1/1 [==============================] - 0s 38ms/step\n",
      "1/1 [==============================] - 0s 48ms/step\n",
      "1/1 [==============================] - 0s 35ms/step\n",
      "1/1 [==============================] - 0s 59ms/step\n",
      "1/1 [==============================] - 0s 37ms/step\n",
      "1/1 [==============================] - 0s 55ms/step\n",
      "/home/alla/ML/CapstoneProject1/archive/C-NMC_Leukemia/training_data/fold_2/all/UID_24_17_5_all.bmp\n",
      "1/1 [==============================] - 0s 45ms/step\n",
      "1/1 [==============================] - 0s 41ms/step\n",
      "1/1 [==============================] - 0s 36ms/step\n",
      "1/1 [==============================] - 0s 47ms/step\n",
      "1/1 [==============================] - 0s 37ms/step\n",
      "1/1 [==============================] - 0s 47ms/step\n",
      "1/1 [==============================] - 0s 44ms/step\n",
      "1/1 [==============================] - 0s 47ms/step\n",
      "1/1 [==============================] - 0s 54ms/step\n",
      "1/1 [==============================] - 0s 60ms/step\n",
      "1/1 [==============================] - 0s 31ms/step\n",
      "/home/alla/ML/CapstoneProject1/archive/C-NMC_Leukemia/training_data/fold_2/all/UID_24_17_4_all.bmp\n",
      "1/1 [==============================] - 0s 42ms/step\n",
      "1/1 [==============================] - 0s 57ms/step\n",
      "1/1 [==============================] - 0s 38ms/step\n",
      "1/1 [==============================] - 0s 33ms/step\n",
      "1/1 [==============================] - 0s 33ms/step\n",
      "/home/alla/ML/CapstoneProject1/archive/C-NMC_Leukemia/training_data/fold_2/all/UID_24_34_1_all.bmp\n",
      "1/1 [==============================] - 0s 44ms/step\n",
      "/home/alla/ML/CapstoneProject1/archive/C-NMC_Leukemia/training_data/fold_2/all/UID_37_8_2_all.bmp\n",
      "1/1 [==============================] - 0s 61ms/step\n",
      "1/1 [==============================] - 0s 38ms/step\n",
      "1/1 [==============================] - 0s 50ms/step\n",
      "/home/alla/ML/CapstoneProject1/archive/C-NMC_Leukemia/training_data/fold_2/all/UID_24_8_3_all.bmp\n",
      "1/1 [==============================] - 0s 35ms/step\n",
      "1/1 [==============================] - 0s 46ms/step\n",
      "1/1 [==============================] - 0s 41ms/step\n",
      "1/1 [==============================] - 0s 40ms/step\n",
      "1/1 [==============================] - 0s 33ms/step\n",
      "1/1 [==============================] - 0s 33ms/step\n",
      "1/1 [==============================] - 0s 38ms/step\n",
      "/home/alla/ML/CapstoneProject1/archive/C-NMC_Leukemia/training_data/fold_2/all/UID_27_14_8_all.bmp\n",
      "1/1 [==============================] - 0s 42ms/step\n",
      "1/1 [==============================] - 0s 35ms/step\n",
      "/home/alla/ML/CapstoneProject1/archive/C-NMC_Leukemia/training_data/fold_2/all/UID_24_20_2_all.bmp\n",
      "1/1 [==============================] - 0s 35ms/step\n",
      "1/1 [==============================] - 0s 64ms/step\n",
      "1/1 [==============================] - 0s 31ms/step\n",
      "1/1 [==============================] - 0s 48ms/step\n",
      "1/1 [==============================] - 0s 52ms/step\n",
      "1/1 [==============================] - 0s 41ms/step\n",
      "1/1 [==============================] - 0s 46ms/step\n",
      "1/1 [==============================] - 0s 57ms/step\n",
      "1/1 [==============================] - 0s 60ms/step\n",
      "1/1 [==============================] - 0s 109ms/step\n",
      "1/1 [==============================] - 0s 59ms/step\n",
      "/home/alla/ML/CapstoneProject1/archive/C-NMC_Leukemia/training_data/fold_2/all/UID_27_10_7_all.bmp\n",
      "1/1 [==============================] - 0s 79ms/step\n",
      "1/1 [==============================] - 0s 72ms/step\n",
      "/home/alla/ML/CapstoneProject1/archive/C-NMC_Leukemia/training_data/fold_2/all/UID_24_28_5_all.bmp\n",
      "1/1 [==============================] - 0s 68ms/step\n",
      "1/1 [==============================] - 0s 45ms/step\n",
      "/home/alla/ML/CapstoneProject1/archive/C-NMC_Leukemia/training_data/fold_2/all/UID_27_8_3_all.bmp\n",
      "1/1 [==============================] - 0s 38ms/step\n",
      "/home/alla/ML/CapstoneProject1/archive/C-NMC_Leukemia/training_data/fold_2/all/UID_27_28_4_all.bmp\n",
      "1/1 [==============================] - 0s 44ms/step\n",
      "1/1 [==============================] - 0s 46ms/step\n",
      "1/1 [==============================] - 0s 45ms/step\n",
      "1/1 [==============================] - 0s 57ms/step\n",
      "1/1 [==============================] - 0s 58ms/step\n",
      "1/1 [==============================] - 0s 49ms/step\n",
      "1/1 [==============================] - 0s 51ms/step\n",
      "1/1 [==============================] - 0s 43ms/step\n",
      "1/1 [==============================] - 0s 78ms/step\n",
      "1/1 [==============================] - 0s 38ms/step\n",
      "1/1 [==============================] - 0s 40ms/step\n",
      "1/1 [==============================] - 0s 46ms/step\n",
      "1/1 [==============================] - 0s 72ms/step\n",
      "1/1 [==============================] - 0s 45ms/step\n",
      "1/1 [==============================] - 0s 77ms/step\n",
      "1/1 [==============================] - 0s 43ms/step\n",
      "1/1 [==============================] - 0s 77ms/step\n",
      "/home/alla/ML/CapstoneProject1/archive/C-NMC_Leukemia/training_data/fold_2/all/UID_37_6_1_all.bmp\n",
      "1/1 [==============================] - 0s 47ms/step\n",
      "1/1 [==============================] - 0s 58ms/step\n",
      "1/1 [==============================] - 0s 46ms/step\n",
      "1/1 [==============================] - 0s 82ms/step\n",
      "/home/alla/ML/CapstoneProject1/archive/C-NMC_Leukemia/training_data/fold_2/all/UID_27_10_6_all.bmp\n",
      "1/1 [==============================] - 0s 51ms/step\n",
      "1/1 [==============================] - 0s 42ms/step\n",
      "1/1 [==============================] - 0s 65ms/step\n",
      "1/1 [==============================] - 0s 71ms/step\n",
      "1/1 [==============================] - 0s 33ms/step\n",
      "1/1 [==============================] - 0s 59ms/step\n",
      "/home/alla/ML/CapstoneProject1/archive/C-NMC_Leukemia/training_data/fold_2/all/UID_37_7_7_all.bmp\n",
      "1/1 [==============================] - 0s 58ms/step\n",
      "1/1 [==============================] - 0s 63ms/step\n",
      "1/1 [==============================] - 0s 56ms/step\n",
      "1/1 [==============================] - 0s 42ms/step\n",
      "1/1 [==============================] - 0s 33ms/step\n",
      "1/1 [==============================] - 0s 55ms/step\n",
      "1/1 [==============================] - 0s 107ms/step\n",
      "1/1 [==============================] - 0s 40ms/step\n",
      "1/1 [==============================] - 0s 40ms/step\n",
      "1/1 [==============================] - 0s 41ms/step\n",
      "1/1 [==============================] - 0s 43ms/step\n",
      "1/1 [==============================] - 0s 74ms/step\n",
      "1/1 [==============================] - 0s 48ms/step\n",
      "1/1 [==============================] - 0s 35ms/step\n",
      "1/1 [==============================] - 0s 54ms/step\n",
      "1/1 [==============================] - 0s 37ms/step\n",
      "1/1 [==============================] - 0s 75ms/step\n",
      "1/1 [==============================] - 0s 85ms/step\n",
      "1/1 [==============================] - 0s 82ms/step\n",
      "1/1 [==============================] - 0s 49ms/step\n",
      "1/1 [==============================] - 0s 62ms/step\n",
      "1/1 [==============================] - 0s 55ms/step\n",
      "1/1 [==============================] - 0s 41ms/step\n",
      "1/1 [==============================] - 0s 44ms/step\n",
      "1/1 [==============================] - 0s 42ms/step\n",
      "1/1 [==============================] - 0s 54ms/step\n",
      "1/1 [==============================] - 0s 50ms/step\n",
      "1/1 [==============================] - 0s 68ms/step\n",
      "1/1 [==============================] - 0s 43ms/step\n",
      "1/1 [==============================] - 0s 37ms/step\n",
      "1/1 [==============================] - 0s 81ms/step\n",
      "1/1 [==============================] - 0s 42ms/step\n",
      "1/1 [==============================] - 0s 39ms/step\n",
      "1/1 [==============================] - 0s 68ms/step\n",
      "1/1 [==============================] - 0s 39ms/step\n",
      "1/1 [==============================] - 0s 37ms/step\n",
      "1/1 [==============================] - 0s 56ms/step\n",
      "1/1 [==============================] - 0s 22ms/step\n",
      "1/1 [==============================] - 0s 51ms/step\n",
      "1/1 [==============================] - 0s 57ms/step\n",
      "1/1 [==============================] - 0s 47ms/step\n",
      "1/1 [==============================] - 0s 53ms/step\n",
      "1/1 [==============================] - 0s 33ms/step\n",
      "1/1 [==============================] - 0s 38ms/step\n",
      "/home/alla/ML/CapstoneProject1/archive/C-NMC_Leukemia/training_data/fold_2/all/UID_37_4_3_all.bmp\n",
      "1/1 [==============================] - 0s 57ms/step\n",
      "1/1 [==============================] - 0s 29ms/step\n",
      "1/1 [==============================] - 0s 38ms/step\n",
      "1/1 [==============================] - 0s 67ms/step\n",
      "1/1 [==============================] - 0s 29ms/step\n",
      "/home/alla/ML/CapstoneProject1/archive/C-NMC_Leukemia/training_data/fold_2/all/UID_37_11_13_all.bmp\n",
      "1/1 [==============================] - 0s 30ms/step\n",
      "1/1 [==============================] - 0s 74ms/step\n",
      "1/1 [==============================] - 0s 52ms/step\n",
      "1/1 [==============================] - 0s 58ms/step\n",
      "1/1 [==============================] - 0s 40ms/step\n",
      "1/1 [==============================] - 0s 67ms/step\n",
      "1/1 [==============================] - 0s 43ms/step\n",
      "1/1 [==============================] - 0s 66ms/step\n",
      "1/1 [==============================] - 0s 40ms/step\n",
      "1/1 [==============================] - 0s 42ms/step\n",
      "1/1 [==============================] - 0s 44ms/step\n",
      "1/1 [==============================] - 0s 42ms/step\n",
      "1/1 [==============================] - 0s 41ms/step\n",
      "1/1 [==============================] - 0s 74ms/step\n",
      "1/1 [==============================] - 0s 38ms/step\n",
      "1/1 [==============================] - 0s 46ms/step\n",
      "1/1 [==============================] - 0s 34ms/step\n",
      "/home/alla/ML/CapstoneProject1/archive/C-NMC_Leukemia/training_data/fold_2/all/UID_27_34_7_all.bmp\n",
      "1/1 [==============================] - 0s 78ms/step\n",
      "1/1 [==============================] - 0s 60ms/step\n",
      "1/1 [==============================] - 0s 42ms/step\n",
      "1/1 [==============================] - 0s 68ms/step\n",
      "1/1 [==============================] - 0s 42ms/step\n",
      "1/1 [==============================] - 0s 63ms/step\n",
      "1/1 [==============================] - 0s 48ms/step\n",
      "1/1 [==============================] - 0s 39ms/step\n",
      "1/1 [==============================] - 0s 77ms/step\n",
      "1/1 [==============================] - 0s 48ms/step\n",
      "1/1 [==============================] - 0s 36ms/step\n",
      "1/1 [==============================] - 0s 35ms/step\n",
      "1/1 [==============================] - 0s 51ms/step\n",
      "/home/alla/ML/CapstoneProject1/archive/C-NMC_Leukemia/training_data/fold_2/all/UID_24_10_2_all.bmp\n",
      "1/1 [==============================] - 0s 42ms/step\n",
      "/home/alla/ML/CapstoneProject1/archive/C-NMC_Leukemia/training_data/fold_2/all/UID_24_28_2_all.bmp\n",
      "1/1 [==============================] - 0s 63ms/step\n",
      "1/1 [==============================] - 0s 69ms/step\n",
      "1/1 [==============================] - 0s 44ms/step\n",
      "/home/alla/ML/CapstoneProject1/archive/C-NMC_Leukemia/training_data/fold_2/all/UID_27_34_6_all.bmp\n",
      "1/1 [==============================] - 0s 52ms/step\n",
      "1/1 [==============================] - 0s 61ms/step\n",
      "1/1 [==============================] - 0s 48ms/step\n",
      "1/1 [==============================] - 0s 36ms/step\n",
      "1/1 [==============================] - 0s 63ms/step\n",
      "1/1 [==============================] - 0s 51ms/step\n",
      "1/1 [==============================] - 0s 49ms/step\n",
      "1/1 [==============================] - 0s 80ms/step\n",
      "1/1 [==============================] - 0s 59ms/step\n",
      "1/1 [==============================] - 0s 47ms/step\n",
      "1/1 [==============================] - 0s 48ms/step\n",
      "1/1 [==============================] - 0s 36ms/step\n",
      "1/1 [==============================] - 0s 54ms/step\n",
      "1/1 [==============================] - 0s 27ms/step\n",
      "1/1 [==============================] - 0s 57ms/step\n",
      "1/1 [==============================] - 0s 44ms/step\n",
      "1/1 [==============================] - 0s 42ms/step\n",
      "1/1 [==============================] - 0s 41ms/step\n",
      "1/1 [==============================] - 0s 49ms/step\n",
      "1/1 [==============================] - 0s 42ms/step\n"
     ]
    },
    {
     "ename": "KeyboardInterrupt",
     "evalue": "",
     "output_type": "error",
     "traceback": [
      "\u001b[0;31m---------------------------------------------------------------------------\u001b[0m",
      "\u001b[0;31mKeyboardInterrupt\u001b[0m                         Traceback (most recent call last)",
      "Cell \u001b[0;32mIn[142], line 11\u001b[0m\n\u001b[1;32m      8\u001b[0m X \u001b[38;5;241m=\u001b[39m np\u001b[38;5;241m.\u001b[39marray([x])\n\u001b[1;32m      9\u001b[0m X \u001b[38;5;241m=\u001b[39m X\u001b[38;5;241m/\u001b[39m \u001b[38;5;241m255\u001b[39m\n\u001b[0;32m---> 11\u001b[0m pred \u001b[38;5;241m=\u001b[39m \u001b[43mmodel\u001b[49m\u001b[38;5;241;43m.\u001b[39;49m\u001b[43mpredict\u001b[49m\u001b[43m(\u001b[49m\u001b[43mX\u001b[49m\u001b[43m)\u001b[49m[\u001b[38;5;241m0\u001b[39m]\n\u001b[1;32m     12\u001b[0m res \u001b[38;5;241m=\u001b[39m {\u001b[38;5;124m'\u001b[39m\u001b[38;5;124mhem\u001b[39m\u001b[38;5;124m'\u001b[39m:pred[\u001b[38;5;241m0\u001b[39m], \u001b[38;5;124m'\u001b[39m\u001b[38;5;124mall\u001b[39m\u001b[38;5;124m'\u001b[39m:\u001b[38;5;241m1\u001b[39m\u001b[38;5;241m-\u001b[39mpred[\u001b[38;5;241m0\u001b[39m]}\n\u001b[1;32m     13\u001b[0m \u001b[38;5;66;03m#print (res)\u001b[39;00m\n",
      "File \u001b[0;32m~/anaconda3/lib/python3.9/site-packages/keras/utils/traceback_utils.py:64\u001b[0m, in \u001b[0;36mfilter_traceback.<locals>.error_handler\u001b[0;34m(*args, **kwargs)\u001b[0m\n\u001b[1;32m     62\u001b[0m filtered_tb \u001b[38;5;241m=\u001b[39m \u001b[38;5;28;01mNone\u001b[39;00m\n\u001b[1;32m     63\u001b[0m \u001b[38;5;28;01mtry\u001b[39;00m:\n\u001b[0;32m---> 64\u001b[0m   \u001b[38;5;28;01mreturn\u001b[39;00m \u001b[43mfn\u001b[49m\u001b[43m(\u001b[49m\u001b[38;5;241;43m*\u001b[39;49m\u001b[43margs\u001b[49m\u001b[43m,\u001b[49m\u001b[43m \u001b[49m\u001b[38;5;241;43m*\u001b[39;49m\u001b[38;5;241;43m*\u001b[39;49m\u001b[43mkwargs\u001b[49m\u001b[43m)\u001b[49m\n\u001b[1;32m     65\u001b[0m \u001b[38;5;28;01mexcept\u001b[39;00m \u001b[38;5;167;01mException\u001b[39;00m \u001b[38;5;28;01mas\u001b[39;00m e:  \u001b[38;5;66;03m# pylint: disable=broad-except\u001b[39;00m\n\u001b[1;32m     66\u001b[0m   filtered_tb \u001b[38;5;241m=\u001b[39m _process_traceback_frames(e\u001b[38;5;241m.\u001b[39m__traceback__)\n",
      "File \u001b[0;32m~/anaconda3/lib/python3.9/site-packages/keras/engine/training.py:2029\u001b[0m, in \u001b[0;36mModel.predict\u001b[0;34m(self, x, batch_size, verbose, steps, callbacks, max_queue_size, workers, use_multiprocessing)\u001b[0m\n\u001b[1;32m   2027\u001b[0m callbacks\u001b[38;5;241m.\u001b[39mon_predict_begin()\n\u001b[1;32m   2028\u001b[0m batch_outputs \u001b[38;5;241m=\u001b[39m \u001b[38;5;28;01mNone\u001b[39;00m\n\u001b[0;32m-> 2029\u001b[0m \u001b[38;5;28;01mfor\u001b[39;00m _, iterator \u001b[38;5;129;01min\u001b[39;00m data_handler\u001b[38;5;241m.\u001b[39menumerate_epochs():  \u001b[38;5;66;03m# Single epoch.\u001b[39;00m\n\u001b[1;32m   2030\u001b[0m   \u001b[38;5;28;01mwith\u001b[39;00m data_handler\u001b[38;5;241m.\u001b[39mcatch_stop_iteration():\n\u001b[1;32m   2031\u001b[0m     \u001b[38;5;28;01mfor\u001b[39;00m step \u001b[38;5;129;01min\u001b[39;00m data_handler\u001b[38;5;241m.\u001b[39msteps():\n",
      "File \u001b[0;32m~/anaconda3/lib/python3.9/site-packages/keras/engine/data_adapter.py:1193\u001b[0m, in \u001b[0;36mDataHandler.enumerate_epochs\u001b[0;34m(self)\u001b[0m\n\u001b[1;32m   1191\u001b[0m \u001b[38;5;250m\u001b[39m\u001b[38;5;124;03m\"\"\"Yields `(epoch, tf.data.Iterator)`.\"\"\"\u001b[39;00m\n\u001b[1;32m   1192\u001b[0m \u001b[38;5;28;01mwith\u001b[39;00m \u001b[38;5;28mself\u001b[39m\u001b[38;5;241m.\u001b[39m_truncate_execution_to_epoch():\n\u001b[0;32m-> 1193\u001b[0m   data_iterator \u001b[38;5;241m=\u001b[39m \u001b[38;5;28;43miter\u001b[39;49m\u001b[43m(\u001b[49m\u001b[38;5;28;43mself\u001b[39;49m\u001b[38;5;241;43m.\u001b[39;49m\u001b[43m_dataset\u001b[49m\u001b[43m)\u001b[49m\n\u001b[1;32m   1194\u001b[0m   \u001b[38;5;28;01mfor\u001b[39;00m epoch \u001b[38;5;129;01min\u001b[39;00m \u001b[38;5;28mrange\u001b[39m(\u001b[38;5;28mself\u001b[39m\u001b[38;5;241m.\u001b[39m_initial_epoch, \u001b[38;5;28mself\u001b[39m\u001b[38;5;241m.\u001b[39m_epochs):\n\u001b[1;32m   1195\u001b[0m     \u001b[38;5;28;01mif\u001b[39;00m \u001b[38;5;28mself\u001b[39m\u001b[38;5;241m.\u001b[39m_insufficient_data:  \u001b[38;5;66;03m# Set by `catch_stop_iteration`.\u001b[39;00m\n",
      "File \u001b[0;32m~/anaconda3/lib/python3.9/site-packages/tensorflow/python/data/ops/dataset_ops.py:494\u001b[0m, in \u001b[0;36mDatasetV2.__iter__\u001b[0;34m(self)\u001b[0m\n\u001b[1;32m    492\u001b[0m \u001b[38;5;28;01mif\u001b[39;00m context\u001b[38;5;241m.\u001b[39mexecuting_eagerly() \u001b[38;5;129;01mor\u001b[39;00m ops\u001b[38;5;241m.\u001b[39minside_function():\n\u001b[1;32m    493\u001b[0m   \u001b[38;5;28;01mwith\u001b[39;00m ops\u001b[38;5;241m.\u001b[39mcolocate_with(\u001b[38;5;28mself\u001b[39m\u001b[38;5;241m.\u001b[39m_variant_tensor):\n\u001b[0;32m--> 494\u001b[0m     \u001b[38;5;28;01mreturn\u001b[39;00m \u001b[43miterator_ops\u001b[49m\u001b[38;5;241;43m.\u001b[39;49m\u001b[43mOwnedIterator\u001b[49m\u001b[43m(\u001b[49m\u001b[38;5;28;43mself\u001b[39;49m\u001b[43m)\u001b[49m\n\u001b[1;32m    495\u001b[0m \u001b[38;5;28;01melse\u001b[39;00m:\n\u001b[1;32m    496\u001b[0m   \u001b[38;5;28;01mraise\u001b[39;00m \u001b[38;5;167;01mRuntimeError\u001b[39;00m(\u001b[38;5;124m\"\u001b[39m\u001b[38;5;124m`tf.data.Dataset` only supports Python-style \u001b[39m\u001b[38;5;124m\"\u001b[39m\n\u001b[1;32m    497\u001b[0m                      \u001b[38;5;124m\"\u001b[39m\u001b[38;5;124miteration in eager mode or within tf.function.\u001b[39m\u001b[38;5;124m\"\u001b[39m)\n",
      "File \u001b[0;32m~/anaconda3/lib/python3.9/site-packages/tensorflow/python/data/ops/iterator_ops.py:696\u001b[0m, in \u001b[0;36mOwnedIterator.__init__\u001b[0;34m(self, dataset, components, element_spec)\u001b[0m\n\u001b[1;32m    692\u001b[0m   \u001b[38;5;28;01mif\u001b[39;00m (components \u001b[38;5;129;01mis\u001b[39;00m \u001b[38;5;129;01mnot\u001b[39;00m \u001b[38;5;28;01mNone\u001b[39;00m \u001b[38;5;129;01mor\u001b[39;00m element_spec \u001b[38;5;129;01mis\u001b[39;00m \u001b[38;5;129;01mnot\u001b[39;00m \u001b[38;5;28;01mNone\u001b[39;00m):\n\u001b[1;32m    693\u001b[0m     \u001b[38;5;28;01mraise\u001b[39;00m \u001b[38;5;167;01mValueError\u001b[39;00m(\n\u001b[1;32m    694\u001b[0m         \u001b[38;5;124m\"\u001b[39m\u001b[38;5;124mWhen `dataset` is provided, `element_spec` and `components` must \u001b[39m\u001b[38;5;124m\"\u001b[39m\n\u001b[1;32m    695\u001b[0m         \u001b[38;5;124m\"\u001b[39m\u001b[38;5;124mnot be specified.\u001b[39m\u001b[38;5;124m\"\u001b[39m)\n\u001b[0;32m--> 696\u001b[0m   \u001b[38;5;28;43mself\u001b[39;49m\u001b[38;5;241;43m.\u001b[39;49m\u001b[43m_create_iterator\u001b[49m\u001b[43m(\u001b[49m\u001b[43mdataset\u001b[49m\u001b[43m)\u001b[49m\n\u001b[1;32m    698\u001b[0m \u001b[38;5;28mself\u001b[39m\u001b[38;5;241m.\u001b[39m_get_next_call_count \u001b[38;5;241m=\u001b[39m \u001b[38;5;241m0\u001b[39m\n",
      "File \u001b[0;32m~/anaconda3/lib/python3.9/site-packages/tensorflow/python/data/ops/iterator_ops.py:721\u001b[0m, in \u001b[0;36mOwnedIterator._create_iterator\u001b[0;34m(self, dataset)\u001b[0m\n\u001b[1;32m    716\u001b[0m \u001b[38;5;28;01mwith\u001b[39;00m ops\u001b[38;5;241m.\u001b[39mcolocate_with(ds_variant):\n\u001b[1;32m    717\u001b[0m   \u001b[38;5;28mself\u001b[39m\u001b[38;5;241m.\u001b[39m_iterator_resource \u001b[38;5;241m=\u001b[39m (\n\u001b[1;32m    718\u001b[0m       gen_dataset_ops\u001b[38;5;241m.\u001b[39manonymous_iterator_v3(\n\u001b[1;32m    719\u001b[0m           output_types\u001b[38;5;241m=\u001b[39m\u001b[38;5;28mself\u001b[39m\u001b[38;5;241m.\u001b[39m_flat_output_types,\n\u001b[1;32m    720\u001b[0m           output_shapes\u001b[38;5;241m=\u001b[39m\u001b[38;5;28mself\u001b[39m\u001b[38;5;241m.\u001b[39m_flat_output_shapes))\n\u001b[0;32m--> 721\u001b[0m   \u001b[43mgen_dataset_ops\u001b[49m\u001b[38;5;241;43m.\u001b[39;49m\u001b[43mmake_iterator\u001b[49m\u001b[43m(\u001b[49m\u001b[43mds_variant\u001b[49m\u001b[43m,\u001b[49m\u001b[43m \u001b[49m\u001b[38;5;28;43mself\u001b[39;49m\u001b[38;5;241;43m.\u001b[39;49m\u001b[43m_iterator_resource\u001b[49m\u001b[43m)\u001b[49m\n",
      "File \u001b[0;32m~/anaconda3/lib/python3.9/site-packages/tensorflow/python/ops/gen_dataset_ops.py:3409\u001b[0m, in \u001b[0;36mmake_iterator\u001b[0;34m(dataset, iterator, name)\u001b[0m\n\u001b[1;32m   3407\u001b[0m \u001b[38;5;28;01mif\u001b[39;00m tld\u001b[38;5;241m.\u001b[39mis_eager:\n\u001b[1;32m   3408\u001b[0m   \u001b[38;5;28;01mtry\u001b[39;00m:\n\u001b[0;32m-> 3409\u001b[0m     _result \u001b[38;5;241m=\u001b[39m \u001b[43mpywrap_tfe\u001b[49m\u001b[38;5;241;43m.\u001b[39;49m\u001b[43mTFE_Py_FastPathExecute\u001b[49m\u001b[43m(\u001b[49m\n\u001b[1;32m   3410\u001b[0m \u001b[43m      \u001b[49m\u001b[43m_ctx\u001b[49m\u001b[43m,\u001b[49m\u001b[43m \u001b[49m\u001b[38;5;124;43m\"\u001b[39;49m\u001b[38;5;124;43mMakeIterator\u001b[39;49m\u001b[38;5;124;43m\"\u001b[39;49m\u001b[43m,\u001b[49m\u001b[43m \u001b[49m\u001b[43mname\u001b[49m\u001b[43m,\u001b[49m\u001b[43m \u001b[49m\u001b[43mdataset\u001b[49m\u001b[43m,\u001b[49m\u001b[43m \u001b[49m\u001b[43miterator\u001b[49m\u001b[43m)\u001b[49m\n\u001b[1;32m   3411\u001b[0m     \u001b[38;5;28;01mreturn\u001b[39;00m _result\n\u001b[1;32m   3412\u001b[0m   \u001b[38;5;28;01mexcept\u001b[39;00m _core\u001b[38;5;241m.\u001b[39m_NotOkStatusException \u001b[38;5;28;01mas\u001b[39;00m e:\n",
      "\u001b[0;31mKeyboardInterrupt\u001b[0m: "
     ]
    }
   ],
   "source": [
    "counter = {'hem':0, 'all':0}\n",
    "\n",
    "path = '/home/alla/ML/CapstoneProject1/archive/C-NMC_Leukemia/training_data/fold_2/all/'\n",
    "\n",
    "for fullname in glob.glob(path+'*'):\n",
    "    img = load_img(fullname, target_size=(150, 150))\n",
    "    x = np.array(img, dtype='float32')\n",
    "    X = np.array([x])\n",
    "    X = X/ 255\n",
    "    \n",
    "    pred = model.predict(X)[0]\n",
    "    res = {'hem':pred[0], 'all':1-pred[0]}\n",
    "    #print (res)\n",
    "\n",
    "    if pred >= 0.5:\n",
    "        counter['hem'] += 1\n",
    "        \n",
    "    else:\n",
    "        counter['all'] += 1\n",
    "\n",
    "\n",
    "counter['hem'] / (counter['hem'] + counter['all'])"
   ]
  },
  {
   "cell_type": "code",
   "execution_count": 136,
   "id": "c7dbbdd1-3c4a-4dfe-bf8d-3026da0ed70c",
   "metadata": {},
   "outputs": [
    {
     "data": {
      "text/plain": [
       "{'hem': 201, 'all': 2256}"
      ]
     },
     "execution_count": 136,
     "metadata": {},
     "output_type": "execute_result"
    }
   ],
   "source": [
    "counter"
   ]
  },
  {
   "cell_type": "code",
   "execution_count": 137,
   "id": "44555321-68c7-4291-bb53-b78f754c0a12",
   "metadata": {},
   "outputs": [
    {
     "data": {
      "text/plain": [
       "0.7604840979453983"
      ]
     },
     "execution_count": 137,
     "metadata": {},
     "output_type": "execute_result"
    }
   ],
   "source": [
    "# {'hem': 446, 'all': 650}\n",
    "correct_pred = 446 + 2256\n",
    "total = 446 + 650 + 2256 + 201\n",
    "\n",
    "correct_pred / total "
   ]
  },
  {
   "cell_type": "markdown",
   "id": "d5029abf-8c95-4a9a-9de2-308b11c934b3",
   "metadata": {},
   "source": [
    "Let's quickly check whether our model will predict images that I put to my github "
   ]
  },
  {
   "cell_type": "code",
   "execution_count": 139,
   "id": "e3255c96-35e1-4ea5-b8e1-00fd0eac6a45",
   "metadata": {},
   "outputs": [
    {
     "name": "stdout",
     "output_type": "stream",
     "text": [
      "1/1 [==============================] - 0s 20ms/step\n"
     ]
    },
    {
     "data": {
      "text/plain": [
       "{'hem': 0.08117297, 'all': 0.9188270270824432}"
      ]
     },
     "execution_count": 139,
     "metadata": {},
     "output_type": "execute_result"
    }
   ],
   "source": [
    "# ALL\n",
    "sample_path = 'https://raw.githubusercontent.com/triasteran/Machine-Learning-Zoomcamp-2023/b9f4faf7b04311b191b7fa12ab3fedabf9825d69/CapstoneProject1/tests/UID_78_9_7_all.bmp'\n",
    "    \n",
    "response = requests.get(sample_path)   \n",
    "\n",
    "img = Image.open(BytesIO(response.content)).resize((150, 150),Image.NEAREST)\n",
    "\n",
    "\n",
    "# preprocess it \n",
    "x = np.array(img, dtype='float32')\n",
    "X = np.array([x])\n",
    "X = X/ 255\n",
    "\n",
    "# now use the model to predict a class \n",
    "pred = model.predict(X)[0]\n",
    "\n",
    "res = {'hem':pred[0], 'all':1-pred[0]}\n",
    "\n",
    "# it's 'all' \n",
    "res"
   ]
  },
  {
   "cell_type": "code",
   "execution_count": 140,
   "id": "e33d7cdc-c28f-4f8b-8cfe-aa694a041cdf",
   "metadata": {},
   "outputs": [
    {
     "name": "stdout",
     "output_type": "stream",
     "text": [
      "1/1 [==============================] - 0s 19ms/step\n"
     ]
    },
    {
     "data": {
      "text/plain": [
       "{'hem': 0.09328697, 'all': 0.906713031232357}"
      ]
     },
     "execution_count": 140,
     "metadata": {},
     "output_type": "execute_result"
    }
   ],
   "source": [
    "# HEM\n",
    "sample_path = 'https://raw.githubusercontent.com/triasteran/Machine-Learning-Zoomcamp-2023/b9f4faf7b04311b191b7fa12ab3fedabf9825d69/CapstoneProject1/tests/UID_h3_6_1_hem.bmp'\n",
    "    \n",
    "response = requests.get(sample_path)   \n",
    "\n",
    "img = Image.open(BytesIO(response.content)).resize((150, 150),Image.NEAREST)\n",
    "\n",
    "\n",
    "# preprocess it \n",
    "x = np.array(img, dtype='float32')\n",
    "X = np.array([x])\n",
    "X = X/ 255\n",
    "\n",
    "# now use the model to predict a class \n",
    "pred = model.predict(X)[0]\n",
    "\n",
    "# it's unfortunetely 'all' too due to class imbalance \n",
    "res = {'hem':pred[0], 'all':1-pred[0]}\n",
    "res"
   ]
  },
  {
   "cell_type": "code",
   "execution_count": null,
   "id": "86d58ee3-9275-4a9f-b24d-03ff559abc5f",
   "metadata": {},
   "outputs": [],
   "source": []
  },
  {
   "cell_type": "markdown",
   "id": "0fbf6c35-3e80-49e1-85d9-00f0911a227e",
   "metadata": {},
   "source": [
    "# Let's have a quick look at pretrained models "
   ]
  },
  {
   "cell_type": "markdown",
   "id": "6ad3dcc0-d459-4a6d-8422-fc5bdcae33e8",
   "metadata": {},
   "source": [
    "## Model2: EfficientNet. it takes quite some time to train! and val_accuracy is not impressive"
   ]
  },
  {
   "cell_type": "code",
   "execution_count": 43,
   "id": "3ac762e3-76b8-466c-8eff-6f5504423bec",
   "metadata": {},
   "outputs": [
    {
     "name": "stdout",
     "output_type": "stream",
     "text": [
      "Model: \"sequential_4\"\n",
      "_________________________________________________________________\n",
      " Layer (type)                Output Shape              Param #   \n",
      "=================================================================\n",
      " efficientnetb3 (Functional)  (None, 1536)             10783535  \n",
      "                                                                 \n",
      " batch_normalization_4 (Batc  (None, 1536)             6144      \n",
      " hNormalization)                                                 \n",
      "                                                                 \n",
      " dense_8 (Dense)             (None, 256)               393472    \n",
      "                                                                 \n",
      " dropout_4 (Dropout)         (None, 256)               0         \n",
      "                                                                 \n",
      " dense_9 (Dense)             (None, 1)                 257       \n",
      "                                                                 \n",
      "=================================================================\n",
      "Total params: 11,183,408\n",
      "Trainable params: 11,093,033\n",
      "Non-trainable params: 90,375\n",
      "_________________________________________________________________\n"
     ]
    }
   ],
   "source": [
    "EfficientNetBaseModel = tf.keras.applications.efficientnet.EfficientNetB3(include_top= False, \n",
    "                                                                   weights= \"imagenet\", \n",
    "                                                                   input_shape= (150, 150, 3), \n",
    "                                                                   pooling= 'max')\n",
    "\n",
    "EfficientNetModel = Sequential([\n",
    "    EfficientNetBaseModel,\n",
    "    BatchNormalization(),  \n",
    "    Dense(256, activation='relu'), \n",
    "    Dropout(0.45),\n",
    "    Dense(1, activation='sigmoid')\n",
    "])\n",
    "\n",
    "# Compile the model\n",
    "EfficientNetModel.compile(Adamax(learning_rate= 0.001), loss= 'binary_crossentropy', metrics= ['accuracy'])\n",
    "\n",
    "EfficientNetModel.summary()"
   ]
  },
  {
   "cell_type": "code",
   "execution_count": null,
   "id": "9bf1338e-d4d3-4d01-a15c-be5f1d4140d4",
   "metadata": {},
   "outputs": [
    {
     "name": "stdout",
     "output_type": "stream",
     "text": [
      "Epoch 1/6\n",
      "177/177 [==============================] - 615s 3s/step - loss: 0.5020 - accuracy: 0.8081 - val_loss: 0.6513 - val_accuracy: 0.6752\n",
      "Epoch 2/6\n",
      "177/177 [==============================] - 670s 4s/step - loss: 0.3644 - accuracy: 0.8625 - val_loss: 0.5531 - val_accuracy: 0.7476\n",
      "Epoch 3/6\n",
      "177/177 [==============================] - 669s 4s/step - loss: 0.2800 - accuracy: 0.8903 - val_loss: 0.6829 - val_accuracy: 0.6752\n",
      "Epoch 4/6\n",
      "177/177 [==============================] - 717s 4s/step - loss: 0.2190 - accuracy: 0.9181 - val_loss: 10.3655 - val_accuracy: 0.6627\n",
      "Epoch 5/6\n",
      "177/177 [==============================] - 675s 4s/step - loss: 0.1518 - accuracy: 0.9379 - val_loss: 0.6137 - val_accuracy: 0.6758\n",
      "Epoch 6/6\n",
      " 37/177 [=====>........................] - ETA: 7:15 - loss: 0.1688 - accuracy: 0.9203"
     ]
    }
   ],
   "source": [
    "EfficientNetModel_history = EfficientNetModel.fit(x = train_ds, \n",
    "                            epochs = 6, \n",
    "                            verbose = 1,\n",
    "                            validation_data = val_ds)"
   ]
  },
  {
   "cell_type": "code",
   "execution_count": null,
   "id": "b62a2581-989a-402e-a04c-d36489616ef6",
   "metadata": {},
   "outputs": [],
   "source": [
    "hist = EfficientNetModel_history.history\n",
    "plt.plot(hist['val_acc'], label='val')\n",
    "plt.plot(hist['acc'], label='train')\n",
    "\n",
    "plt.legend()"
   ]
  },
  {
   "cell_type": "markdown",
   "id": "d980e147-3661-4ada-8b73-5bf74d81319e",
   "metadata": {},
   "source": [
    "validation accuracy does not look very good "
   ]
  },
  {
   "cell_type": "code",
   "execution_count": null,
   "id": "62cd2a41-7f24-4acc-a4f6-7da6da43a3c7",
   "metadata": {},
   "outputs": [],
   "source": []
  },
  {
   "cell_type": "markdown",
   "id": "e2221d9f-7a23-475a-80ca-99770029657c",
   "metadata": {},
   "source": [
    "## Model3: VGG16,val acc is not impressive either"
   ]
  },
  {
   "cell_type": "code",
   "execution_count": null,
   "id": "fc67cf5b-9a7e-474e-b1d4-8ab8f26d6851",
   "metadata": {},
   "outputs": [],
   "source": [
    "# Instantiate base model\n",
    "VGG16BaseModel = VGG16(weights='imagenet', \n",
    "                         input_shape=(150,150,3), \n",
    "                         include_top=False, \n",
    "                         pooling=None)\n",
    "\n",
    "# we need to keep pre-trained weights \n",
    "VGG16BaseModel.trainable = False\n",
    "\n",
    "# adding layers on top for bindary classification \n",
    "last_layer = VGG16_base_model.get_layer('block5_pool')\n",
    "last_output = last_layer.output\n",
    "x = keras.layers.GlobalMaxPooling2D()(last_output)\n",
    "x = keras.layers.Dropout(0.5)(x)\n",
    "x = keras.layers.Dense(1, activation='sigmoid')(x) \n",
    "\n",
    "# Create new model\n",
    "VGG16Model = tf.keras.Model(VGG16BaseModel.input, x, name=\"VGG16Model\")\n",
    "\n",
    "VGG16Model.compile(Adamax(learning_rate= 0.001), loss= 'binary_crossentropy', metrics= ['accuracy'])\n",
    "\n",
    "VGG16Model.summary()"
   ]
  },
  {
   "cell_type": "code",
   "execution_count": null,
   "id": "1fcf2689-211f-4f52-abd5-eac641672817",
   "metadata": {},
   "outputs": [],
   "source": [
    "history_VGG16 = VGG16Model.fit(\n",
    "    train_ds,\n",
    "    validation_data=val_ds,\n",
    "    epochs=6,\n",
    "    verbose=1\n",
    ")"
   ]
  },
  {
   "cell_type": "code",
   "execution_count": null,
   "id": "18066fff-6735-4bd5-8685-ab1316b11926",
   "metadata": {},
   "outputs": [],
   "source": [
    "hist = history_VGG16 .history\n",
    "plt.plot(hist['val_acc'], label='val')\n",
    "plt.plot(hist['acc'], label='train')\n",
    "\n",
    "plt.legend()"
   ]
  },
  {
   "cell_type": "code",
   "execution_count": null,
   "id": "9ffb1309-1963-4483-bdf1-8b305b20c0a0",
   "metadata": {},
   "outputs": [],
   "source": []
  },
  {
   "cell_type": "code",
   "execution_count": null,
   "id": "f414acb5-37c6-405f-8e78-d6851f0f8906",
   "metadata": {},
   "outputs": [],
   "source": []
  },
  {
   "cell_type": "markdown",
   "id": "5bce780e-42a7-4687-8e5c-d49659b10035",
   "metadata": {},
   "source": [
    "# Let's try other non-NN models "
   ]
  },
  {
   "cell_type": "markdown",
   "id": "ccb26634-ca36-411b-bd3d-17628f29b971",
   "metadata": {},
   "source": [
    "## Model4: Random Forest "
   ]
  },
  {
   "cell_type": "markdown",
   "id": "371c47c1-6499-4235-8185-ef8f5e312c52",
   "metadata": {},
   "source": [
    "### prepare train and validation sets "
   ]
  },
  {
   "cell_type": "code",
   "execution_count": 15,
   "id": "9aefb061-87f8-4206-b621-61b4346473b8",
   "metadata": {},
   "outputs": [],
   "source": [
    "X_train  = []\n",
    "y_train = []\n",
    "\n",
    "for classes in ['all', 'hem']:\n",
    "    for path in glob.glob('/home/alla/ML/CapstoneProject1/archive/C-NMC_Leukemia/training_data/fold_0/%s/*' % classes):\n",
    "        y_train.append(classes)\n",
    "\n",
    "        img = np.array(load_img(path, target_size=(150, 150))).flatten()\n",
    "        X_train.append(img)\n",
    "\n",
    "\n",
    "y_train = np.array(list(map({'all':1, 'hem':1}.get, y_train)))\n",
    "X_train = np.array(X_train)\n",
    "\n",
    "X_val  = []\n",
    "y_val = []\n",
    "\n",
    "for classes in ['all', 'hem']:\n",
    "    for path in glob.glob('/home/alla/ML/CapstoneProject1/archive/C-NMC_Leukemia/training_data/fold_1/%s/*' % classes):\n",
    "        y_val.append(classes)\n",
    "\n",
    "        img = np.array(load_img(path, target_size=(150, 150))).flatten()\n",
    "        X_val.append(img)\n",
    "\n",
    "\n",
    "y_val = np.array(list(map({'all':1, 'hem':0}.get, y_val)))\n",
    "X_val = np.array(X_val)"
   ]
  },
  {
   "cell_type": "code",
   "execution_count": 16,
   "id": "a97cdd76-5138-4b44-97a9-4062636998c0",
   "metadata": {},
   "outputs": [
    {
     "data": {
      "text/plain": [
       "((3527, 67500), (3527,), (3581, 67500), (3581,))"
      ]
     },
     "execution_count": 16,
     "metadata": {},
     "output_type": "execute_result"
    }
   ],
   "source": [
    "X_train.shape, y_train.shape, X_val.shape, y_val.shape"
   ]
  },
  {
   "cell_type": "markdown",
   "id": "a6171216-a9c7-46c5-b9dd-0ed500c038a4",
   "metadata": {},
   "source": [
    "### tune params"
   ]
  },
  {
   "cell_type": "code",
   "execution_count": 17,
   "id": "2b7ea00e-c419-4b81-8bd7-f1613a147059",
   "metadata": {},
   "outputs": [
    {
     "data": {
      "text/html": [
       "<style>#sk-container-id-2 {color: black;}#sk-container-id-2 pre{padding: 0;}#sk-container-id-2 div.sk-toggleable {background-color: white;}#sk-container-id-2 label.sk-toggleable__label {cursor: pointer;display: block;width: 100%;margin-bottom: 0;padding: 0.3em;box-sizing: border-box;text-align: center;}#sk-container-id-2 label.sk-toggleable__label-arrow:before {content: \"▸\";float: left;margin-right: 0.25em;color: #696969;}#sk-container-id-2 label.sk-toggleable__label-arrow:hover:before {color: black;}#sk-container-id-2 div.sk-estimator:hover label.sk-toggleable__label-arrow:before {color: black;}#sk-container-id-2 div.sk-toggleable__content {max-height: 0;max-width: 0;overflow: hidden;text-align: left;background-color: #f0f8ff;}#sk-container-id-2 div.sk-toggleable__content pre {margin: 0.2em;color: black;border-radius: 0.25em;background-color: #f0f8ff;}#sk-container-id-2 input.sk-toggleable__control:checked~div.sk-toggleable__content {max-height: 200px;max-width: 100%;overflow: auto;}#sk-container-id-2 input.sk-toggleable__control:checked~label.sk-toggleable__label-arrow:before {content: \"▾\";}#sk-container-id-2 div.sk-estimator input.sk-toggleable__control:checked~label.sk-toggleable__label {background-color: #d4ebff;}#sk-container-id-2 div.sk-label input.sk-toggleable__control:checked~label.sk-toggleable__label {background-color: #d4ebff;}#sk-container-id-2 input.sk-hidden--visually {border: 0;clip: rect(1px 1px 1px 1px);clip: rect(1px, 1px, 1px, 1px);height: 1px;margin: -1px;overflow: hidden;padding: 0;position: absolute;width: 1px;}#sk-container-id-2 div.sk-estimator {font-family: monospace;background-color: #f0f8ff;border: 1px dotted black;border-radius: 0.25em;box-sizing: border-box;margin-bottom: 0.5em;}#sk-container-id-2 div.sk-estimator:hover {background-color: #d4ebff;}#sk-container-id-2 div.sk-parallel-item::after {content: \"\";width: 100%;border-bottom: 1px solid gray;flex-grow: 1;}#sk-container-id-2 div.sk-label:hover label.sk-toggleable__label {background-color: #d4ebff;}#sk-container-id-2 div.sk-serial::before {content: \"\";position: absolute;border-left: 1px solid gray;box-sizing: border-box;top: 0;bottom: 0;left: 50%;z-index: 0;}#sk-container-id-2 div.sk-serial {display: flex;flex-direction: column;align-items: center;background-color: white;padding-right: 0.2em;padding-left: 0.2em;position: relative;}#sk-container-id-2 div.sk-item {position: relative;z-index: 1;}#sk-container-id-2 div.sk-parallel {display: flex;align-items: stretch;justify-content: center;background-color: white;position: relative;}#sk-container-id-2 div.sk-item::before, #sk-container-id-2 div.sk-parallel-item::before {content: \"\";position: absolute;border-left: 1px solid gray;box-sizing: border-box;top: 0;bottom: 0;left: 50%;z-index: -1;}#sk-container-id-2 div.sk-parallel-item {display: flex;flex-direction: column;z-index: 1;position: relative;background-color: white;}#sk-container-id-2 div.sk-parallel-item:first-child::after {align-self: flex-end;width: 50%;}#sk-container-id-2 div.sk-parallel-item:last-child::after {align-self: flex-start;width: 50%;}#sk-container-id-2 div.sk-parallel-item:only-child::after {width: 0;}#sk-container-id-2 div.sk-dashed-wrapped {border: 1px dashed gray;margin: 0 0.4em 0.5em 0.4em;box-sizing: border-box;padding-bottom: 0.4em;background-color: white;}#sk-container-id-2 div.sk-label label {font-family: monospace;font-weight: bold;display: inline-block;line-height: 1.2em;}#sk-container-id-2 div.sk-label-container {text-align: center;}#sk-container-id-2 div.sk-container {/* jupyter's `normalize.less` sets `[hidden] { display: none; }` but bootstrap.min.css set `[hidden] { display: none !important; }` so we also need the `!important` here to be able to override the default hidden behavior on the sphinx rendered scikit-learn.org. See: https://github.com/scikit-learn/scikit-learn/issues/21755 */display: inline-block !important;position: relative;}#sk-container-id-2 div.sk-text-repr-fallback {display: none;}</style><div id=\"sk-container-id-2\" class=\"sk-top-container\"><div class=\"sk-text-repr-fallback\"><pre>GridSearchCV(cv=5, estimator=RandomForestClassifier(),\n",
       "             param_grid={&#x27;max_depth&#x27;: [4, 5, 6, 7, 8],\n",
       "                         &#x27;n_estimators&#x27;: [200, 500]})</pre><b>In a Jupyter environment, please rerun this cell to show the HTML representation or trust the notebook. <br />On GitHub, the HTML representation is unable to render, please try loading this page with nbviewer.org.</b></div><div class=\"sk-container\" hidden><div class=\"sk-item sk-dashed-wrapped\"><div class=\"sk-label-container\"><div class=\"sk-label sk-toggleable\"><input class=\"sk-toggleable__control sk-hidden--visually\" id=\"sk-estimator-id-4\" type=\"checkbox\" ><label for=\"sk-estimator-id-4\" class=\"sk-toggleable__label sk-toggleable__label-arrow\">GridSearchCV</label><div class=\"sk-toggleable__content\"><pre>GridSearchCV(cv=5, estimator=RandomForestClassifier(),\n",
       "             param_grid={&#x27;max_depth&#x27;: [4, 5, 6, 7, 8],\n",
       "                         &#x27;n_estimators&#x27;: [200, 500]})</pre></div></div></div><div class=\"sk-parallel\"><div class=\"sk-parallel-item\"><div class=\"sk-item\"><div class=\"sk-label-container\"><div class=\"sk-label sk-toggleable\"><input class=\"sk-toggleable__control sk-hidden--visually\" id=\"sk-estimator-id-5\" type=\"checkbox\" ><label for=\"sk-estimator-id-5\" class=\"sk-toggleable__label sk-toggleable__label-arrow\">estimator: RandomForestClassifier</label><div class=\"sk-toggleable__content\"><pre>RandomForestClassifier()</pre></div></div></div><div class=\"sk-serial\"><div class=\"sk-item\"><div class=\"sk-estimator sk-toggleable\"><input class=\"sk-toggleable__control sk-hidden--visually\" id=\"sk-estimator-id-6\" type=\"checkbox\" ><label for=\"sk-estimator-id-6\" class=\"sk-toggleable__label sk-toggleable__label-arrow\">RandomForestClassifier</label><div class=\"sk-toggleable__content\"><pre>RandomForestClassifier()</pre></div></div></div></div></div></div></div></div></div></div>"
      ],
      "text/plain": [
       "GridSearchCV(cv=5, estimator=RandomForestClassifier(),\n",
       "             param_grid={'max_depth': [4, 5, 6, 7, 8],\n",
       "                         'n_estimators': [200, 500]})"
      ]
     },
     "execution_count": 17,
     "metadata": {},
     "output_type": "execute_result"
    }
   ],
   "source": [
    "param_grid_rf = { \n",
    "    'n_estimators': [200, 500],\n",
    "    'max_depth' : [4,5,6,7,8]}\n",
    "\n",
    "RF_grid = GridSearchCV(estimator=RandomForestClassifier(), param_grid=param_grid_rf, cv= 5)\n",
    "RF_grid.fit(X_train, y_train)"
   ]
  },
  {
   "cell_type": "code",
   "execution_count": 18,
   "id": "b9a79685-ac68-4311-a86d-7b0b12bcc256",
   "metadata": {},
   "outputs": [
    {
     "name": "stdout",
     "output_type": "stream",
     "text": [
      "{'max_depth': 4, 'n_estimators': 200}\n"
     ]
    }
   ],
   "source": [
    "print(RF_grid.best_params_)"
   ]
  },
  {
   "cell_type": "code",
   "execution_count": null,
   "id": "9d063767-f679-47d5-8165-92f70dfbf24b",
   "metadata": {},
   "outputs": [],
   "source": [
    "### use the model "
   ]
  },
  {
   "cell_type": "code",
   "execution_count": 19,
   "id": "60cbcd15-15a6-4307-a5c8-5e73935f5ecf",
   "metadata": {},
   "outputs": [
    {
     "name": "stdout",
     "output_type": "stream",
     "text": [
      "Accuracy : 0.675\n"
     ]
    }
   ],
   "source": [
    "r_forest = RandomForestClassifier(200,max_depth=4, random_state=5)\n",
    "r_forest.fit(X_train,y_train)\n",
    "\n",
    "predicted = r_forest.predict(X_val)\n",
    "score = r_forest.score(X_val, y_val)\n",
    "rf_score_ = np.mean(score)\n",
    "\n",
    "print('Accuracy : %.3f' % (rf_score_))"
   ]
  },
  {
   "cell_type": "code",
   "execution_count": 21,
   "id": "0d01ec34-b5d8-47da-8b96-2c37f737297a",
   "metadata": {},
   "outputs": [
    {
     "name": "stdout",
     "output_type": "stream",
     "text": [
      "precision : 0.675\n",
      "recall : 1.000\n",
      "f1-score: 0.806\n",
      "weighted f1-score: 0.544\n"
     ]
    }
   ],
   "source": [
    "p=precision_score(y_val, predicted) \n",
    "print('precision : %.3f' % (p))\n",
    "\n",
    "r=recall_score(y_val, predicted) \n",
    "print('recall : %.3f' % (r))\n",
    "\n",
    "f1=f1_score(y_val, predicted) \n",
    "print('f1-score: %.3f' % (f1))\n",
    "\n",
    "f1_w=f1_score(y_val, predicted, average='weighted') \n",
    "print('weighted f1-score: %.3f' % (f1_w))"
   ]
  },
  {
   "cell_type": "code",
   "execution_count": null,
   "id": "6ae19c4e-f779-417e-b842-4580fd59998b",
   "metadata": {},
   "outputs": [],
   "source": []
  },
  {
   "cell_type": "markdown",
   "id": "faabe399-9ad7-44b1-af49-342191d0a364",
   "metadata": {},
   "source": [
    "## Model5: Naive Bayes "
   ]
  },
  {
   "cell_type": "code",
   "execution_count": 23,
   "id": "c36194b3-1c3b-4f52-9595-d887ebfb9489",
   "metadata": {},
   "outputs": [
    {
     "name": "stdout",
     "output_type": "stream",
     "text": [
      "Accuracy : 0.675\n"
     ]
    }
   ],
   "source": [
    "nb_model = GaussianNB()\n",
    "nb_model.fit(X_train,y_train)\n",
    "\n",
    "predicted = nb_model.predict(X_val)\n",
    "score = nb_model.score(X_val, y_val)\n",
    "nb_score_ = np.mean(score)\n",
    "\n",
    "print('Accuracy : %.3f' % (nb_score_))"
   ]
  },
  {
   "cell_type": "code",
   "execution_count": null,
   "id": "c3b4a85a-6b61-4ca6-9684-f50122a79cc2",
   "metadata": {},
   "outputs": [],
   "source": []
  },
  {
   "cell_type": "code",
   "execution_count": null,
   "id": "6392e373-491a-4d73-bd9d-7e428698316c",
   "metadata": {},
   "outputs": [],
   "source": []
  },
  {
   "cell_type": "code",
   "execution_count": null,
   "id": "351fe02c-1cd9-4c31-953d-d5ebcf9c3930",
   "metadata": {},
   "outputs": [],
   "source": []
  },
  {
   "cell_type": "code",
   "execution_count": null,
   "id": "be91c74e-aad7-4bd6-99f9-30b2d9a7556c",
   "metadata": {},
   "outputs": [],
   "source": []
  }
 ],
 "metadata": {
  "kernelspec": {
   "display_name": "Python 3",
   "language": "python",
   "name": "python3"
  },
  "language_info": {
   "codemirror_mode": {
    "name": "ipython",
    "version": 3
   },
   "file_extension": ".py",
   "mimetype": "text/x-python",
   "name": "python",
   "nbconvert_exporter": "python",
   "pygments_lexer": "ipython3",
   "version": "3.9.13"
  }
 },
 "nbformat": 4,
 "nbformat_minor": 5
}
