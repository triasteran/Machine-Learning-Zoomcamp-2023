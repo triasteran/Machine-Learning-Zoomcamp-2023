{
 "cells": [
  {
   "cell_type": "code",
   "execution_count": 66,
   "id": "16a90daa-3267-49b8-b6ca-4be479ecee0b",
   "metadata": {},
   "outputs": [],
   "source": [
    "import pandas as pd\n",
    "import numpy as np\n",
    "\n",
    "import seaborn as sns\n",
    "from matplotlib import pyplot as plt\n",
    "\n",
    "from sklearn.tree import DecisionTreeClassifier\n",
    "from sklearn.feature_extraction import DictVectorizer\n",
    "from sklearn.metrics import roc_auc_score\n",
    "from sklearn.tree import export_text\n",
    "\n",
    "from sklearn.tree import DecisionTreeRegressor\n",
    "from sklearn.ensemble import RandomForestRegressor\n",
    "\n",
    "from sklearn.metrics import mean_squared_error\n",
    "\n",
    "from sklearn.model_selection import train_test_split\n",
    "\n",
    "import xgboost as xgb\n",
    "\n",
    "%matplotlib inline"
   ]
  },
  {
   "cell_type": "markdown",
   "id": "9b83abf2-74a1-4716-8543-96c030af239e",
   "metadata": {},
   "source": [
    "## a regression model for predicting housing prices (column 'median_house_value')."
   ]
  },
  {
   "cell_type": "code",
   "execution_count": 3,
   "id": "33453a5c-dd62-4bee-ad7a-ca2f0aac740f",
   "metadata": {},
   "outputs": [
    {
     "name": "stdout",
     "output_type": "stream",
     "text": [
      "--2023-10-22 17:51:19--  https://raw.githubusercontent.com/alexeygrigorev/datasets/master/housing.csv\n",
      "Resolving raw.githubusercontent.com (raw.githubusercontent.com)... 2606:50c0:8002::154, 2606:50c0:8000::154, 2606:50c0:8001::154, ...\n",
      "Connecting to raw.githubusercontent.com (raw.githubusercontent.com)|2606:50c0:8002::154|:443... connected.\n",
      "HTTP request sent, awaiting response... 200 OK\n",
      "Length: 1423529 (1.4M) [text/plain]\n",
      "Saving to: ‘housing.csv’\n",
      "\n",
      "housing.csv         100%[===================>]   1.36M  3.46MB/s    in 0.4s    \n",
      "\n",
      "2023-10-22 17:51:20 (3.46 MB/s) - ‘housing.csv’ saved [1423529/1423529]\n",
      "\n"
     ]
    }
   ],
   "source": [
    "!wget https://raw.githubusercontent.com/alexeygrigorev/datasets/master/housing.csv"
   ]
  },
  {
   "cell_type": "code",
   "execution_count": 4,
   "id": "100e1002-8502-47ce-890c-1a22ac1c75f3",
   "metadata": {},
   "outputs": [
    {
     "name": "stdout",
     "output_type": "stream",
     "text": [
      "longitude,latitude,housing_median_age,total_rooms,total_bedrooms,population,households,median_income,median_house_value,ocean_proximity\n",
      "-122.23,37.88,41.0,880.0,129.0,322.0,126.0,8.3252,452600.0,NEAR BAY\n",
      "-122.22,37.86,21.0,7099.0,1106.0,2401.0,1138.0,8.3014,358500.0,NEAR BAY\n",
      "-122.24,37.85,52.0,1467.0,190.0,496.0,177.0,7.2574,352100.0,NEAR BAY\n",
      "-122.25,37.85,52.0,1274.0,235.0,558.0,219.0,5.6431,341300.0,NEAR BAY\n",
      "-122.25,37.85,52.0,1627.0,280.0,565.0,259.0,3.8462,342200.0,NEAR BAY\n",
      "-122.25,37.85,52.0,919.0,213.0,413.0,193.0,4.0368,269700.0,NEAR BAY\n",
      "-122.25,37.84,52.0,2535.0,489.0,1094.0,514.0,3.6591,299200.0,NEAR BAY\n",
      "-122.25,37.84,52.0,3104.0,687.0,1157.0,647.0,3.12,241400.0,NEAR BAY\n",
      "-122.26,37.84,42.0,2555.0,665.0,1206.0,595.0,2.0804,226700.0,NEAR BAY\n"
     ]
    }
   ],
   "source": [
    "!head housing.csv"
   ]
  },
  {
   "cell_type": "markdown",
   "id": "ba3b0dc9-e4c8-4340-ad1d-052499bcfea3",
   "metadata": {},
   "source": [
    "# Data preparation "
   ]
  },
  {
   "cell_type": "code",
   "execution_count": 39,
   "id": "bd0f49a6-ba6c-447c-9d79-7885aaab6196",
   "metadata": {},
   "outputs": [
    {
     "name": "stdout",
     "output_type": "stream",
     "text": [
      "   longitude  latitude  housing_median_age  total_rooms  total_bedrooms  \\\n",
      "0    -122.23     37.88                41.0        880.0           129.0   \n",
      "1    -122.22     37.86                21.0       7099.0          1106.0   \n",
      "2    -122.24     37.85                52.0       1467.0           190.0   \n",
      "3    -122.25     37.85                52.0       1274.0           235.0   \n",
      "4    -122.25     37.85                52.0       1627.0           280.0   \n",
      "\n",
      "   population  households  median_income  median_house_value ocean_proximity  \n",
      "0       322.0       126.0         8.3252            452600.0        NEAR BAY  \n",
      "1      2401.0      1138.0         8.3014            358500.0        NEAR BAY  \n",
      "2       496.0       177.0         7.2574            352100.0        NEAR BAY  \n",
      "3       558.0       219.0         5.6431            341300.0        NEAR BAY  \n",
      "4       565.0       259.0         3.8462            342200.0        NEAR BAY  \n"
     ]
    }
   ],
   "source": [
    "df = pd.read_csv('housing.csv')\n",
    "\n",
    "print (df.head())\n",
    "\n",
    "# First, keep only the records where ocean_proximity is either '<1H OCEAN' or 'INLAND' \n",
    "df = df[df['ocean_proximity'].isin(['<1H OCEAN', 'INLAND'])]\n",
    "\n",
    "# Fill missing values with zeros.\n",
    "#df = df.fillna(0)\n",
    "\n",
    "# Apply the log transform to median_house_value\n",
    "df['median_house_value'] = np.log1p(df['median_house_value'])"
   ]
  },
  {
   "cell_type": "code",
   "execution_count": 40,
   "id": "7419e61b-ef2f-4e57-8367-ce53d27f099e",
   "metadata": {},
   "outputs": [],
   "source": [
    "# Do train/validation/test split with 60%/20%/20% distribution.\n",
    "# Use the train_test_split function and set the random_state parameter to 1\n",
    "df_full_train, df_test = train_test_split(df, test_size=0.2, random_state=1)\n",
    "df_train, df_val = train_test_split(df_full_train, test_size=0.25, random_state=1)\n",
    "\n",
    "df_train = df_train.reset_index(drop=True)\n",
    "df_val = df_val.reset_index(drop=True)\n",
    "df_test = df_test.reset_index(drop=True)\n",
    "\n",
    "# we will predict whether a customer is going to default (not being able to pay a loan)\n",
    "y_train = df_train.median_house_value.values\n",
    "y_val = df_val.median_house_value.values\n",
    "y_test = df_test.median_house_value.values\n",
    "\n",
    "del df_train['median_house_value']\n",
    "del df_val['median_house_value']\n",
    "del df_test['median_house_value']\n",
    "\n",
    "# Use DictVectorizer(sparse=True) to turn the dataframes into matrices.\n",
    "train_dicts = df_train.fillna(0).to_dict(orient='records')\n",
    "val_dicts = df_val.fillna(0).to_dict(orient='records')\n",
    "\n",
    "dv = DictVectorizer(sparse=False)\n",
    "\n",
    "X_train = dv.fit_transform(train_dicts)\n",
    "X_val = dv.transform(val_dicts)"
   ]
  },
  {
   "cell_type": "code",
   "execution_count": 41,
   "id": "4b315b55-7138-4c8d-be85-ebd92f7e72cd",
   "metadata": {},
   "outputs": [
    {
     "data": {
      "text/html": [
       "<div>\n",
       "<style scoped>\n",
       "    .dataframe tbody tr th:only-of-type {\n",
       "        vertical-align: middle;\n",
       "    }\n",
       "\n",
       "    .dataframe tbody tr th {\n",
       "        vertical-align: top;\n",
       "    }\n",
       "\n",
       "    .dataframe thead th {\n",
       "        text-align: right;\n",
       "    }\n",
       "</style>\n",
       "<table border=\"1\" class=\"dataframe\">\n",
       "  <thead>\n",
       "    <tr style=\"text-align: right;\">\n",
       "      <th></th>\n",
       "      <th>longitude</th>\n",
       "      <th>latitude</th>\n",
       "      <th>housing_median_age</th>\n",
       "      <th>total_rooms</th>\n",
       "      <th>total_bedrooms</th>\n",
       "      <th>population</th>\n",
       "      <th>households</th>\n",
       "      <th>median_income</th>\n",
       "      <th>ocean_proximity</th>\n",
       "    </tr>\n",
       "  </thead>\n",
       "  <tbody>\n",
       "    <tr>\n",
       "      <th>0</th>\n",
       "      <td>-120.25</td>\n",
       "      <td>37.93</td>\n",
       "      <td>13.0</td>\n",
       "      <td>493.0</td>\n",
       "      <td>76.0</td>\n",
       "      <td>196.0</td>\n",
       "      <td>68.0</td>\n",
       "      <td>3.3750</td>\n",
       "      <td>INLAND</td>\n",
       "    </tr>\n",
       "    <tr>\n",
       "      <th>1</th>\n",
       "      <td>-118.40</td>\n",
       "      <td>34.00</td>\n",
       "      <td>10.0</td>\n",
       "      <td>1526.0</td>\n",
       "      <td>339.0</td>\n",
       "      <td>705.0</td>\n",
       "      <td>268.0</td>\n",
       "      <td>5.8083</td>\n",
       "      <td>&lt;1H OCEAN</td>\n",
       "    </tr>\n",
       "    <tr>\n",
       "      <th>2</th>\n",
       "      <td>-121.67</td>\n",
       "      <td>38.85</td>\n",
       "      <td>46.0</td>\n",
       "      <td>645.0</td>\n",
       "      <td>131.0</td>\n",
       "      <td>410.0</td>\n",
       "      <td>122.0</td>\n",
       "      <td>1.7417</td>\n",
       "      <td>INLAND</td>\n",
       "    </tr>\n",
       "    <tr>\n",
       "      <th>3</th>\n",
       "      <td>-118.14</td>\n",
       "      <td>33.88</td>\n",
       "      <td>24.0</td>\n",
       "      <td>3305.0</td>\n",
       "      <td>982.0</td>\n",
       "      <td>2085.0</td>\n",
       "      <td>881.0</td>\n",
       "      <td>2.6641</td>\n",
       "      <td>&lt;1H OCEAN</td>\n",
       "    </tr>\n",
       "    <tr>\n",
       "      <th>4</th>\n",
       "      <td>-118.11</td>\n",
       "      <td>33.92</td>\n",
       "      <td>34.0</td>\n",
       "      <td>1414.0</td>\n",
       "      <td>263.0</td>\n",
       "      <td>983.0</td>\n",
       "      <td>264.0</td>\n",
       "      <td>4.1767</td>\n",
       "      <td>&lt;1H OCEAN</td>\n",
       "    </tr>\n",
       "  </tbody>\n",
       "</table>\n",
       "</div>"
      ],
      "text/plain": [
       "   longitude  latitude  housing_median_age  total_rooms  total_bedrooms  \\\n",
       "0    -120.25     37.93                13.0        493.0            76.0   \n",
       "1    -118.40     34.00                10.0       1526.0           339.0   \n",
       "2    -121.67     38.85                46.0        645.0           131.0   \n",
       "3    -118.14     33.88                24.0       3305.0           982.0   \n",
       "4    -118.11     33.92                34.0       1414.0           263.0   \n",
       "\n",
       "   population  households  median_income ocean_proximity  \n",
       "0       196.0        68.0         3.3750          INLAND  \n",
       "1       705.0       268.0         5.8083       <1H OCEAN  \n",
       "2       410.0       122.0         1.7417          INLAND  \n",
       "3      2085.0       881.0         2.6641       <1H OCEAN  \n",
       "4       983.0       264.0         4.1767       <1H OCEAN  "
      ]
     },
     "execution_count": 41,
     "metadata": {},
     "output_type": "execute_result"
    }
   ],
   "source": [
    "df_train.head()"
   ]
  },
  {
   "cell_type": "code",
   "execution_count": 42,
   "id": "dac8202c-6b28-47ea-90a8-b28200a29c03",
   "metadata": {},
   "outputs": [
    {
     "data": {
      "text/plain": [
       "array([11.80634853, 12.68168862, 11.61187447, ..., 11.46374572,\n",
       "       11.93032573, 10.92054627])"
      ]
     },
     "execution_count": 42,
     "metadata": {},
     "output_type": "execute_result"
    }
   ],
   "source": [
    "y_train"
   ]
  },
  {
   "cell_type": "code",
   "execution_count": null,
   "id": "436c46ae-c6d4-4f83-9b5d-42dca760855c",
   "metadata": {},
   "outputs": [],
   "source": []
  },
  {
   "cell_type": "markdown",
   "id": "57dd856f-84c8-46bb-9905-83ae41b29fa8",
   "metadata": {},
   "source": [
    "# Question 1: ocean_proximity"
   ]
  },
  {
   "cell_type": "markdown",
   "id": "dbf26629-17b0-433b-ba1d-3b6e1d63718c",
   "metadata": {},
   "source": [
    "decision tree regressor to predict the median_house_value variable.\n",
    "\n",
    "Train a model with max_depth=1.\n",
    "\n",
    "Which feature is used for splitting the data?"
   ]
  },
  {
   "cell_type": "code",
   "execution_count": 43,
   "id": "6fec9406-938d-4965-aa90-89ff2f44968c",
   "metadata": {},
   "outputs": [
    {
     "name": "stdout",
     "output_type": "stream",
     "text": [
      "|--- ocean_proximity=<1H OCEAN <= 0.50\n",
      "|   |--- value: [11.61]\n",
      "|--- ocean_proximity=<1H OCEAN >  0.50\n",
      "|   |--- value: [12.30]\n",
      "\n"
     ]
    }
   ],
   "source": [
    "dt = DecisionTreeRegressor(max_depth=1)\n",
    "dt.fit(X_train, y_train)\n",
    "\n",
    "print(export_text(dt, feature_names=list(dv.get_feature_names_out())))"
   ]
  },
  {
   "cell_type": "code",
   "execution_count": null,
   "id": "4eaf9344-9354-4be5-a876-92dc3c2bf812",
   "metadata": {},
   "outputs": [],
   "source": []
  },
  {
   "cell_type": "code",
   "execution_count": null,
   "id": "ccbdb168-83f9-4c5f-a9da-088fd49ccdc6",
   "metadata": {},
   "outputs": [],
   "source": []
  },
  {
   "cell_type": "markdown",
   "id": "c71f00f4-1b20-472e-b5f8-2b711d8e2401",
   "metadata": {},
   "source": [
    "# Question 2: 0.245"
   ]
  },
  {
   "cell_type": "markdown",
   "id": "34776cc5-2ea5-420e-8c61-7bf301d9648c",
   "metadata": {},
   "source": [
    "Train a random forest model with these parameters:\n",
    "\n",
    "* n_estimators=10\n",
    "* random_state=1\n",
    "* n_jobs=-1 (optional - to make training faster)\n",
    "* What's the RMSE of this model on validation?"
   ]
  },
  {
   "cell_type": "code",
   "execution_count": 49,
   "id": "589ed285-aeee-4cdc-9066-82f58ef9d509",
   "metadata": {},
   "outputs": [
    {
     "name": "stdout",
     "output_type": "stream",
     "text": [
      "train: 0.09867571708476802\n",
      "val: 0.244910835217013\n"
     ]
    }
   ],
   "source": [
    "rf = RandomForestRegressor(n_estimators=10, random_state=1, n_jobs=-1)\n",
    "rf.fit(X_train, y_train)\n",
    "\n",
    "y_pred = rf.predict(X_train)\n",
    "print('train:', mean_squared_error(y_train, y_pred, squared=False))\n",
    "\n",
    "y_pred = rf.predict(X_val)\n",
    "print('val:', mean_squared_error(y_val, y_pred, squared=False))"
   ]
  },
  {
   "cell_type": "code",
   "execution_count": null,
   "id": "4e9fd3c4-ea70-45ae-9121-edf30b70eea3",
   "metadata": {},
   "outputs": [],
   "source": []
  },
  {
   "cell_type": "code",
   "execution_count": null,
   "id": "0d79ce0e-b673-4aa5-a7a0-560ff4c038e6",
   "metadata": {},
   "outputs": [],
   "source": []
  },
  {
   "cell_type": "markdown",
   "id": "6abd5131-bc18-4339-aa7c-b011e0c91ca4",
   "metadata": {},
   "source": [
    "# Question 3: 160"
   ]
  },
  {
   "cell_type": "markdown",
   "id": "de14e112-7741-424b-960c-9e7a8da72e00",
   "metadata": {},
   "source": [
    "Now let's experiment with the n_estimators parameter\n",
    "\n",
    "* Try different values of this parameter from 10 to 200 with step 10.\n",
    "* Set random_state to 1.\n",
    "* Evaluate the model on the validation dataset.\n",
    "* After which value of n_estimators does RMSE stop improving? Consider 3 decimal places for retrieving the answer."
   ]
  },
  {
   "cell_type": "code",
   "execution_count": 51,
   "id": "07753744-f1f9-42ec-a9e2-9ae88eb2ac82",
   "metadata": {},
   "outputs": [
    {
     "name": "stdout",
     "output_type": "stream",
     "text": [
      "N estimators is 10 RMSE is 0.245\n",
      "N estimators is 20 RMSE is 0.238\n",
      "N estimators is 30 RMSE is 0.236\n",
      "N estimators is 40 RMSE is 0.235\n",
      "N estimators is 50 RMSE is 0.234\n",
      "N estimators is 60 RMSE is 0.234\n",
      "N estimators is 70 RMSE is 0.234\n",
      "N estimators is 80 RMSE is 0.234\n",
      "N estimators is 90 RMSE is 0.234\n",
      "N estimators is 100 RMSE is 0.234\n",
      "N estimators is 110 RMSE is 0.234\n",
      "N estimators is 120 RMSE is 0.234\n",
      "N estimators is 130 RMSE is 0.234\n",
      "N estimators is 140 RMSE is 0.234\n",
      "N estimators is 150 RMSE is 0.233\n",
      "N estimators is 160 RMSE is 0.233\n",
      "N estimators is 170 RMSE is 0.233\n",
      "N estimators is 180 RMSE is 0.234\n",
      "N estimators is 190 RMSE is 0.234\n",
      "N estimators is 200 RMSE is 0.234\n"
     ]
    }
   ],
   "source": [
    "for n_estimators in range(10, 210, 10):\n",
    "    rf = RandomForestRegressor(n_estimators=n_estimators, random_state=1, n_jobs=-1)\n",
    "    rf.fit(X_train, y_train)\n",
    "    y_pred = rf.predict(X_val)\n",
    "    print('N estimators is %s' % n_estimators, 'RMSE is', np.round(mean_squared_error(y_val, y_pred, squared=False), 3))"
   ]
  },
  {
   "cell_type": "code",
   "execution_count": null,
   "id": "72060818-0c3a-493d-8a7c-85b4ade74bfb",
   "metadata": {},
   "outputs": [],
   "source": []
  },
  {
   "cell_type": "code",
   "execution_count": null,
   "id": "f33a1d03-bce2-4442-848c-e5a501ff9420",
   "metadata": {},
   "outputs": [],
   "source": []
  },
  {
   "cell_type": "code",
   "execution_count": null,
   "id": "cdf2f39f-1f14-4194-a1fd-7abf0af8de86",
   "metadata": {},
   "outputs": [],
   "source": []
  },
  {
   "cell_type": "markdown",
   "id": "67f73d80-371f-4a07-b910-d518fa0efc4c",
   "metadata": {},
   "source": [
    "# Question 4: 25"
   ]
  },
  {
   "cell_type": "markdown",
   "id": "fc306ec7-cbb4-407b-a99a-208d21ebc560",
   "metadata": {},
   "source": [
    "Let's select the best max_depth:\n",
    "\n",
    "* Try different values of max_depth: [10, 15, 20, 25]\n",
    "* For each of these values, try different values of n_estimators from 10 till 200 (with step 10)\n",
    "*  calculate the mean RMSE\n",
    "*  Fix the random seed: random_state=1\n",
    "\n",
    "What's the best max_depth, using the mean RMSE?"
   ]
  },
  {
   "cell_type": "code",
   "execution_count": 54,
   "id": "315b211a-dc01-414b-b39c-96e22d23625d",
   "metadata": {},
   "outputs": [],
   "source": [
    "li = []\n",
    "\n",
    "for max_depth in [10, 15, 20, 25]:\n",
    "    for n_estimators in range(10, 210, 10):\n",
    "        rf = RandomForestRegressor(n_estimators=n_estimators, max_depth=max_depth, random_state=1, n_jobs=-1)\n",
    "        rf.fit(X_train, y_train)\n",
    "        y_pred = rf.predict(X_val)\n",
    "        rmse = mean_squared_error(y_val, y_pred, squared=False)\n",
    "        li.append([max_depth, n_estimators, rmse])\n",
    "        #print('N estimators is %s' % n_estimators, 'max depth is %s' % max_depth,'RMSE is', np.round(mean_squared_error(y_val, y_pred, squared=False), 3))"
   ]
  },
  {
   "cell_type": "code",
   "execution_count": 56,
   "id": "3b30ec3a-27be-4494-96c6-b54a3d1e5c8d",
   "metadata": {},
   "outputs": [],
   "source": [
    "rmse_df = pd.DataFrame(li, columns = ['max_depth', 'n_estimators', 'rmse'])"
   ]
  },
  {
   "cell_type": "code",
   "execution_count": 57,
   "id": "a472f77b-ac9c-4414-b421-1a297eae3b0a",
   "metadata": {},
   "outputs": [
    {
     "data": {
      "text/plain": [
       "max_depth\n",
       "10    0.245462\n",
       "15    0.235763\n",
       "20    0.235005\n",
       "25    0.234691\n",
       "Name: rmse, dtype: float64"
      ]
     },
     "execution_count": 57,
     "metadata": {},
     "output_type": "execute_result"
    }
   ],
   "source": [
    "rmse_df.groupby(by='max_depth')['rmse'].mean()"
   ]
  },
  {
   "cell_type": "code",
   "execution_count": null,
   "id": "bcda1754-c4bb-449b-bafa-097e1c817b8f",
   "metadata": {},
   "outputs": [],
   "source": []
  },
  {
   "cell_type": "code",
   "execution_count": null,
   "id": "9e01c498-7828-4a74-af90-cf56c74a87ca",
   "metadata": {},
   "outputs": [],
   "source": []
  },
  {
   "cell_type": "markdown",
   "id": "68012ad5-fd9e-4bb2-a48d-5fe43a9c2df0",
   "metadata": {},
   "source": [
    "# Question 5:total_bedrooms"
   ]
  },
  {
   "cell_type": "markdown",
   "id": "009db288-cbfc-4d6e-8dd9-4181f3e13430",
   "metadata": {},
   "source": [
    "We can extract feature importance information from tree-based models.\n",
    "\n",
    "At each step of the decision tree learning algorithm, it finds the best split. When doing it, we can calculate \"gain\" - the reduction in impurity before and after the split. This gain is quite useful in understanding what are the important features for tree-based models.\n",
    "\n",
    "In Scikit-Learn, tree-based models contain this information in the feature_importances_ field.\n",
    "\n",
    "For this homework question, we'll find the most important feature:\n",
    "\n",
    "Train the model with these parameters:\n",
    "* n_estimators=10,\n",
    "* max_depth=20,\n",
    "* random_state=1,\n",
    "* n_jobs=-1 (optional)\n",
    "\n",
    "Get the feature importance information from this model\n",
    "\n",
    "What's the most important feature (among these 4)?\n",
    "* total_rooms\n",
    "* median_income\n",
    "* total_bedrooms\n",
    "* longitude"
   ]
  },
  {
   "cell_type": "code",
   "execution_count": null,
   "id": "fab76317-0ecc-4938-b0b4-506069ad6c10",
   "metadata": {},
   "outputs": [],
   "source": [
    "#  \"gain\" - the reduction in impurity before and after the split: in feature_importances_ field"
   ]
  },
  {
   "cell_type": "code",
   "execution_count": 65,
   "id": "05c4fa6c-1a4b-4d74-8736-7c5912d40949",
   "metadata": {},
   "outputs": [
    {
     "data": {
      "text/plain": [
       "{'longitude': 0.014464729672647775,\n",
       " 'latitude': 0.03001847738030148,\n",
       " 'housing_median_age': 0.10249128069337625,\n",
       " 'total_rooms': 0.08603838292900823,\n",
       " 'total_bedrooms': 0.3355403365620536,\n",
       " 'population': 0.2188198543307832,\n",
       " 'households': 0.14745955406828115,\n",
       " 'median_income': 0.028272427270634358,\n",
       " 'ocean_proximity': 0.015736633318908736}"
      ]
     },
     "execution_count": 65,
     "metadata": {},
     "output_type": "execute_result"
    }
   ],
   "source": [
    "rf = RandomForestRegressor(n_estimators=10, max_depth=20, random_state=1, n_jobs=-1)\n",
    "        \n",
    "rf.fit(X_train, y_train)\n",
    "        \n",
    "dict(zip(df_train.columns, rf.feature_importances_ ))\n",
    "\n",
    "# total_rooms': 0.08603838292900823,\n",
    "# 'median_income': 0.028272427270634358,\n",
    "# 'total_bedrooms': 0.3355403365620536,\n",
    "# 'longitude': 0.014464729672647775,"
   ]
  },
  {
   "cell_type": "code",
   "execution_count": null,
   "id": "cb5b9d31-73ad-46a9-9d33-9eacf5a01f88",
   "metadata": {},
   "outputs": [],
   "source": []
  },
  {
   "cell_type": "code",
   "execution_count": null,
   "id": "a7e31ccd-0c93-4e1a-9e11-24ad559b25fc",
   "metadata": {},
   "outputs": [],
   "source": []
  },
  {
   "cell_type": "markdown",
   "id": "ccd00478-829b-40f7-ba42-bd0d98ae4061",
   "metadata": {},
   "source": [
    "# Question 6: 0.3"
   ]
  },
  {
   "cell_type": "code",
   "execution_count": null,
   "id": "78f923c2-2259-4f75-ae83-3254dc4a82b9",
   "metadata": {},
   "outputs": [],
   "source": [
    "# 0.23234, eta 0.1\n",
    "# 0.22897, eta 0.3"
   ]
  },
  {
   "cell_type": "markdown",
   "id": "09c90296-1056-4031-84d2-f2f00a052dc8",
   "metadata": {},
   "source": [
    "Now let's train an XGBoost model! For this question, we'll tune the eta parameter:\n",
    "\n",
    "* Install XGBoost\n",
    "* Create DMatrix for train and validation\n",
    "* Create a watchlist\n",
    "* Train a model with these parameters for 100 rounds:"
   ]
  },
  {
   "cell_type": "code",
   "execution_count": 68,
   "id": "5280fcae-fb13-45b2-97c5-42965bd96a91",
   "metadata": {},
   "outputs": [
    {
     "data": {
      "text/plain": [
       "array(['households', 'housing_median_age', 'latitude', 'longitude',\n",
       "       'median_income', 'ocean_proximity=<1H OCEAN',\n",
       "       'ocean_proximity=INLAND', 'population', 'total_bedrooms',\n",
       "       'total_rooms'], dtype=object)"
      ]
     },
     "execution_count": 68,
     "metadata": {},
     "output_type": "execute_result"
    }
   ],
   "source": [
    "dv.get_feature_names_out()"
   ]
  },
  {
   "cell_type": "code",
   "execution_count": 74,
   "id": "8eb0793b-2ea5-4a65-9145-8b6d51a7db9e",
   "metadata": {},
   "outputs": [],
   "source": [
    "features = ['households', 'housing_median_age', 'latitude', 'longitude',\n",
    "       'median_income', 'ocean_proximity_less_1h_OCEAN',\n",
    "       'ocean_proximity_INLAND', 'population', 'total_bedrooms',\n",
    "       'total_rooms']\n",
    "\n",
    "# DMatrix = specific structure for faster training with Xgboost \n",
    "dtrain = xgb.DMatrix(X_train, label=y_train, feature_names=features)\n",
    "dval = xgb.DMatrix(X_val, label=y_val, feature_names=features)\n"
   ]
  },
  {
   "cell_type": "code",
   "execution_count": 75,
   "id": "49726acb-db9a-42d0-a80d-a683375f34b3",
   "metadata": {},
   "outputs": [],
   "source": [
    "xgb_params = {\n",
    "    'eta': 0.3, \n",
    "    'max_depth': 6,\n",
    "    'min_child_weight': 1,\n",
    "    \n",
    "    'objective': 'reg:squarederror',\n",
    "    'nthread': 8,\n",
    "    \n",
    "    'seed': 1,\n",
    "    'verbosity': 1,\n",
    "}"
   ]
  },
  {
   "cell_type": "code",
   "execution_count": 76,
   "id": "0428f717-6102-42a4-a469-32c2b82a7b6d",
   "metadata": {},
   "outputs": [],
   "source": [
    "watchlist = [(dtrain, 'train'), (dval, 'val')]"
   ]
  },
  {
   "cell_type": "code",
   "execution_count": 78,
   "id": "34d4ab29-76d8-4f66-b34b-ee78e8e75499",
   "metadata": {},
   "outputs": [],
   "source": [
    "%%capture output\n",
    "\n",
    "model = xgb.train(xgb_params, dtrain, num_boost_round=100,\n",
    "                  verbose_eval=5,\n",
    "                  evals=watchlist)\n"
   ]
  },
  {
   "cell_type": "code",
   "execution_count": 79,
   "id": "8d0e4949-6b69-47da-ba6b-be3d0e7223c9",
   "metadata": {},
   "outputs": [],
   "source": [
    "s = output.stdout"
   ]
  },
  {
   "cell_type": "code",
   "execution_count": null,
   "id": "649410c9-731d-44fb-bc01-1e53f55dd1ba",
   "metadata": {},
   "outputs": [],
   "source": []
  },
  {
   "cell_type": "code",
   "execution_count": 84,
   "id": "004332e4-71ec-4855-965b-59b034c45889",
   "metadata": {},
   "outputs": [],
   "source": [
    "def parse_xgb_output(output):\n",
    "    results = []\n",
    "\n",
    "    for line in output.stdout.strip().split('\\n'):\n",
    "        it_line, train_line, val_line = line.split('\\t')\n",
    "\n",
    "        it = int(it_line.strip('[]'))\n",
    "        train = float(train_line.split(':')[1])\n",
    "        val = float(val_line.split(':')[1])\n",
    "\n",
    "        results.append((it, train, val))\n",
    "    \n",
    "    columns = ['num_iter', 'train_score', 'val_score']\n",
    "    df_results = pd.DataFrame(results, columns=columns)\n",
    "    return df_results"
   ]
  },
  {
   "cell_type": "code",
   "execution_count": 85,
   "id": "17843eaa-13d9-4997-b35e-19c6983af1d4",
   "metadata": {},
   "outputs": [],
   "source": [
    "df_score = parse_xgb_output(output)"
   ]
  },
  {
   "cell_type": "code",
   "execution_count": 86,
   "id": "0f896374-3f8e-4125-a7b0-7335d246f396",
   "metadata": {},
   "outputs": [
    {
     "data": {
      "text/html": [
       "<div>\n",
       "<style scoped>\n",
       "    .dataframe tbody tr th:only-of-type {\n",
       "        vertical-align: middle;\n",
       "    }\n",
       "\n",
       "    .dataframe tbody tr th {\n",
       "        vertical-align: top;\n",
       "    }\n",
       "\n",
       "    .dataframe thead th {\n",
       "        text-align: right;\n",
       "    }\n",
       "</style>\n",
       "<table border=\"1\" class=\"dataframe\">\n",
       "  <thead>\n",
       "    <tr style=\"text-align: right;\">\n",
       "      <th></th>\n",
       "      <th>num_iter</th>\n",
       "      <th>train_score</th>\n",
       "      <th>val_score</th>\n",
       "    </tr>\n",
       "  </thead>\n",
       "  <tbody>\n",
       "    <tr>\n",
       "      <th>0</th>\n",
       "      <td>0</td>\n",
       "      <td>8.07362</td>\n",
       "      <td>8.07348</td>\n",
       "    </tr>\n",
       "    <tr>\n",
       "      <th>1</th>\n",
       "      <td>5</td>\n",
       "      <td>1.38983</td>\n",
       "      <td>1.38852</td>\n",
       "    </tr>\n",
       "    <tr>\n",
       "      <th>2</th>\n",
       "      <td>10</td>\n",
       "      <td>0.33195</td>\n",
       "      <td>0.34802</td>\n",
       "    </tr>\n",
       "    <tr>\n",
       "      <th>3</th>\n",
       "      <td>15</td>\n",
       "      <td>0.22197</td>\n",
       "      <td>0.25614</td>\n",
       "    </tr>\n",
       "    <tr>\n",
       "      <th>4</th>\n",
       "      <td>20</td>\n",
       "      <td>0.20036</td>\n",
       "      <td>0.24508</td>\n",
       "    </tr>\n",
       "  </tbody>\n",
       "</table>\n",
       "</div>"
      ],
      "text/plain": [
       "   num_iter  train_score  val_score\n",
       "0         0      8.07362    8.07348\n",
       "1         5      1.38983    1.38852\n",
       "2        10      0.33195    0.34802\n",
       "3        15      0.22197    0.25614\n",
       "4        20      0.20036    0.24508"
      ]
     },
     "execution_count": 86,
     "metadata": {},
     "output_type": "execute_result"
    }
   ],
   "source": [
    "df_score[0:5]"
   ]
  },
  {
   "cell_type": "code",
   "execution_count": 87,
   "id": "0b9b06d7-50c4-4b5f-9dc0-a8959aedc00f",
   "metadata": {},
   "outputs": [
    {
     "data": {
      "text/plain": [
       "<matplotlib.legend.Legend at 0x7efbff6ab2e0>"
      ]
     },
     "execution_count": 87,
     "metadata": {},
     "output_type": "execute_result"
    },
    {
     "data": {
      "image/png": "[encoded data removed]",
      "text/plain": [
       "<Figure size 640x480 with 1 Axes>"
      ]
     },
     "metadata": {},
     "output_type": "display_data"
    }
   ],
   "source": [
    "plt.plot(df_score.num_iter, df_score.train_score, label='train')\n",
    "plt.plot(df_score.num_iter, df_score.val_score, label='val')\n",
    "plt.legend()"
   ]
  },
  {
   "cell_type": "code",
   "execution_count": 88,
   "id": "668fe7e7-bbf1-41c0-823a-a742202bde51",
   "metadata": {},
   "outputs": [
    {
     "data": {
      "text/html": [
       "<div>\n",
       "<style scoped>\n",
       "    .dataframe tbody tr th:only-of-type {\n",
       "        vertical-align: middle;\n",
       "    }\n",
       "\n",
       "    .dataframe tbody tr th {\n",
       "        vertical-align: top;\n",
       "    }\n",
       "\n",
       "    .dataframe thead th {\n",
       "        text-align: right;\n",
       "    }\n",
       "</style>\n",
       "<table border=\"1\" class=\"dataframe\">\n",
       "  <thead>\n",
       "    <tr style=\"text-align: right;\">\n",
       "      <th></th>\n",
       "      <th>num_iter</th>\n",
       "      <th>train_score</th>\n",
       "      <th>val_score</th>\n",
       "    </tr>\n",
       "  </thead>\n",
       "  <tbody>\n",
       "    <tr>\n",
       "      <th>0</th>\n",
       "      <td>0</td>\n",
       "      <td>8.07362</td>\n",
       "      <td>8.07348</td>\n",
       "    </tr>\n",
       "    <tr>\n",
       "      <th>1</th>\n",
       "      <td>5</td>\n",
       "      <td>1.38983</td>\n",
       "      <td>1.38852</td>\n",
       "    </tr>\n",
       "    <tr>\n",
       "      <th>2</th>\n",
       "      <td>10</td>\n",
       "      <td>0.33195</td>\n",
       "      <td>0.34802</td>\n",
       "    </tr>\n",
       "    <tr>\n",
       "      <th>3</th>\n",
       "      <td>15</td>\n",
       "      <td>0.22197</td>\n",
       "      <td>0.25614</td>\n",
       "    </tr>\n",
       "    <tr>\n",
       "      <th>4</th>\n",
       "      <td>20</td>\n",
       "      <td>0.20036</td>\n",
       "      <td>0.24508</td>\n",
       "    </tr>\n",
       "    <tr>\n",
       "      <th>5</th>\n",
       "      <td>25</td>\n",
       "      <td>0.18991</td>\n",
       "      <td>0.24021</td>\n",
       "    </tr>\n",
       "    <tr>\n",
       "      <th>6</th>\n",
       "      <td>30</td>\n",
       "      <td>0.18204</td>\n",
       "      <td>0.23833</td>\n",
       "    </tr>\n",
       "    <tr>\n",
       "      <th>7</th>\n",
       "      <td>35</td>\n",
       "      <td>0.17091</td>\n",
       "      <td>0.23452</td>\n",
       "    </tr>\n",
       "    <tr>\n",
       "      <th>8</th>\n",
       "      <td>40</td>\n",
       "      <td>0.16422</td>\n",
       "      <td>0.23379</td>\n",
       "    </tr>\n",
       "    <tr>\n",
       "      <th>9</th>\n",
       "      <td>45</td>\n",
       "      <td>0.15756</td>\n",
       "      <td>0.23302</td>\n",
       "    </tr>\n",
       "    <tr>\n",
       "      <th>10</th>\n",
       "      <td>50</td>\n",
       "      <td>0.15210</td>\n",
       "      <td>0.23262</td>\n",
       "    </tr>\n",
       "    <tr>\n",
       "      <th>11</th>\n",
       "      <td>55</td>\n",
       "      <td>0.14633</td>\n",
       "      <td>0.23167</td>\n",
       "    </tr>\n",
       "    <tr>\n",
       "      <th>12</th>\n",
       "      <td>60</td>\n",
       "      <td>0.14218</td>\n",
       "      <td>0.23160</td>\n",
       "    </tr>\n",
       "    <tr>\n",
       "      <th>13</th>\n",
       "      <td>65</td>\n",
       "      <td>0.13898</td>\n",
       "      <td>0.23169</td>\n",
       "    </tr>\n",
       "    <tr>\n",
       "      <th>14</th>\n",
       "      <td>70</td>\n",
       "      <td>0.13471</td>\n",
       "      <td>0.23108</td>\n",
       "    </tr>\n",
       "    <tr>\n",
       "      <th>15</th>\n",
       "      <td>75</td>\n",
       "      <td>0.13072</td>\n",
       "      <td>0.23036</td>\n",
       "    </tr>\n",
       "    <tr>\n",
       "      <th>16</th>\n",
       "      <td>80</td>\n",
       "      <td>0.12835</td>\n",
       "      <td>0.23045</td>\n",
       "    </tr>\n",
       "    <tr>\n",
       "      <th>17</th>\n",
       "      <td>85</td>\n",
       "      <td>0.12534</td>\n",
       "      <td>0.23010</td>\n",
       "    </tr>\n",
       "    <tr>\n",
       "      <th>18</th>\n",
       "      <td>90</td>\n",
       "      <td>0.12174</td>\n",
       "      <td>0.22957</td>\n",
       "    </tr>\n",
       "    <tr>\n",
       "      <th>19</th>\n",
       "      <td>95</td>\n",
       "      <td>0.11894</td>\n",
       "      <td>0.22906</td>\n",
       "    </tr>\n",
       "    <tr>\n",
       "      <th>20</th>\n",
       "      <td>99</td>\n",
       "      <td>0.11656</td>\n",
       "      <td>0.22897</td>\n",
       "    </tr>\n",
       "  </tbody>\n",
       "</table>\n",
       "</div>"
      ],
      "text/plain": [
       "    num_iter  train_score  val_score\n",
       "0          0      8.07362    8.07348\n",
       "1          5      1.38983    1.38852\n",
       "2         10      0.33195    0.34802\n",
       "3         15      0.22197    0.25614\n",
       "4         20      0.20036    0.24508\n",
       "5         25      0.18991    0.24021\n",
       "6         30      0.18204    0.23833\n",
       "7         35      0.17091    0.23452\n",
       "8         40      0.16422    0.23379\n",
       "9         45      0.15756    0.23302\n",
       "10        50      0.15210    0.23262\n",
       "11        55      0.14633    0.23167\n",
       "12        60      0.14218    0.23160\n",
       "13        65      0.13898    0.23169\n",
       "14        70      0.13471    0.23108\n",
       "15        75      0.13072    0.23036\n",
       "16        80      0.12835    0.23045\n",
       "17        85      0.12534    0.23010\n",
       "18        90      0.12174    0.22957\n",
       "19        95      0.11894    0.22906\n",
       "20        99      0.11656    0.22897"
      ]
     },
     "execution_count": 88,
     "metadata": {},
     "output_type": "execute_result"
    }
   ],
   "source": [
    "df_score # val score is 0.22897"
   ]
  },
  {
   "cell_type": "code",
   "execution_count": null,
   "id": "7c2e778f-ddda-46cc-8078-498093eeacd4",
   "metadata": {},
   "outputs": [],
   "source": []
  },
  {
   "cell_type": "code",
   "execution_count": 89,
   "id": "36af58e9-ce67-4445-b8a6-f33cd0245713",
   "metadata": {},
   "outputs": [],
   "source": [
    "watchlist = [(dtrain, 'train'), (dval, 'val')]"
   ]
  },
  {
   "cell_type": "code",
   "execution_count": 90,
   "id": "dc8b7e7d-4ef5-41ce-b613-51fd1d8d4cb4",
   "metadata": {},
   "outputs": [],
   "source": [
    "xgb_params = {\n",
    "    'eta': 0.1, \n",
    "    'max_depth': 6,\n",
    "    'min_child_weight': 1,\n",
    "    \n",
    "    'objective': 'reg:squarederror',\n",
    "    'nthread': 8,\n",
    "    \n",
    "    'seed': 1,\n",
    "    'verbosity': 1,\n",
    "}"
   ]
  },
  {
   "cell_type": "code",
   "execution_count": 91,
   "id": "fa95b3ef-88fd-43cf-a924-759b71c31dcb",
   "metadata": {},
   "outputs": [],
   "source": [
    "%%capture output\n",
    "\n",
    "model = xgb.train(xgb_params, dtrain, num_boost_round=100,\n",
    "                  verbose_eval=5,\n",
    "                  evals=watchlist)"
   ]
  },
  {
   "cell_type": "code",
   "execution_count": 92,
   "id": "3e66cb78-b247-4a9c-ba73-a1ebf67d6ad2",
   "metadata": {},
   "outputs": [],
   "source": [
    "s = output.stdout"
   ]
  },
  {
   "cell_type": "code",
   "execution_count": 93,
   "id": "8fae257c-6216-47a7-96b1-38cf5485f6e1",
   "metadata": {},
   "outputs": [
    {
     "data": {
      "text/html": [
       "<div>\n",
       "<style scoped>\n",
       "    .dataframe tbody tr th:only-of-type {\n",
       "        vertical-align: middle;\n",
       "    }\n",
       "\n",
       "    .dataframe tbody tr th {\n",
       "        vertical-align: top;\n",
       "    }\n",
       "\n",
       "    .dataframe thead th {\n",
       "        text-align: right;\n",
       "    }\n",
       "</style>\n",
       "<table border=\"1\" class=\"dataframe\">\n",
       "  <thead>\n",
       "    <tr style=\"text-align: right;\">\n",
       "      <th></th>\n",
       "      <th>num_iter</th>\n",
       "      <th>train_score</th>\n",
       "      <th>val_score</th>\n",
       "    </tr>\n",
       "  </thead>\n",
       "  <tbody>\n",
       "    <tr>\n",
       "      <th>0</th>\n",
       "      <td>0</td>\n",
       "      <td>10.37456</td>\n",
       "      <td>10.37545</td>\n",
       "    </tr>\n",
       "    <tr>\n",
       "      <th>1</th>\n",
       "      <td>5</td>\n",
       "      <td>6.13433</td>\n",
       "      <td>6.13236</td>\n",
       "    </tr>\n",
       "    <tr>\n",
       "      <th>2</th>\n",
       "      <td>10</td>\n",
       "      <td>3.63299</td>\n",
       "      <td>3.62939</td>\n",
       "    </tr>\n",
       "    <tr>\n",
       "      <th>3</th>\n",
       "      <td>15</td>\n",
       "      <td>2.15901</td>\n",
       "      <td>2.15616</td>\n",
       "    </tr>\n",
       "    <tr>\n",
       "      <th>4</th>\n",
       "      <td>20</td>\n",
       "      <td>1.29412</td>\n",
       "      <td>1.29329</td>\n",
       "    </tr>\n",
       "    <tr>\n",
       "      <th>5</th>\n",
       "      <td>25</td>\n",
       "      <td>0.78993</td>\n",
       "      <td>0.79342</td>\n",
       "    </tr>\n",
       "    <tr>\n",
       "      <th>6</th>\n",
       "      <td>30</td>\n",
       "      <td>0.50217</td>\n",
       "      <td>0.51149</td>\n",
       "    </tr>\n",
       "    <tr>\n",
       "      <th>7</th>\n",
       "      <td>35</td>\n",
       "      <td>0.34590</td>\n",
       "      <td>0.36371</td>\n",
       "    </tr>\n",
       "    <tr>\n",
       "      <th>8</th>\n",
       "      <td>40</td>\n",
       "      <td>0.26743</td>\n",
       "      <td>0.29345</td>\n",
       "    </tr>\n",
       "    <tr>\n",
       "      <th>9</th>\n",
       "      <td>45</td>\n",
       "      <td>0.23014</td>\n",
       "      <td>0.26315</td>\n",
       "    </tr>\n",
       "    <tr>\n",
       "      <th>10</th>\n",
       "      <td>50</td>\n",
       "      <td>0.21112</td>\n",
       "      <td>0.24907</td>\n",
       "    </tr>\n",
       "    <tr>\n",
       "      <th>11</th>\n",
       "      <td>55</td>\n",
       "      <td>0.20315</td>\n",
       "      <td>0.24427</td>\n",
       "    </tr>\n",
       "    <tr>\n",
       "      <th>12</th>\n",
       "      <td>60</td>\n",
       "      <td>0.19724</td>\n",
       "      <td>0.24107</td>\n",
       "    </tr>\n",
       "    <tr>\n",
       "      <th>13</th>\n",
       "      <td>65</td>\n",
       "      <td>0.19264</td>\n",
       "      <td>0.23932</td>\n",
       "    </tr>\n",
       "    <tr>\n",
       "      <th>14</th>\n",
       "      <td>70</td>\n",
       "      <td>0.18911</td>\n",
       "      <td>0.23824</td>\n",
       "    </tr>\n",
       "    <tr>\n",
       "      <th>15</th>\n",
       "      <td>75</td>\n",
       "      <td>0.18503</td>\n",
       "      <td>0.23731</td>\n",
       "    </tr>\n",
       "    <tr>\n",
       "      <th>16</th>\n",
       "      <td>80</td>\n",
       "      <td>0.18145</td>\n",
       "      <td>0.23594</td>\n",
       "    </tr>\n",
       "    <tr>\n",
       "      <th>17</th>\n",
       "      <td>85</td>\n",
       "      <td>0.17807</td>\n",
       "      <td>0.23475</td>\n",
       "    </tr>\n",
       "    <tr>\n",
       "      <th>18</th>\n",
       "      <td>90</td>\n",
       "      <td>0.17418</td>\n",
       "      <td>0.23307</td>\n",
       "    </tr>\n",
       "    <tr>\n",
       "      <th>19</th>\n",
       "      <td>95</td>\n",
       "      <td>0.17149</td>\n",
       "      <td>0.23258</td>\n",
       "    </tr>\n",
       "    <tr>\n",
       "      <th>20</th>\n",
       "      <td>99</td>\n",
       "      <td>0.17000</td>\n",
       "      <td>0.23234</td>\n",
       "    </tr>\n",
       "  </tbody>\n",
       "</table>\n",
       "</div>"
      ],
      "text/plain": [
       "    num_iter  train_score  val_score\n",
       "0          0     10.37456   10.37545\n",
       "1          5      6.13433    6.13236\n",
       "2         10      3.63299    3.62939\n",
       "3         15      2.15901    2.15616\n",
       "4         20      1.29412    1.29329\n",
       "5         25      0.78993    0.79342\n",
       "6         30      0.50217    0.51149\n",
       "7         35      0.34590    0.36371\n",
       "8         40      0.26743    0.29345\n",
       "9         45      0.23014    0.26315\n",
       "10        50      0.21112    0.24907\n",
       "11        55      0.20315    0.24427\n",
       "12        60      0.19724    0.24107\n",
       "13        65      0.19264    0.23932\n",
       "14        70      0.18911    0.23824\n",
       "15        75      0.18503    0.23731\n",
       "16        80      0.18145    0.23594\n",
       "17        85      0.17807    0.23475\n",
       "18        90      0.17418    0.23307\n",
       "19        95      0.17149    0.23258\n",
       "20        99      0.17000    0.23234"
      ]
     },
     "execution_count": 93,
     "metadata": {},
     "output_type": "execute_result"
    }
   ],
   "source": [
    "df_score = parse_xgb_output(output)\n",
    "df_score # 0.23234, eta 0.1"
   ]
  },
  {
   "cell_type": "code",
   "execution_count": null,
   "id": "96e6988c-a470-4a1a-84bb-4d10507e76fb",
   "metadata": {},
   "outputs": [],
   "source": []
  }
 ],
 "metadata": {
  "kernelspec": {
   "display_name": "Python 3",
   "language": "python",
   "name": "python3"
  },
  "language_info": {
   "codemirror_mode": {
    "name": "ipython",
    "version": 3
   },
   "file_extension": ".py",
   "mimetype": "text/x-python",
   "name": "python",
   "nbconvert_exporter": "python",
   "pygments_lexer": "ipython3",
   "version": "3.9.13"
  }
 },
 "nbformat": 4,
 "nbformat_minor": 5
}
