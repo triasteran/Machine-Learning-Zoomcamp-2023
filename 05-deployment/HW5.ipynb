{
 "cells": [
  {
   "cell_type": "markdown",
   "id": "af468be5-448e-45ce-bf91-b9695dff6e78",
   "metadata": {},
   "source": []
  },
  {
   "cell_type": "code",
   "execution_count": null,
   "id": "94655da8-96cd-4dcb-ba20-69a4fc014072",
   "metadata": {},
   "outputs": [],
   "source": []
  },
  {
   "cell_type": "markdown",
   "id": "849ffa93-720f-4d4d-be0e-76f477bb6ed9",
   "metadata": {},
   "source": [
    "# Question 1: 2023.10.3"
   ]
  },
  {
   "cell_type": "markdown",
   "id": "0363e4ff-3b9f-4bbf-ad12-f58028278297",
   "metadata": {},
   "source": [
    "Install Pipenv\n",
    "\n",
    "What's the version of pipenv you installed?\n",
    "\n",
    "Use --version to find out"
   ]
  },
  {
   "cell_type": "code",
   "execution_count": null,
   "id": "a1a9055d-9a5c-4288-9410-88918c9f7540",
   "metadata": {},
   "outputs": [],
   "source": [
    "!pip install pipenv --user "
   ]
  },
  {
   "cell_type": "code",
   "execution_count": null,
   "id": "659f7904-686a-4811-bbd8-47738e96973c",
   "metadata": {},
   "outputs": [],
   "source": [
    "pipenv, version 2023.10.3"
   ]
  },
  {
   "cell_type": "code",
   "execution_count": null,
   "id": "f1cf85bb-f8e9-40fc-aa87-68ef156f8926",
   "metadata": {},
   "outputs": [],
   "source": []
  },
  {
   "cell_type": "markdown",
   "id": "4bb86fb8-d1a4-4723-b988-c1bda3021da1",
   "metadata": {},
   "source": [
    "# Question 2: sha256:0c275a06c5190c5ce00af0acbb61c06374087949f643ef32d355ece12c4db043"
   ]
  },
  {
   "cell_type": "markdown",
   "id": "ebf61454-0725-47bf-be0b-ab6dbd63113e",
   "metadata": {},
   "source": [
    "Use Pipenv to install Scikit-Learn version 1.3.1\n",
    "\n",
    "What's the first hash for scikit-learn you get in Pipfile.lock?\n",
    "\n",
    "Note: you should create an empty folder for homework and do it there."
   ]
  },
  {
   "cell_type": "code",
   "execution_count": null,
   "id": "6eb2efa0-50dd-4987-a09d-2d607958cf61",
   "metadata": {},
   "outputs": [],
   "source": [
    "pipenv install scikit-learn==1.3.1 gunicorn flask numpy "
   ]
  },
  {
   "cell_type": "code",
   "execution_count": null,
   "id": "8c25fe62-9fe4-47df-98e2-ec2bf0412fbf",
   "metadata": {},
   "outputs": [],
   "source": [
    "\"sha256:0c275a06c5190c5ce00af0acbb61c06374087949f643ef32d355ece12c4db043\" "
   ]
  },
  {
   "cell_type": "markdown",
   "id": "b3c9144d-070f-42cd-bb49-29a72d5ae844",
   "metadata": {},
   "source": [
    "# Question 3: 0.902"
   ]
  },
  {
   "cell_type": "code",
   "execution_count": 1,
   "id": "4c8de402-a199-4a4c-a81f-9659244a57e5",
   "metadata": {},
   "outputs": [
    {
     "name": "stdout",
     "output_type": "stream",
     "text": [
      "/model1.bin: Scheme missing.\n",
      "/dv.bin: Scheme missing.\n"
     ]
    }
   ],
   "source": [
    "PREFIX=https://raw.githubusercontent.com/DataTalksClub/machine-learning-zoomcamp/master/cohorts/2023/05-deployment/homework\n",
    "wget $PREFIX/model1.bin\n",
    "wget $PREFIX/dv.bin"
   ]
  },
  {
   "cell_type": "code",
   "execution_count": null,
   "id": "9c6fcb53-a3b6-4b2d-b44d-f54602a680aa",
   "metadata": {},
   "outputs": [],
   "source": [
    "Write a script for loading these models with pickle\n",
    "              \n",
    "Score this client:\n",
    "{\"job\": \"retired\", \"duration\": 445, \"poutcome\": \"success\"}"
   ]
  },
  {
   "cell_type": "code",
   "execution_count": null,
   "id": "863b56d3-142f-4430-a00b-4dfab3a286cf",
   "metadata": {},
   "outputs": [],
   "source": []
  },
  {
   "cell_type": "markdown",
   "id": "e4b6ec63-643a-4d3a-84ad-8e4156b78adb",
   "metadata": {},
   "source": [
    "# Question 4: 0.140"
   ]
  },
  {
   "cell_type": "markdown",
   "id": "21c640f4-87fc-4cc6-a665-5818aff11bb9",
   "metadata": {},
   "source": [
    "0.13968947052356817"
   ]
  },
  {
   "cell_type": "code",
   "execution_count": null,
   "id": "b664c384-3bd1-467a-9053-f4ce17112922",
   "metadata": {},
   "outputs": [],
   "source": []
  },
  {
   "cell_type": "code",
   "execution_count": null,
   "id": "09f33e66-0855-4789-8e9b-bcebb764fb32",
   "metadata": {},
   "outputs": [],
   "source": []
  },
  {
   "cell_type": "markdown",
   "id": "ae03b8b0-60bc-438b-8244-4d817add7b03",
   "metadata": {},
   "source": [
    "# Question 5:  147MB"
   ]
  },
  {
   "cell_type": "code",
   "execution_count": null,
   "id": "3930ba74-78e3-4545-9451-86925f068009",
   "metadata": {},
   "outputs": [],
   "source": [
    "Download the base image svizor/zoomcamp-model:3.10.12-slim. You can easily make it by using docker pull command.\n",
    "\n",
    "So what's the size of this base image?\n",
    "\n",
    "47 MB\n",
    "147 MB\n",
    "374 MB\n",
    "574 MB"
   ]
  },
  {
   "cell_type": "code",
   "execution_count": null,
   "id": "b6aa04ff-9798-4742-84ee-e30a25bb8bd8",
   "metadata": {},
   "outputs": [],
   "source": [
    "docker pull svizor/zoomcamp-model:3.10.12-slim"
   ]
  },
  {
   "cell_type": "code",
   "execution_count": null,
   "id": "7a5f937b-5b3c-44ca-b377-a8ee26d47323",
   "metadata": {},
   "outputs": [],
   "source": [
    "docker images"
   ]
  },
  {
   "cell_type": "code",
   "execution_count": null,
   "id": "9b7cf3ca-3af1-48eb-b2a4-3423e63f434b",
   "metadata": {},
   "outputs": [],
   "source": []
  },
  {
   "cell_type": "markdown",
   "id": "f9973be2-4a69-4b6e-8e96-7898c46c31d3",
   "metadata": {},
   "source": [
    "# Question 6"
   ]
  },
  {
   "cell_type": "code",
   "execution_count": null,
   "id": "3bb916b4-9f75-4b43-893b-997de397614e",
   "metadata": {},
   "outputs": [],
   "source": [
    "FROM svizor/zoomcamp-model:3.10.12-slim"
   ]
  },
  {
   "cell_type": "raw",
   "id": "a31f1e58-3de2-4083-9b97-99c80e6b0957",
   "metadata": {},
   "source": [
    "Now complete it:\n",
    "\n",
    "Install all the dependencies form the Pipenv file\n",
    "Copy your Flask script\n",
    "Run it with Gunicorn\n",
    "After that, you can build your docker image."
   ]
  },
  {
   "cell_type": "code",
   "execution_count": null,
   "id": "1326b4e8-c20c-48e2-8094-d5885692167c",
   "metadata": {},
   "outputs": [],
   "source": [
    "docker build -t tag .\n",
    " \n",
    "docker run -it --rm -p 9696:9696 tag"
   ]
  },
  {
   "cell_type": "code",
   "execution_count": null,
   "id": "8ee10b8f-0dd5-4711-9487-cfb337dbb490",
   "metadata": {},
   "outputs": [],
   "source": [
    "0.726936946355423"
   ]
  },
  {
   "cell_type": "code",
   "execution_count": null,
   "id": "d5e5622f-5a2b-41dc-8330-e092d6b1eabd",
   "metadata": {},
   "outputs": [],
   "source": []
  },
  {
   "cell_type": "code",
   "execution_count": null,
   "id": "8971d2d9-0e08-463c-95af-0114839829f7",
   "metadata": {},
   "outputs": [],
   "source": []
  },
  {
   "cell_type": "code",
   "execution_count": null,
   "id": "5253fc48-6b87-44ac-87e4-f9559227795d",
   "metadata": {},
   "outputs": [],
   "source": []
  },
  {
   "cell_type": "code",
   "execution_count": null,
   "id": "ebd89221-fbce-4af3-99c1-dcac4b6b88e9",
   "metadata": {},
   "outputs": [],
   "source": []
  }
 ],
 "metadata": {
  "kernelspec": {
   "display_name": "Python 3",
   "language": "python",
   "name": "python3"
  },
  "language_info": {
   "codemirror_mode": {
    "name": "ipython",
    "version": 3
   },
   "file_extension": ".py",
   "mimetype": "text/x-python",
   "name": "python",
   "nbconvert_exporter": "python",
   "pygments_lexer": "ipython3",
   "version": "3.9.13"
  }
 },
 "nbformat": 4,
 "nbformat_minor": 5
}
