{
 "cells": [
  {
   "cell_type": "code",
   "execution_count": 2,
   "id": "0c0bf3df-0d1f-4cce-b1b1-00ddaef54795",
   "metadata": {},
   "outputs": [],
   "source": [
    "import pandas as pd\n",
    "import numpy as np\n",
    "\n",
    "import matplotlib.pyplot as plt\n",
    "\n",
    "from sklearn.model_selection import train_test_split\n",
    "from sklearn.metrics import mutual_info_score\n",
    "from sklearn.linear_model import LogisticRegression\n",
    "from sklearn.feature_extraction import DictVectorizer"
   ]
  },
  {
   "cell_type": "code",
   "execution_count": null,
   "id": "f7792945-9edf-4e2e-9f6a-3645432d9171",
   "metadata": {},
   "outputs": [],
   "source": [
    "from sklearn.metrics import mean_squared_error\n",
    "from sklearn.linear_model import Ridge"
   ]
  },
  {
   "cell_type": "code",
   "execution_count": 3,
   "id": "113c85a4-b3c9-4c8f-9eb7-5ca3188523db",
   "metadata": {},
   "outputs": [
    {
     "name": "stdout",
     "output_type": "stream",
     "text": [
      "--2023-09-30 16:01:40--  https://raw.githubusercontent.com/alexeygrigorev/mlbookcamp-code/master/chapter-02-car-price/data.csv\n",
      "Resolving raw.githubusercontent.com (raw.githubusercontent.com)... 185.199.110.133, 185.199.108.133, 185.199.109.133, ...\n",
      "Connecting to raw.githubusercontent.com (raw.githubusercontent.com)|185.199.110.133|:443... connected.\n",
      "HTTP request sent, awaiting response... 200 OK\n",
      "Length: 1475504 (1.4M) [text/plain]\n",
      "Saving to: ‘data.csv.1’\n",
      "\n",
      "data.csv.1          100%[===================>]   1.41M  1.08MB/s    in 1.3s    \n",
      "\n",
      "2023-09-30 16:01:41 (1.08 MB/s) - ‘data.csv.1’ saved [1475504/1475504]\n",
      "\n"
     ]
    }
   ],
   "source": [
    "!wget https://raw.githubusercontent.com/alexeygrigorev/mlbookcamp-code/master/chapter-02-car-price/data.csv"
   ]
  },
  {
   "cell_type": "code",
   "execution_count": 4,
   "id": "429f276f-eae2-4342-8065-8067193fc886",
   "metadata": {},
   "outputs": [
    {
     "data": {
      "text/html": [
       "<div>\n",
       "<style scoped>\n",
       "    .dataframe tbody tr th:only-of-type {\n",
       "        vertical-align: middle;\n",
       "    }\n",
       "\n",
       "    .dataframe tbody tr th {\n",
       "        vertical-align: top;\n",
       "    }\n",
       "\n",
       "    .dataframe thead th {\n",
       "        text-align: right;\n",
       "    }\n",
       "</style>\n",
       "<table border=\"1\" class=\"dataframe\">\n",
       "  <thead>\n",
       "    <tr style=\"text-align: right;\">\n",
       "      <th></th>\n",
       "      <th>make</th>\n",
       "      <th>model</th>\n",
       "      <th>year</th>\n",
       "      <th>engine_hp</th>\n",
       "      <th>engine_cylinders</th>\n",
       "      <th>transmission_type</th>\n",
       "      <th>vehicle_style</th>\n",
       "      <th>highway_mpg</th>\n",
       "      <th>city_mpg</th>\n",
       "      <th>price</th>\n",
       "    </tr>\n",
       "  </thead>\n",
       "  <tbody>\n",
       "    <tr>\n",
       "      <th>0</th>\n",
       "      <td>BMW</td>\n",
       "      <td>1 Series M</td>\n",
       "      <td>2011</td>\n",
       "      <td>335.0</td>\n",
       "      <td>6.0</td>\n",
       "      <td>MANUAL</td>\n",
       "      <td>Coupe</td>\n",
       "      <td>26</td>\n",
       "      <td>19</td>\n",
       "      <td>46135</td>\n",
       "    </tr>\n",
       "    <tr>\n",
       "      <th>1</th>\n",
       "      <td>BMW</td>\n",
       "      <td>1 Series</td>\n",
       "      <td>2011</td>\n",
       "      <td>300.0</td>\n",
       "      <td>6.0</td>\n",
       "      <td>MANUAL</td>\n",
       "      <td>Convertible</td>\n",
       "      <td>28</td>\n",
       "      <td>19</td>\n",
       "      <td>40650</td>\n",
       "    </tr>\n",
       "    <tr>\n",
       "      <th>2</th>\n",
       "      <td>BMW</td>\n",
       "      <td>1 Series</td>\n",
       "      <td>2011</td>\n",
       "      <td>300.0</td>\n",
       "      <td>6.0</td>\n",
       "      <td>MANUAL</td>\n",
       "      <td>Coupe</td>\n",
       "      <td>28</td>\n",
       "      <td>20</td>\n",
       "      <td>36350</td>\n",
       "    </tr>\n",
       "    <tr>\n",
       "      <th>3</th>\n",
       "      <td>BMW</td>\n",
       "      <td>1 Series</td>\n",
       "      <td>2011</td>\n",
       "      <td>230.0</td>\n",
       "      <td>6.0</td>\n",
       "      <td>MANUAL</td>\n",
       "      <td>Coupe</td>\n",
       "      <td>28</td>\n",
       "      <td>18</td>\n",
       "      <td>29450</td>\n",
       "    </tr>\n",
       "    <tr>\n",
       "      <th>4</th>\n",
       "      <td>BMW</td>\n",
       "      <td>1 Series</td>\n",
       "      <td>2011</td>\n",
       "      <td>230.0</td>\n",
       "      <td>6.0</td>\n",
       "      <td>MANUAL</td>\n",
       "      <td>Convertible</td>\n",
       "      <td>28</td>\n",
       "      <td>18</td>\n",
       "      <td>34500</td>\n",
       "    </tr>\n",
       "  </tbody>\n",
       "</table>\n",
       "</div>"
      ],
      "text/plain": [
       "  make       model  year  engine_hp  engine_cylinders transmission_type  \\\n",
       "0  BMW  1 Series M  2011      335.0               6.0            MANUAL   \n",
       "1  BMW    1 Series  2011      300.0               6.0            MANUAL   \n",
       "2  BMW    1 Series  2011      300.0               6.0            MANUAL   \n",
       "3  BMW    1 Series  2011      230.0               6.0            MANUAL   \n",
       "4  BMW    1 Series  2011      230.0               6.0            MANUAL   \n",
       "\n",
       "  vehicle_style  highway_mpg  city_mpg  price  \n",
       "0         Coupe           26        19  46135  \n",
       "1   Convertible           28        19  40650  \n",
       "2         Coupe           28        20  36350  \n",
       "3         Coupe           28        18  29450  \n",
       "4   Convertible           28        18  34500  "
      ]
     },
     "execution_count": 4,
     "metadata": {},
     "output_type": "execute_result"
    }
   ],
   "source": [
    "df = pd.read_csv('data.csv')\n",
    "\n",
    "features = ['Make', 'Model', 'Year', 'Engine HP', 'Engine Cylinders',\n",
    "            'Transmission Type', 'Vehicle Style', 'highway MPG', 'city mpg']\n",
    "\n",
    "df = df[features+['MSRP']]\n",
    "\n",
    "df.columns = df.columns.str.replace(' ', '_').str.lower()\n",
    "\n",
    "df[list(df.columns)] = df[list(df.columns)].fillna(0)\n",
    "\n",
    "df.columns = ['make', 'model', 'year', 'engine_hp', 'engine_cylinders',\n",
    "       'transmission_type', 'vehicle_style', 'highway_mpg', 'city_mpg',\n",
    "       'price']\n",
    "\n",
    "df.head()"
   ]
  },
  {
   "cell_type": "code",
   "execution_count": null,
   "id": "1e6ae2c2-36b4-4058-9e4c-1f9c4606daa8",
   "metadata": {},
   "outputs": [],
   "source": []
  },
  {
   "cell_type": "markdown",
   "id": "b29e9589-ce07-41d2-bb2d-99f01cb2aa70",
   "metadata": {},
   "source": [
    "# Question 1: AUTOMATIC\n",
    "What is the most frequent observation (mode) for the column transmission_type?\n",
    "\n",
    "* AUTOMATIC\n",
    "* MANUAL\n",
    "* AUTOMATED_MANUAL\n",
    "* DIRECT_DRIVE"
   ]
  },
  {
   "cell_type": "code",
   "execution_count": 5,
   "id": "bd6ff099-4bb9-43cc-abfd-5c572dc04bcb",
   "metadata": {},
   "outputs": [
    {
     "data": {
      "text/plain": [
       "AUTOMATIC           8266\n",
       "MANUAL              2935\n",
       "AUTOMATED_MANUAL     626\n",
       "DIRECT_DRIVE          68\n",
       "UNKNOWN               19\n",
       "Name: transmission_type, dtype: int64"
      ]
     },
     "execution_count": 5,
     "metadata": {},
     "output_type": "execute_result"
    }
   ],
   "source": [
    "df['transmission_type'].value_counts()"
   ]
  },
  {
   "cell_type": "code",
   "execution_count": null,
   "id": "a90dd4f8-7da6-47e2-8f9d-bad27e646866",
   "metadata": {},
   "outputs": [],
   "source": []
  },
  {
   "cell_type": "code",
   "execution_count": null,
   "id": "2f2fba74-fadd-4e91-a871-8959497e040f",
   "metadata": {},
   "outputs": [],
   "source": []
  },
  {
   "cell_type": "markdown",
   "id": "b065708a-783b-43f6-aa5b-6436f16512c1",
   "metadata": {},
   "source": [
    "# Question 2: engine_hp, engine_cylinders\n",
    "Create the correlation matrix for the numerical features of your dataset. In a correlation matrix, you compute the correlation coefficient between every pair of features in the dataset.\n",
    "\n",
    "What are the two features that have the biggest correlation in this dataset?\n",
    "\n",
    "* engine_hp and year\n",
    "* engine_hp and engine_cylinders\n",
    "* highway_mpg and engine_cylinders\n",
    "* highway_mpg and city_mpg"
   ]
  },
  {
   "cell_type": "code",
   "execution_count": 6,
   "id": "ea27478c-46f3-4c8e-adb2-91295ac4d053",
   "metadata": {},
   "outputs": [
    {
     "data": {
      "text/html": [
       "<div>\n",
       "<style scoped>\n",
       "    .dataframe tbody tr th:only-of-type {\n",
       "        vertical-align: middle;\n",
       "    }\n",
       "\n",
       "    .dataframe tbody tr th {\n",
       "        vertical-align: top;\n",
       "    }\n",
       "\n",
       "    .dataframe thead th {\n",
       "        text-align: right;\n",
       "    }\n",
       "</style>\n",
       "<table border=\"1\" class=\"dataframe\">\n",
       "  <thead>\n",
       "    <tr style=\"text-align: right;\">\n",
       "      <th></th>\n",
       "      <th>engine_hp</th>\n",
       "      <th>year</th>\n",
       "      <th>engine_cylinders</th>\n",
       "      <th>highway_mpg</th>\n",
       "      <th>city_mpg</th>\n",
       "    </tr>\n",
       "  </thead>\n",
       "  <tbody>\n",
       "    <tr>\n",
       "      <th>engine_hp</th>\n",
       "      <td>1.000000</td>\n",
       "      <td>0.338714</td>\n",
       "      <td>0.774851</td>\n",
       "      <td>-0.415707</td>\n",
       "      <td>-0.424918</td>\n",
       "    </tr>\n",
       "    <tr>\n",
       "      <th>year</th>\n",
       "      <td>0.338714</td>\n",
       "      <td>1.000000</td>\n",
       "      <td>-0.040708</td>\n",
       "      <td>0.258240</td>\n",
       "      <td>0.198171</td>\n",
       "    </tr>\n",
       "    <tr>\n",
       "      <th>engine_cylinders</th>\n",
       "      <td>0.774851</td>\n",
       "      <td>-0.040708</td>\n",
       "      <td>1.000000</td>\n",
       "      <td>-0.614541</td>\n",
       "      <td>-0.587306</td>\n",
       "    </tr>\n",
       "    <tr>\n",
       "      <th>highway_mpg</th>\n",
       "      <td>-0.415707</td>\n",
       "      <td>0.258240</td>\n",
       "      <td>-0.614541</td>\n",
       "      <td>1.000000</td>\n",
       "      <td>0.886829</td>\n",
       "    </tr>\n",
       "    <tr>\n",
       "      <th>city_mpg</th>\n",
       "      <td>-0.424918</td>\n",
       "      <td>0.198171</td>\n",
       "      <td>-0.587306</td>\n",
       "      <td>0.886829</td>\n",
       "      <td>1.000000</td>\n",
       "    </tr>\n",
       "  </tbody>\n",
       "</table>\n",
       "</div>"
      ],
      "text/plain": [
       "                  engine_hp      year  engine_cylinders  highway_mpg  city_mpg\n",
       "engine_hp          1.000000  0.338714          0.774851    -0.415707 -0.424918\n",
       "year               0.338714  1.000000         -0.040708     0.258240  0.198171\n",
       "engine_cylinders   0.774851 -0.040708          1.000000    -0.614541 -0.587306\n",
       "highway_mpg       -0.415707  0.258240         -0.614541     1.000000  0.886829\n",
       "city_mpg          -0.424918  0.198171         -0.587306     0.886829  1.000000"
      ]
     },
     "execution_count": 6,
     "metadata": {},
     "output_type": "execute_result"
    }
   ],
   "source": [
    "numerical = ['engine_hp', 'year', 'engine_cylinders', 'highway_mpg', 'city_mpg']\n",
    "\n",
    "df[numerical].corr()"
   ]
  },
  {
   "cell_type": "code",
   "execution_count": null,
   "id": "b981257e-d7a5-45f4-835c-693e432af92d",
   "metadata": {},
   "outputs": [],
   "source": []
  },
  {
   "cell_type": "code",
   "execution_count": null,
   "id": "d08054dc-24f6-4fb4-aec5-be4021cd9237",
   "metadata": {},
   "outputs": [],
   "source": []
  },
  {
   "cell_type": "markdown",
   "id": "d941d088-b41d-41ad-aff2-013f5775bdd4",
   "metadata": {},
   "source": [
    "# Make price binary\n",
    "\n",
    "Now we need to turn the price variable from numeric into a binary format.\n",
    "Let's create a variable above_average which is 1 if the price is above its mean value and 0 otherwise."
   ]
  },
  {
   "cell_type": "markdown",
   "id": "98b657da-e428-4fd1-90e7-56216ca989ad",
   "metadata": {},
   "source": [
    "* Now we need to turn the price variable from numeric into a binary format.\n",
    "* Let's create a variable above_average which is 1 if the price is above its mean value and 0 otherwise."
   ]
  },
  {
   "cell_type": "code",
   "execution_count": 7,
   "id": "9d435017-7231-47db-a264-6a074ad9ac7a",
   "metadata": {},
   "outputs": [],
   "source": [
    "price_mean = np.mean(df['price'].tolist())\n",
    "df['above_average'] = [1 if x >= price_mean else 0 for x in df['price'].tolist()]"
   ]
  },
  {
   "cell_type": "code",
   "execution_count": 8,
   "id": "3844343d-9ac7-4d35-aba0-4310a2834a93",
   "metadata": {},
   "outputs": [
    {
     "data": {
      "text/plain": [
       "0    8645\n",
       "1    3269\n",
       "Name: above_average, dtype: int64"
      ]
     },
     "execution_count": 8,
     "metadata": {},
     "output_type": "execute_result"
    }
   ],
   "source": [
    "df['above_average'].value_counts()"
   ]
  },
  {
   "cell_type": "code",
   "execution_count": null,
   "id": "54f65451-9563-414b-90b9-27650173e9b8",
   "metadata": {},
   "outputs": [],
   "source": []
  },
  {
   "cell_type": "markdown",
   "id": "a374068a-6511-4bf7-817f-f6ad0f301b17",
   "metadata": {},
   "source": [
    "# Split the data\n",
    "\n",
    "* Split your data in train/val/test sets with 60%/20%/20% distribution.\n",
    "* Use Scikit-Learn for that (the train_test_split function) and set the seed to 42.\n",
    "* Make sure that the target value (price) is not in your dataframe."
   ]
  },
  {
   "cell_type": "code",
   "execution_count": 9,
   "id": "63eebbda-b43f-4569-b9e0-d3e9c341211e",
   "metadata": {},
   "outputs": [],
   "source": [
    "# test is 20%\n",
    "df_full_train, df_test = train_test_split(df, test_size=0.2, random_state=42)\n",
    "\n",
    "# full train = 80%, final train is 60% and validation is 20%\n",
    "df_train, df_val = train_test_split(df_full_train, test_size=0.25, random_state=42)"
   ]
  },
  {
   "cell_type": "code",
   "execution_count": 10,
   "id": "3950463d-1ad3-40a3-93e0-5a20f2142d0c",
   "metadata": {},
   "outputs": [],
   "source": [
    "df_train = df_train.reset_index(drop=True)\n",
    "df_val = df_val.reset_index(drop=True)\n",
    "df_test = df_test.reset_index(drop=True)"
   ]
  },
  {
   "cell_type": "code",
   "execution_count": 11,
   "id": "6f37345f-9e1f-42ac-af98-8a61b9919c6a",
   "metadata": {},
   "outputs": [],
   "source": [
    "y_train = df_train.above_average.values\n",
    "y_val = df_val.above_average.values\n",
    "y_test = df_test.above_average.values\n",
    "\n",
    "del df_train['above_average']\n",
    "del df_val['above_average']\n",
    "del df_test['above_average']\n",
    "\n",
    "del df_train['price']\n",
    "del df_val['price']\n",
    "del df_test['price']"
   ]
  },
  {
   "cell_type": "code",
   "execution_count": null,
   "id": "54ce8cf7-b1fe-4ef2-bf15-d3748abfbd36",
   "metadata": {},
   "outputs": [],
   "source": []
  },
  {
   "cell_type": "code",
   "execution_count": null,
   "id": "2a992db3-91ad-429a-88be-b3840fc8a6a0",
   "metadata": {},
   "outputs": [],
   "source": []
  },
  {
   "cell_type": "markdown",
   "id": "60c04db6-95b4-4700-88ed-2f59cf25af11",
   "metadata": {},
   "source": [
    "# Question 3, transmission_type\n",
    "\n",
    "* Calculate the mutual information score between above_average and other categorical variables in our dataset. \n",
    "* Use the training set only.\n",
    "* Round the scores to 2 decimals using round(score, 2).\n",
    "\n",
    "Which of these variables has the lowest mutual information score?\n",
    "\n",
    "* make\n",
    "* model\n",
    "* transmission_type\n",
    "* vehicle_style"
   ]
  },
  {
   "cell_type": "code",
   "execution_count": 12,
   "id": "60015e9c-339e-4bf1-9a1d-fdb43d2802de",
   "metadata": {},
   "outputs": [],
   "source": [
    "categorical = ['make', 'model', 'transmission_type', 'vehicle_style']"
   ]
  },
  {
   "cell_type": "code",
   "execution_count": 13,
   "id": "82f96e23-0b63-4e1c-b257-a2fe1bd11ce5",
   "metadata": {},
   "outputs": [],
   "source": [
    "def mutual_info_price_score(series):\n",
    "    return mutual_info_score(series, df_full_train.above_average)"
   ]
  },
  {
   "cell_type": "code",
   "execution_count": 14,
   "id": "464030d6-932f-402c-8f3e-fbc14a554c26",
   "metadata": {},
   "outputs": [
    {
     "data": {
      "text/plain": [
       "model                0.460994\n",
       "make                 0.238724\n",
       "vehicle_style        0.083390\n",
       "transmission_type    0.020884\n",
       "dtype: float64"
      ]
     },
     "execution_count": 14,
     "metadata": {},
     "output_type": "execute_result"
    }
   ],
   "source": [
    "mi = df_full_train[categorical].apply(mutual_info_price_score)\n",
    "mi.sort_values(ascending=False)"
   ]
  },
  {
   "cell_type": "code",
   "execution_count": null,
   "id": "ad75ab14-cb3b-415c-9abd-ed747f21a8be",
   "metadata": {},
   "outputs": [],
   "source": []
  },
  {
   "cell_type": "code",
   "execution_count": null,
   "id": "801f1b26-bc48-4ec7-aa7a-cfdd0c4e97ef",
   "metadata": {},
   "outputs": [],
   "source": []
  },
  {
   "cell_type": "markdown",
   "id": "195d4dfd-a8da-4f0a-bf9d-a5726a23df66",
   "metadata": {},
   "source": [
    "# Question 4, 0.95 (or 0.93)\n",
    "\n",
    "Now let's train a logistic regression.\n",
    "\n",
    "* Remember that we have several categorical variables in the dataset. Include them using one-hot encoding.\n",
    "* Fit the model on the training dataset.\n",
    "* To make sure the results are reproducible across different versions of Scikit-Learn, fit the model with these parameters:\n",
    "* model = LogisticRegression(solver='liblinear', C=10, max_iter=1000, random_state=42)\n",
    "* Calculate the accuracy on the validation dataset and round it to 2 decimal digits.\n",
    "\n",
    "    \n",
    "What accuracy did you get?\n",
    "\n",
    "* 0.60\n",
    "* 0.72\n",
    "* 0.84\n",
    "* 0.95"
   ]
  },
  {
   "cell_type": "code",
   "execution_count": 15,
   "id": "e9fe1ad9-7b80-43e6-9552-75f423bceead",
   "metadata": {},
   "outputs": [],
   "source": [
    "# one-hot encoding for categorical \n",
    "dv = DictVectorizer(sparse=False)\n",
    "\n",
    "train_dict = df_train[categorical + numerical].to_dict(orient='records')\n",
    "\n",
    "X_train = dv.fit_transform(train_dict)\n",
    "\n",
    "val_dict = df_val[categorical + numerical].to_dict(orient='records')\n",
    "\n",
    "X_val = dv.transform(val_dict)"
   ]
  },
  {
   "cell_type": "code",
   "execution_count": 16,
   "id": "4d325bb7-9720-4b6f-8ab3-fb5765b71f8a",
   "metadata": {},
   "outputs": [
    {
     "data": {
      "text/html": [
       "<style>#sk-container-id-1 {color: black;}#sk-container-id-1 pre{padding: 0;}#sk-container-id-1 div.sk-toggleable {background-color: white;}#sk-container-id-1 label.sk-toggleable__label {cursor: pointer;display: block;width: 100%;margin-bottom: 0;padding: 0.3em;box-sizing: border-box;text-align: center;}#sk-container-id-1 label.sk-toggleable__label-arrow:before {content: \"▸\";float: left;margin-right: 0.25em;color: #696969;}#sk-container-id-1 label.sk-toggleable__label-arrow:hover:before {color: black;}#sk-container-id-1 div.sk-estimator:hover label.sk-toggleable__label-arrow:before {color: black;}#sk-container-id-1 div.sk-toggleable__content {max-height: 0;max-width: 0;overflow: hidden;text-align: left;background-color: #f0f8ff;}#sk-container-id-1 div.sk-toggleable__content pre {margin: 0.2em;color: black;border-radius: 0.25em;background-color: #f0f8ff;}#sk-container-id-1 input.sk-toggleable__control:checked~div.sk-toggleable__content {max-height: 200px;max-width: 100%;overflow: auto;}#sk-container-id-1 input.sk-toggleable__control:checked~label.sk-toggleable__label-arrow:before {content: \"▾\";}#sk-container-id-1 div.sk-estimator input.sk-toggleable__control:checked~label.sk-toggleable__label {background-color: #d4ebff;}#sk-container-id-1 div.sk-label input.sk-toggleable__control:checked~label.sk-toggleable__label {background-color: #d4ebff;}#sk-container-id-1 input.sk-hidden--visually {border: 0;clip: rect(1px 1px 1px 1px);clip: rect(1px, 1px, 1px, 1px);height: 1px;margin: -1px;overflow: hidden;padding: 0;position: absolute;width: 1px;}#sk-container-id-1 div.sk-estimator {font-family: monospace;background-color: #f0f8ff;border: 1px dotted black;border-radius: 0.25em;box-sizing: border-box;margin-bottom: 0.5em;}#sk-container-id-1 div.sk-estimator:hover {background-color: #d4ebff;}#sk-container-id-1 div.sk-parallel-item::after {content: \"\";width: 100%;border-bottom: 1px solid gray;flex-grow: 1;}#sk-container-id-1 div.sk-label:hover label.sk-toggleable__label {background-color: #d4ebff;}#sk-container-id-1 div.sk-serial::before {content: \"\";position: absolute;border-left: 1px solid gray;box-sizing: border-box;top: 0;bottom: 0;left: 50%;z-index: 0;}#sk-container-id-1 div.sk-serial {display: flex;flex-direction: column;align-items: center;background-color: white;padding-right: 0.2em;padding-left: 0.2em;position: relative;}#sk-container-id-1 div.sk-item {position: relative;z-index: 1;}#sk-container-id-1 div.sk-parallel {display: flex;align-items: stretch;justify-content: center;background-color: white;position: relative;}#sk-container-id-1 div.sk-item::before, #sk-container-id-1 div.sk-parallel-item::before {content: \"\";position: absolute;border-left: 1px solid gray;box-sizing: border-box;top: 0;bottom: 0;left: 50%;z-index: -1;}#sk-container-id-1 div.sk-parallel-item {display: flex;flex-direction: column;z-index: 1;position: relative;background-color: white;}#sk-container-id-1 div.sk-parallel-item:first-child::after {align-self: flex-end;width: 50%;}#sk-container-id-1 div.sk-parallel-item:last-child::after {align-self: flex-start;width: 50%;}#sk-container-id-1 div.sk-parallel-item:only-child::after {width: 0;}#sk-container-id-1 div.sk-dashed-wrapped {border: 1px dashed gray;margin: 0 0.4em 0.5em 0.4em;box-sizing: border-box;padding-bottom: 0.4em;background-color: white;}#sk-container-id-1 div.sk-label label {font-family: monospace;font-weight: bold;display: inline-block;line-height: 1.2em;}#sk-container-id-1 div.sk-label-container {text-align: center;}#sk-container-id-1 div.sk-container {/* jupyter's `normalize.less` sets `[hidden] { display: none; }` but bootstrap.min.css set `[hidden] { display: none !important; }` so we also need the `!important` here to be able to override the default hidden behavior on the sphinx rendered scikit-learn.org. See: https://github.com/scikit-learn/scikit-learn/issues/21755 */display: inline-block !important;position: relative;}#sk-container-id-1 div.sk-text-repr-fallback {display: none;}</style><div id=\"sk-container-id-1\" class=\"sk-top-container\"><div class=\"sk-text-repr-fallback\"><pre>LogisticRegression(C=10, max_iter=1000, random_state=42, solver=&#x27;liblinear&#x27;)</pre><b>In a Jupyter environment, please rerun this cell to show the HTML representation or trust the notebook. <br />On GitHub, the HTML representation is unable to render, please try loading this page with nbviewer.org.</b></div><div class=\"sk-container\" hidden><div class=\"sk-item\"><div class=\"sk-estimator sk-toggleable\"><input class=\"sk-toggleable__control sk-hidden--visually\" id=\"sk-estimator-id-1\" type=\"checkbox\" checked><label for=\"sk-estimator-id-1\" class=\"sk-toggleable__label sk-toggleable__label-arrow\">LogisticRegression</label><div class=\"sk-toggleable__content\"><pre>LogisticRegression(C=10, max_iter=1000, random_state=42, solver=&#x27;liblinear&#x27;)</pre></div></div></div></div></div>"
      ],
      "text/plain": [
       "LogisticRegression(C=10, max_iter=1000, random_state=42, solver='liblinear')"
      ]
     },
     "execution_count": 16,
     "metadata": {},
     "output_type": "execute_result"
    }
   ],
   "source": [
    "model = LogisticRegression(solver='liblinear', C=10, max_iter=1000, random_state=42)\n",
    "model.fit(X_train, y_train)"
   ]
  },
  {
   "cell_type": "code",
   "execution_count": 17,
   "id": "d8654708-fc90-4136-b5ef-761c68693034",
   "metadata": {},
   "outputs": [
    {
     "data": {
      "text/plain": [
       "0.93"
      ]
     },
     "execution_count": 17,
     "metadata": {},
     "output_type": "execute_result"
    }
   ],
   "source": [
    "# accuracy, round to 2 numbers\n",
    "y_pred = model.predict_proba(X_val)[:, 1] #prob of churn, soft predictions \n",
    "price_decision = (y_pred >= 0.5) # make a hard decision on val dataset\n",
    "np.round((y_val == price_decision).mean(),2)"
   ]
  },
  {
   "cell_type": "code",
   "execution_count": 18,
   "id": "56e0ed73-4427-4473-b7d2-4246efe20a32",
   "metadata": {},
   "outputs": [
    {
     "data": {
      "text/plain": [
       "['make', 'model', 'transmission_type', 'vehicle_style']"
      ]
     },
     "execution_count": 18,
     "metadata": {},
     "output_type": "execute_result"
    }
   ],
   "source": [
    "categorical "
   ]
  },
  {
   "cell_type": "code",
   "execution_count": 19,
   "id": "936fc0c3-a95e-4dd0-9109-a9f389778312",
   "metadata": {},
   "outputs": [
    {
     "data": {
      "text/plain": [
       "['engine_hp', 'year', 'engine_cylinders', 'highway_mpg', 'city_mpg']"
      ]
     },
     "execution_count": 19,
     "metadata": {},
     "output_type": "execute_result"
    }
   ],
   "source": [
    "numerical"
   ]
  },
  {
   "cell_type": "code",
   "execution_count": 20,
   "id": "868c0e5e-0f65-4c53-b87f-b85c0c242b6b",
   "metadata": {},
   "outputs": [
    {
     "data": {
      "text/plain": [
       "array([[1.500e+01, 6.000e+00, 2.250e+02, ..., 0.000e+00, 0.000e+00,\n",
       "        2.011e+03],\n",
       "       [1.700e+01, 6.000e+00, 2.760e+02, ..., 0.000e+00, 0.000e+00,\n",
       "        2.009e+03],\n",
       "       [1.200e+01, 1.000e+01, 5.700e+02, ..., 0.000e+00, 0.000e+00,\n",
       "        2.012e+03],\n",
       "       ...,\n",
       "       [1.700e+01, 6.000e+00, 2.600e+02, ..., 0.000e+00, 0.000e+00,\n",
       "        2.012e+03],\n",
       "       [1.900e+01, 4.000e+00, 1.360e+02, ..., 0.000e+00, 0.000e+00,\n",
       "        1.993e+03],\n",
       "       [1.700e+01, 6.000e+00, 3.650e+02, ..., 1.000e+00, 0.000e+00,\n",
       "        2.015e+03]])"
      ]
     },
     "execution_count": 20,
     "metadata": {},
     "output_type": "execute_result"
    }
   ],
   "source": [
    "X_train"
   ]
  },
  {
   "cell_type": "markdown",
   "id": "7985246b-5ee6-41b6-951e-70c2264cbb84",
   "metadata": {},
   "source": [
    "# Question 5: engine_hp\n",
    "\n",
    "Let's find the least useful feature using the feature elimination technique.\n",
    "* Train a model with all these features (using the same parameters as in Q4).\n",
    "* Now exclude each feature from this set and train a model without it. Record the accuracy for each model.\n",
    "* For each feature, calculate the difference between the original accuracy and the accuracy without the feature.\n",
    "* Which of following feature has the smallest difference?\n",
    "\n",
    "Options: \n",
    "* year\n",
    "* engine_hp\n",
    "* transmission_type\n",
    "* city_mpg\n",
    "\n",
    "Note: the difference doesn't have to be positive"
   ]
  },
  {
   "cell_type": "code",
   "execution_count": 28,
   "id": "d52616e9-b43e-42e6-a371-9e95baf1dc09",
   "metadata": {},
   "outputs": [
    {
     "data": {
      "text/plain": [
       "0.2767810303221068"
      ]
     },
     "execution_count": 28,
     "metadata": {},
     "output_type": "execute_result"
    }
   ],
   "source": [
    "global_above_average = df_full_train.above_average.mean()\n",
    "global_above_average"
   ]
  },
  {
   "cell_type": "code",
   "execution_count": 27,
   "id": "e69fb3fd-d97b-4fc0-9c52-163b28a0a095",
   "metadata": {},
   "outputs": [
    {
     "name": "stdout",
     "output_type": "stream",
     "text": [
      "make\n"
     ]
    },
    {
     "data": {
      "text/html": [
       "<div>\n",
       "<style scoped>\n",
       "    .dataframe tbody tr th:only-of-type {\n",
       "        vertical-align: middle;\n",
       "    }\n",
       "\n",
       "    .dataframe tbody tr th {\n",
       "        vertical-align: top;\n",
       "    }\n",
       "\n",
       "    .dataframe thead th {\n",
       "        text-align: right;\n",
       "    }\n",
       "</style>\n",
       "<table border=\"1\" class=\"dataframe\">\n",
       "  <thead>\n",
       "    <tr style=\"text-align: right;\">\n",
       "      <th></th>\n",
       "      <th>mean</th>\n",
       "      <th>count</th>\n",
       "      <th>diff</th>\n",
       "      <th>risk</th>\n",
       "    </tr>\n",
       "    <tr>\n",
       "      <th>make</th>\n",
       "      <th></th>\n",
       "      <th></th>\n",
       "      <th></th>\n",
       "      <th></th>\n",
       "    </tr>\n",
       "  </thead>\n",
       "  <tbody>\n",
       "    <tr>\n",
       "      <th>Acura</th>\n",
       "      <td>0.391089</td>\n",
       "      <td>202</td>\n",
       "      <td>0.114308</td>\n",
       "      <td>1.412991</td>\n",
       "    </tr>\n",
       "    <tr>\n",
       "      <th>Alfa Romeo</th>\n",
       "      <td>1.000000</td>\n",
       "      <td>5</td>\n",
       "      <td>0.723219</td>\n",
       "      <td>3.612964</td>\n",
       "    </tr>\n",
       "    <tr>\n",
       "      <th>Aston Martin</th>\n",
       "      <td>1.000000</td>\n",
       "      <td>74</td>\n",
       "      <td>0.723219</td>\n",
       "      <td>3.612964</td>\n",
       "    </tr>\n",
       "    <tr>\n",
       "      <th>Audi</th>\n",
       "      <td>0.654412</td>\n",
       "      <td>272</td>\n",
       "      <td>0.377631</td>\n",
       "      <td>2.364366</td>\n",
       "    </tr>\n",
       "    <tr>\n",
       "      <th>BMW</th>\n",
       "      <td>0.822064</td>\n",
       "      <td>281</td>\n",
       "      <td>0.545283</td>\n",
       "      <td>2.970088</td>\n",
       "    </tr>\n",
       "    <tr>\n",
       "      <th>Bentley</th>\n",
       "      <td>1.000000</td>\n",
       "      <td>55</td>\n",
       "      <td>0.723219</td>\n",
       "      <td>3.612964</td>\n",
       "    </tr>\n",
       "    <tr>\n",
       "      <th>Bugatti</th>\n",
       "      <td>1.000000</td>\n",
       "      <td>3</td>\n",
       "      <td>0.723219</td>\n",
       "      <td>3.612964</td>\n",
       "    </tr>\n",
       "    <tr>\n",
       "      <th>Buick</th>\n",
       "      <td>0.123377</td>\n",
       "      <td>154</td>\n",
       "      <td>-0.153404</td>\n",
       "      <td>0.445755</td>\n",
       "    </tr>\n",
       "    <tr>\n",
       "      <th>Cadillac</th>\n",
       "      <td>0.881988</td>\n",
       "      <td>322</td>\n",
       "      <td>0.605207</td>\n",
       "      <td>3.186590</td>\n",
       "    </tr>\n",
       "    <tr>\n",
       "      <th>Chevrolet</th>\n",
       "      <td>0.181313</td>\n",
       "      <td>899</td>\n",
       "      <td>-0.095468</td>\n",
       "      <td>0.655076</td>\n",
       "    </tr>\n",
       "    <tr>\n",
       "      <th>Chrysler</th>\n",
       "      <td>0.084967</td>\n",
       "      <td>153</td>\n",
       "      <td>-0.191814</td>\n",
       "      <td>0.306984</td>\n",
       "    </tr>\n",
       "    <tr>\n",
       "      <th>Dodge</th>\n",
       "      <td>0.086957</td>\n",
       "      <td>506</td>\n",
       "      <td>-0.189825</td>\n",
       "      <td>0.314171</td>\n",
       "    </tr>\n",
       "    <tr>\n",
       "      <th>FIAT</th>\n",
       "      <td>0.000000</td>\n",
       "      <td>45</td>\n",
       "      <td>-0.276781</td>\n",
       "      <td>0.000000</td>\n",
       "    </tr>\n",
       "    <tr>\n",
       "      <th>Ferrari</th>\n",
       "      <td>1.000000</td>\n",
       "      <td>50</td>\n",
       "      <td>0.723219</td>\n",
       "      <td>3.612964</td>\n",
       "    </tr>\n",
       "    <tr>\n",
       "      <th>Ford</th>\n",
       "      <td>0.150355</td>\n",
       "      <td>705</td>\n",
       "      <td>-0.126426</td>\n",
       "      <td>0.543226</td>\n",
       "    </tr>\n",
       "    <tr>\n",
       "      <th>GMC</th>\n",
       "      <td>0.228426</td>\n",
       "      <td>394</td>\n",
       "      <td>-0.048355</td>\n",
       "      <td>0.825296</td>\n",
       "    </tr>\n",
       "    <tr>\n",
       "      <th>Genesis</th>\n",
       "      <td>1.000000</td>\n",
       "      <td>3</td>\n",
       "      <td>0.723219</td>\n",
       "      <td>3.612964</td>\n",
       "    </tr>\n",
       "    <tr>\n",
       "      <th>HUMMER</th>\n",
       "      <td>0.250000</td>\n",
       "      <td>12</td>\n",
       "      <td>-0.026781</td>\n",
       "      <td>0.903241</td>\n",
       "    </tr>\n",
       "    <tr>\n",
       "      <th>Honda</th>\n",
       "      <td>0.031161</td>\n",
       "      <td>353</td>\n",
       "      <td>-0.245620</td>\n",
       "      <td>0.112585</td>\n",
       "    </tr>\n",
       "    <tr>\n",
       "      <th>Hyundai</th>\n",
       "      <td>0.033058</td>\n",
       "      <td>242</td>\n",
       "      <td>-0.243723</td>\n",
       "      <td>0.119437</td>\n",
       "    </tr>\n",
       "    <tr>\n",
       "      <th>Infiniti</th>\n",
       "      <td>0.593407</td>\n",
       "      <td>273</td>\n",
       "      <td>0.316626</td>\n",
       "      <td>2.143957</td>\n",
       "    </tr>\n",
       "    <tr>\n",
       "      <th>Kia</th>\n",
       "      <td>0.065217</td>\n",
       "      <td>184</td>\n",
       "      <td>-0.211564</td>\n",
       "      <td>0.235628</td>\n",
       "    </tr>\n",
       "    <tr>\n",
       "      <th>Lamborghini</th>\n",
       "      <td>1.000000</td>\n",
       "      <td>42</td>\n",
       "      <td>0.723219</td>\n",
       "      <td>3.612964</td>\n",
       "    </tr>\n",
       "    <tr>\n",
       "      <th>Land Rover</th>\n",
       "      <td>0.750000</td>\n",
       "      <td>104</td>\n",
       "      <td>0.473219</td>\n",
       "      <td>2.709723</td>\n",
       "    </tr>\n",
       "    <tr>\n",
       "      <th>Lexus</th>\n",
       "      <td>0.590909</td>\n",
       "      <td>154</td>\n",
       "      <td>0.314128</td>\n",
       "      <td>2.134933</td>\n",
       "    </tr>\n",
       "    <tr>\n",
       "      <th>Lincoln</th>\n",
       "      <td>0.598485</td>\n",
       "      <td>132</td>\n",
       "      <td>0.321704</td>\n",
       "      <td>2.162304</td>\n",
       "    </tr>\n",
       "    <tr>\n",
       "      <th>Lotus</th>\n",
       "      <td>1.000000</td>\n",
       "      <td>28</td>\n",
       "      <td>0.723219</td>\n",
       "      <td>3.612964</td>\n",
       "    </tr>\n",
       "    <tr>\n",
       "      <th>Maserati</th>\n",
       "      <td>1.000000</td>\n",
       "      <td>45</td>\n",
       "      <td>0.723219</td>\n",
       "      <td>3.612964</td>\n",
       "    </tr>\n",
       "    <tr>\n",
       "      <th>Maybach</th>\n",
       "      <td>1.000000</td>\n",
       "      <td>14</td>\n",
       "      <td>0.723219</td>\n",
       "      <td>3.612964</td>\n",
       "    </tr>\n",
       "    <tr>\n",
       "      <th>Mazda</th>\n",
       "      <td>0.005935</td>\n",
       "      <td>337</td>\n",
       "      <td>-0.270846</td>\n",
       "      <td>0.021442</td>\n",
       "    </tr>\n",
       "    <tr>\n",
       "      <th>McLaren</th>\n",
       "      <td>1.000000</td>\n",
       "      <td>4</td>\n",
       "      <td>0.723219</td>\n",
       "      <td>3.612964</td>\n",
       "    </tr>\n",
       "    <tr>\n",
       "      <th>Mercedes-Benz</th>\n",
       "      <td>0.698925</td>\n",
       "      <td>279</td>\n",
       "      <td>0.422144</td>\n",
       "      <td>2.525190</td>\n",
       "    </tr>\n",
       "    <tr>\n",
       "      <th>Mitsubishi</th>\n",
       "      <td>0.000000</td>\n",
       "      <td>178</td>\n",
       "      <td>-0.276781</td>\n",
       "      <td>0.000000</td>\n",
       "    </tr>\n",
       "    <tr>\n",
       "      <th>Nissan</th>\n",
       "      <td>0.164352</td>\n",
       "      <td>432</td>\n",
       "      <td>-0.112429</td>\n",
       "      <td>0.593797</td>\n",
       "    </tr>\n",
       "    <tr>\n",
       "      <th>Oldsmobile</th>\n",
       "      <td>0.000000</td>\n",
       "      <td>117</td>\n",
       "      <td>-0.276781</td>\n",
       "      <td>0.000000</td>\n",
       "    </tr>\n",
       "    <tr>\n",
       "      <th>Plymouth</th>\n",
       "      <td>0.014925</td>\n",
       "      <td>67</td>\n",
       "      <td>-0.261856</td>\n",
       "      <td>0.053925</td>\n",
       "    </tr>\n",
       "    <tr>\n",
       "      <th>Pontiac</th>\n",
       "      <td>0.000000</td>\n",
       "      <td>146</td>\n",
       "      <td>-0.276781</td>\n",
       "      <td>0.000000</td>\n",
       "    </tr>\n",
       "    <tr>\n",
       "      <th>Porsche</th>\n",
       "      <td>0.906542</td>\n",
       "      <td>107</td>\n",
       "      <td>0.629761</td>\n",
       "      <td>3.275304</td>\n",
       "    </tr>\n",
       "    <tr>\n",
       "      <th>Rolls-Royce</th>\n",
       "      <td>1.000000</td>\n",
       "      <td>27</td>\n",
       "      <td>0.723219</td>\n",
       "      <td>3.612964</td>\n",
       "    </tr>\n",
       "    <tr>\n",
       "      <th>Saab</th>\n",
       "      <td>0.268817</td>\n",
       "      <td>93</td>\n",
       "      <td>-0.007964</td>\n",
       "      <td>0.971227</td>\n",
       "    </tr>\n",
       "    <tr>\n",
       "      <th>Scion</th>\n",
       "      <td>0.000000</td>\n",
       "      <td>48</td>\n",
       "      <td>-0.276781</td>\n",
       "      <td>0.000000</td>\n",
       "    </tr>\n",
       "    <tr>\n",
       "      <th>Spyker</th>\n",
       "      <td>1.000000</td>\n",
       "      <td>3</td>\n",
       "      <td>0.723219</td>\n",
       "      <td>3.612964</td>\n",
       "    </tr>\n",
       "    <tr>\n",
       "      <th>Subaru</th>\n",
       "      <td>0.000000</td>\n",
       "      <td>194</td>\n",
       "      <td>-0.276781</td>\n",
       "      <td>0.000000</td>\n",
       "    </tr>\n",
       "    <tr>\n",
       "      <th>Suzuki</th>\n",
       "      <td>0.000000</td>\n",
       "      <td>293</td>\n",
       "      <td>-0.276781</td>\n",
       "      <td>0.000000</td>\n",
       "    </tr>\n",
       "    <tr>\n",
       "      <th>Tesla</th>\n",
       "      <td>1.000000</td>\n",
       "      <td>15</td>\n",
       "      <td>0.723219</td>\n",
       "      <td>3.612964</td>\n",
       "    </tr>\n",
       "    <tr>\n",
       "      <th>Toyota</th>\n",
       "      <td>0.174873</td>\n",
       "      <td>589</td>\n",
       "      <td>-0.101908</td>\n",
       "      <td>0.631809</td>\n",
       "    </tr>\n",
       "    <tr>\n",
       "      <th>Volkswagen</th>\n",
       "      <td>0.049849</td>\n",
       "      <td>662</td>\n",
       "      <td>-0.226932</td>\n",
       "      <td>0.180102</td>\n",
       "    </tr>\n",
       "    <tr>\n",
       "      <th>Volvo</th>\n",
       "      <td>0.393162</td>\n",
       "      <td>234</td>\n",
       "      <td>0.116381</td>\n",
       "      <td>1.420482</td>\n",
       "    </tr>\n",
       "  </tbody>\n",
       "</table>\n",
       "</div>"
      ],
      "text/plain": [
       "                   mean  count      diff      risk\n",
       "make                                              \n",
       "Acura          0.391089    202  0.114308  1.412991\n",
       "Alfa Romeo     1.000000      5  0.723219  3.612964\n",
       "Aston Martin   1.000000     74  0.723219  3.612964\n",
       "Audi           0.654412    272  0.377631  2.364366\n",
       "BMW            0.822064    281  0.545283  2.970088\n",
       "Bentley        1.000000     55  0.723219  3.612964\n",
       "Bugatti        1.000000      3  0.723219  3.612964\n",
       "Buick          0.123377    154 -0.153404  0.445755\n",
       "Cadillac       0.881988    322  0.605207  3.186590\n",
       "Chevrolet      0.181313    899 -0.095468  0.655076\n",
       "Chrysler       0.084967    153 -0.191814  0.306984\n",
       "Dodge          0.086957    506 -0.189825  0.314171\n",
       "FIAT           0.000000     45 -0.276781  0.000000\n",
       "Ferrari        1.000000     50  0.723219  3.612964\n",
       "Ford           0.150355    705 -0.126426  0.543226\n",
       "GMC            0.228426    394 -0.048355  0.825296\n",
       "Genesis        1.000000      3  0.723219  3.612964\n",
       "HUMMER         0.250000     12 -0.026781  0.903241\n",
       "Honda          0.031161    353 -0.245620  0.112585\n",
       "Hyundai        0.033058    242 -0.243723  0.119437\n",
       "Infiniti       0.593407    273  0.316626  2.143957\n",
       "Kia            0.065217    184 -0.211564  0.235628\n",
       "Lamborghini    1.000000     42  0.723219  3.612964\n",
       "Land Rover     0.750000    104  0.473219  2.709723\n",
       "Lexus          0.590909    154  0.314128  2.134933\n",
       "Lincoln        0.598485    132  0.321704  2.162304\n",
       "Lotus          1.000000     28  0.723219  3.612964\n",
       "Maserati       1.000000     45  0.723219  3.612964\n",
       "Maybach        1.000000     14  0.723219  3.612964\n",
       "Mazda          0.005935    337 -0.270846  0.021442\n",
       "McLaren        1.000000      4  0.723219  3.612964\n",
       "Mercedes-Benz  0.698925    279  0.422144  2.525190\n",
       "Mitsubishi     0.000000    178 -0.276781  0.000000\n",
       "Nissan         0.164352    432 -0.112429  0.593797\n",
       "Oldsmobile     0.000000    117 -0.276781  0.000000\n",
       "Plymouth       0.014925     67 -0.261856  0.053925\n",
       "Pontiac        0.000000    146 -0.276781  0.000000\n",
       "Porsche        0.906542    107  0.629761  3.275304\n",
       "Rolls-Royce    1.000000     27  0.723219  3.612964\n",
       "Saab           0.268817     93 -0.007964  0.971227\n",
       "Scion          0.000000     48 -0.276781  0.000000\n",
       "Spyker         1.000000      3  0.723219  3.612964\n",
       "Subaru         0.000000    194 -0.276781  0.000000\n",
       "Suzuki         0.000000    293 -0.276781  0.000000\n",
       "Tesla          1.000000     15  0.723219  3.612964\n",
       "Toyota         0.174873    589 -0.101908  0.631809\n",
       "Volkswagen     0.049849    662 -0.226932  0.180102\n",
       "Volvo          0.393162    234  0.116381  1.420482"
      ]
     },
     "metadata": {},
     "output_type": "display_data"
    },
    {
     "name": "stdout",
     "output_type": "stream",
     "text": [
      "\n",
      "\n",
      "model\n"
     ]
    },
    {
     "data": {
      "text/html": [
       "<div>\n",
       "<style scoped>\n",
       "    .dataframe tbody tr th:only-of-type {\n",
       "        vertical-align: middle;\n",
       "    }\n",
       "\n",
       "    .dataframe tbody tr th {\n",
       "        vertical-align: top;\n",
       "    }\n",
       "\n",
       "    .dataframe thead th {\n",
       "        text-align: right;\n",
       "    }\n",
       "</style>\n",
       "<table border=\"1\" class=\"dataframe\">\n",
       "  <thead>\n",
       "    <tr style=\"text-align: right;\">\n",
       "      <th></th>\n",
       "      <th>mean</th>\n",
       "      <th>count</th>\n",
       "      <th>diff</th>\n",
       "      <th>risk</th>\n",
       "    </tr>\n",
       "    <tr>\n",
       "      <th>model</th>\n",
       "      <th></th>\n",
       "      <th></th>\n",
       "      <th></th>\n",
       "      <th></th>\n",
       "    </tr>\n",
       "  </thead>\n",
       "  <tbody>\n",
       "    <tr>\n",
       "      <th>1 Series</th>\n",
       "      <td>0.416667</td>\n",
       "      <td>12</td>\n",
       "      <td>0.139886</td>\n",
       "      <td>1.505402</td>\n",
       "    </tr>\n",
       "    <tr>\n",
       "      <th>100</th>\n",
       "      <td>0.000000</td>\n",
       "      <td>11</td>\n",
       "      <td>-0.276781</td>\n",
       "      <td>0.000000</td>\n",
       "    </tr>\n",
       "    <tr>\n",
       "      <th>124 Spider</th>\n",
       "      <td>0.000000</td>\n",
       "      <td>2</td>\n",
       "      <td>-0.276781</td>\n",
       "      <td>0.000000</td>\n",
       "    </tr>\n",
       "    <tr>\n",
       "      <th>190-Class</th>\n",
       "      <td>0.000000</td>\n",
       "      <td>4</td>\n",
       "      <td>-0.276781</td>\n",
       "      <td>0.000000</td>\n",
       "    </tr>\n",
       "    <tr>\n",
       "      <th>2</th>\n",
       "      <td>0.000000</td>\n",
       "      <td>10</td>\n",
       "      <td>-0.276781</td>\n",
       "      <td>0.000000</td>\n",
       "    </tr>\n",
       "    <tr>\n",
       "      <th>...</th>\n",
       "      <td>...</td>\n",
       "      <td>...</td>\n",
       "      <td>...</td>\n",
       "      <td>...</td>\n",
       "    </tr>\n",
       "    <tr>\n",
       "      <th>iQ</th>\n",
       "      <td>0.000000</td>\n",
       "      <td>3</td>\n",
       "      <td>-0.276781</td>\n",
       "      <td>0.000000</td>\n",
       "    </tr>\n",
       "    <tr>\n",
       "      <th>tC</th>\n",
       "      <td>0.000000</td>\n",
       "      <td>13</td>\n",
       "      <td>-0.276781</td>\n",
       "      <td>0.000000</td>\n",
       "    </tr>\n",
       "    <tr>\n",
       "      <th>xA</th>\n",
       "      <td>0.000000</td>\n",
       "      <td>5</td>\n",
       "      <td>-0.276781</td>\n",
       "      <td>0.000000</td>\n",
       "    </tr>\n",
       "    <tr>\n",
       "      <th>xB</th>\n",
       "      <td>0.000000</td>\n",
       "      <td>7</td>\n",
       "      <td>-0.276781</td>\n",
       "      <td>0.000000</td>\n",
       "    </tr>\n",
       "    <tr>\n",
       "      <th>xD</th>\n",
       "      <td>0.000000</td>\n",
       "      <td>8</td>\n",
       "      <td>-0.276781</td>\n",
       "      <td>0.000000</td>\n",
       "    </tr>\n",
       "  </tbody>\n",
       "</table>\n",
       "<p>902 rows × 4 columns</p>\n",
       "</div>"
      ],
      "text/plain": [
       "                mean  count      diff      risk\n",
       "model                                          \n",
       "1 Series    0.416667     12  0.139886  1.505402\n",
       "100         0.000000     11 -0.276781  0.000000\n",
       "124 Spider  0.000000      2 -0.276781  0.000000\n",
       "190-Class   0.000000      4 -0.276781  0.000000\n",
       "2           0.000000     10 -0.276781  0.000000\n",
       "...              ...    ...       ...       ...\n",
       "iQ          0.000000      3 -0.276781  0.000000\n",
       "tC          0.000000     13 -0.276781  0.000000\n",
       "xA          0.000000      5 -0.276781  0.000000\n",
       "xB          0.000000      7 -0.276781  0.000000\n",
       "xD          0.000000      8 -0.276781  0.000000\n",
       "\n",
       "[902 rows x 4 columns]"
      ]
     },
     "metadata": {},
     "output_type": "display_data"
    },
    {
     "name": "stdout",
     "output_type": "stream",
     "text": [
      "\n",
      "\n",
      "transmission_type\n"
     ]
    },
    {
     "data": {
      "text/html": [
       "<div>\n",
       "<style scoped>\n",
       "    .dataframe tbody tr th:only-of-type {\n",
       "        vertical-align: middle;\n",
       "    }\n",
       "\n",
       "    .dataframe tbody tr th {\n",
       "        vertical-align: top;\n",
       "    }\n",
       "\n",
       "    .dataframe thead th {\n",
       "        text-align: right;\n",
       "    }\n",
       "</style>\n",
       "<table border=\"1\" class=\"dataframe\">\n",
       "  <thead>\n",
       "    <tr style=\"text-align: right;\">\n",
       "      <th></th>\n",
       "      <th>mean</th>\n",
       "      <th>count</th>\n",
       "      <th>diff</th>\n",
       "      <th>risk</th>\n",
       "    </tr>\n",
       "    <tr>\n",
       "      <th>transmission_type</th>\n",
       "      <th></th>\n",
       "      <th></th>\n",
       "      <th></th>\n",
       "      <th></th>\n",
       "    </tr>\n",
       "  </thead>\n",
       "  <tbody>\n",
       "    <tr>\n",
       "      <th>AUTOMATED_MANUAL</th>\n",
       "      <td>0.474206</td>\n",
       "      <td>504</td>\n",
       "      <td>0.197425</td>\n",
       "      <td>1.713291</td>\n",
       "    </tr>\n",
       "    <tr>\n",
       "      <th>AUTOMATIC</th>\n",
       "      <td>0.310017</td>\n",
       "      <td>6619</td>\n",
       "      <td>0.033236</td>\n",
       "      <td>1.120079</td>\n",
       "    </tr>\n",
       "    <tr>\n",
       "      <th>DIRECT_DRIVE</th>\n",
       "      <td>0.458333</td>\n",
       "      <td>48</td>\n",
       "      <td>0.181552</td>\n",
       "      <td>1.655942</td>\n",
       "    </tr>\n",
       "    <tr>\n",
       "      <th>MANUAL</th>\n",
       "      <td>0.138652</td>\n",
       "      <td>2344</td>\n",
       "      <td>-0.138129</td>\n",
       "      <td>0.500944</td>\n",
       "    </tr>\n",
       "    <tr>\n",
       "      <th>UNKNOWN</th>\n",
       "      <td>0.000000</td>\n",
       "      <td>16</td>\n",
       "      <td>-0.276781</td>\n",
       "      <td>0.000000</td>\n",
       "    </tr>\n",
       "  </tbody>\n",
       "</table>\n",
       "</div>"
      ],
      "text/plain": [
       "                       mean  count      diff      risk\n",
       "transmission_type                                     \n",
       "AUTOMATED_MANUAL   0.474206    504  0.197425  1.713291\n",
       "AUTOMATIC          0.310017   6619  0.033236  1.120079\n",
       "DIRECT_DRIVE       0.458333     48  0.181552  1.655942\n",
       "MANUAL             0.138652   2344 -0.138129  0.500944\n",
       "UNKNOWN            0.000000     16 -0.276781  0.000000"
      ]
     },
     "metadata": {},
     "output_type": "display_data"
    },
    {
     "name": "stdout",
     "output_type": "stream",
     "text": [
      "\n",
      "\n",
      "vehicle_style\n"
     ]
    },
    {
     "data": {
      "text/html": [
       "<div>\n",
       "<style scoped>\n",
       "    .dataframe tbody tr th:only-of-type {\n",
       "        vertical-align: middle;\n",
       "    }\n",
       "\n",
       "    .dataframe tbody tr th {\n",
       "        vertical-align: top;\n",
       "    }\n",
       "\n",
       "    .dataframe thead th {\n",
       "        text-align: right;\n",
       "    }\n",
       "</style>\n",
       "<table border=\"1\" class=\"dataframe\">\n",
       "  <thead>\n",
       "    <tr style=\"text-align: right;\">\n",
       "      <th></th>\n",
       "      <th>mean</th>\n",
       "      <th>count</th>\n",
       "      <th>diff</th>\n",
       "      <th>risk</th>\n",
       "    </tr>\n",
       "    <tr>\n",
       "      <th>vehicle_style</th>\n",
       "      <th></th>\n",
       "      <th></th>\n",
       "      <th></th>\n",
       "      <th></th>\n",
       "    </tr>\n",
       "  </thead>\n",
       "  <tbody>\n",
       "    <tr>\n",
       "      <th>2dr Hatchback</th>\n",
       "      <td>0.000000</td>\n",
       "      <td>421</td>\n",
       "      <td>-0.276781</td>\n",
       "      <td>0.000000</td>\n",
       "    </tr>\n",
       "    <tr>\n",
       "      <th>2dr SUV</th>\n",
       "      <td>0.035398</td>\n",
       "      <td>113</td>\n",
       "      <td>-0.241383</td>\n",
       "      <td>0.127893</td>\n",
       "    </tr>\n",
       "    <tr>\n",
       "      <th>4dr Hatchback</th>\n",
       "      <td>0.046099</td>\n",
       "      <td>564</td>\n",
       "      <td>-0.230682</td>\n",
       "      <td>0.166555</td>\n",
       "    </tr>\n",
       "    <tr>\n",
       "      <th>4dr SUV</th>\n",
       "      <td>0.374619</td>\n",
       "      <td>1970</td>\n",
       "      <td>0.097838</td>\n",
       "      <td>1.353486</td>\n",
       "    </tr>\n",
       "    <tr>\n",
       "      <th>Cargo Minivan</th>\n",
       "      <td>0.000000</td>\n",
       "      <td>60</td>\n",
       "      <td>-0.276781</td>\n",
       "      <td>0.000000</td>\n",
       "    </tr>\n",
       "    <tr>\n",
       "      <th>Cargo Van</th>\n",
       "      <td>0.000000</td>\n",
       "      <td>73</td>\n",
       "      <td>-0.276781</td>\n",
       "      <td>0.000000</td>\n",
       "    </tr>\n",
       "    <tr>\n",
       "      <th>Convertible</th>\n",
       "      <td>0.555380</td>\n",
       "      <td>632</td>\n",
       "      <td>0.278599</td>\n",
       "      <td>2.006567</td>\n",
       "    </tr>\n",
       "    <tr>\n",
       "      <th>Convertible SUV</th>\n",
       "      <td>0.153846</td>\n",
       "      <td>26</td>\n",
       "      <td>-0.122935</td>\n",
       "      <td>0.555841</td>\n",
       "    </tr>\n",
       "    <tr>\n",
       "      <th>Coupe</th>\n",
       "      <td>0.496257</td>\n",
       "      <td>935</td>\n",
       "      <td>0.219476</td>\n",
       "      <td>1.792958</td>\n",
       "    </tr>\n",
       "    <tr>\n",
       "      <th>Crew Cab Pickup</th>\n",
       "      <td>0.337017</td>\n",
       "      <td>543</td>\n",
       "      <td>0.060236</td>\n",
       "      <td>1.217629</td>\n",
       "    </tr>\n",
       "    <tr>\n",
       "      <th>Extended Cab Pickup</th>\n",
       "      <td>0.064646</td>\n",
       "      <td>495</td>\n",
       "      <td>-0.212135</td>\n",
       "      <td>0.233565</td>\n",
       "    </tr>\n",
       "    <tr>\n",
       "      <th>Passenger Minivan</th>\n",
       "      <td>0.079646</td>\n",
       "      <td>339</td>\n",
       "      <td>-0.197135</td>\n",
       "      <td>0.287758</td>\n",
       "    </tr>\n",
       "    <tr>\n",
       "      <th>Passenger Van</th>\n",
       "      <td>0.083333</td>\n",
       "      <td>96</td>\n",
       "      <td>-0.193448</td>\n",
       "      <td>0.301080</td>\n",
       "    </tr>\n",
       "    <tr>\n",
       "      <th>Regular Cab Pickup</th>\n",
       "      <td>0.006711</td>\n",
       "      <td>298</td>\n",
       "      <td>-0.270070</td>\n",
       "      <td>0.024248</td>\n",
       "    </tr>\n",
       "    <tr>\n",
       "      <th>Sedan</th>\n",
       "      <td>0.290543</td>\n",
       "      <td>2485</td>\n",
       "      <td>0.013762</td>\n",
       "      <td>1.049722</td>\n",
       "    </tr>\n",
       "    <tr>\n",
       "      <th>Wagon</th>\n",
       "      <td>0.160083</td>\n",
       "      <td>481</td>\n",
       "      <td>-0.116698</td>\n",
       "      <td>0.578375</td>\n",
       "    </tr>\n",
       "  </tbody>\n",
       "</table>\n",
       "</div>"
      ],
      "text/plain": [
       "                         mean  count      diff      risk\n",
       "vehicle_style                                           \n",
       "2dr Hatchback        0.000000    421 -0.276781  0.000000\n",
       "2dr SUV              0.035398    113 -0.241383  0.127893\n",
       "4dr Hatchback        0.046099    564 -0.230682  0.166555\n",
       "4dr SUV              0.374619   1970  0.097838  1.353486\n",
       "Cargo Minivan        0.000000     60 -0.276781  0.000000\n",
       "Cargo Van            0.000000     73 -0.276781  0.000000\n",
       "Convertible          0.555380    632  0.278599  2.006567\n",
       "Convertible SUV      0.153846     26 -0.122935  0.555841\n",
       "Coupe                0.496257    935  0.219476  1.792958\n",
       "Crew Cab Pickup      0.337017    543  0.060236  1.217629\n",
       "Extended Cab Pickup  0.064646    495 -0.212135  0.233565\n",
       "Passenger Minivan    0.079646    339 -0.197135  0.287758\n",
       "Passenger Van        0.083333     96 -0.193448  0.301080\n",
       "Regular Cab Pickup   0.006711    298 -0.270070  0.024248\n",
       "Sedan                0.290543   2485  0.013762  1.049722\n",
       "Wagon                0.160083    481 -0.116698  0.578375"
      ]
     },
     "metadata": {},
     "output_type": "display_data"
    },
    {
     "name": "stdout",
     "output_type": "stream",
     "text": [
      "\n",
      "\n"
     ]
    }
   ],
   "source": [
    "for c in categorical:\n",
    "    print(c)\n",
    "    df_group = df_full_train.groupby(c).above_average.agg(['mean', 'count'])\n",
    "    df_group['diff'] = df_group['mean'] - global_above_average\n",
    "    df_group['risk'] = df_group['mean'] / global_above_average\n",
    "    display(df_group)\n",
    "    print()\n",
    "    print()"
   ]
  },
  {
   "cell_type": "code",
   "execution_count": null,
   "id": "c25dc18a-84a5-4266-887e-a8f797863829",
   "metadata": {},
   "outputs": [],
   "source": []
  },
  {
   "cell_type": "code",
   "execution_count": 29,
   "id": "a53de253-1757-4262-b7b3-6e74ff4145ca",
   "metadata": {},
   "outputs": [],
   "source": [
    "def prepare_data(features):\n",
    "    dv = DictVectorizer(sparse=False)\n",
    "    train_dict = df_train[features].to_dict(orient='records')\n",
    "    X_train = dv.fit_transform(train_dict)\n",
    "    val_dict = df_val[features].to_dict(orient='records')\n",
    "    X_val = dv.transform(val_dict)\n",
    "\n",
    "    model = LogisticRegression(solver='liblinear', C=10, max_iter=1000, random_state=42)\n",
    "    model.fit(X_train, y_train)\n",
    "\n",
    "    # accuracy, round to 2 numbers\n",
    "    y_pred = model.predict_proba(X_val)[:, 1] #prob of churn, soft predictions \n",
    "    price_decision = (y_pred >= 0.5) # make a hard decision on val dataset\n",
    "    return np.round((y_val == price_decision).mean(),2)"
   ]
  },
  {
   "cell_type": "code",
   "execution_count": 40,
   "id": "0173bd2d-115c-4057-8fea-d00fa3010c6b",
   "metadata": {},
   "outputs": [
    {
     "data": {
      "text/plain": [
       "0.93"
      ]
     },
     "execution_count": 40,
     "metadata": {},
     "output_type": "execute_result"
    }
   ],
   "source": [
    "features_li = categorical + numerical\n",
    "full_model_accuracy = prepare_data(features_li)\n",
    "full_model_accuracy"
   ]
  },
  {
   "cell_type": "code",
   "execution_count": null,
   "id": "374a8f43-ef46-4ca1-98f0-62d0cc2c004d",
   "metadata": {},
   "outputs": [],
   "source": [
    "year:  -0.02 \n",
    "engine_hp: 0.0\n",
    "transmission_type -0.02\n",
    "city_mpg -0.02"
   ]
  },
  {
   "cell_type": "code",
   "execution_count": 43,
   "id": "af4cc76a-37dc-4cf0-900d-27e94080e71c",
   "metadata": {},
   "outputs": [
    {
     "name": "stdout",
     "output_type": "stream",
     "text": [
      "absent feature: make ; accuracy diff: -0.02\n",
      "absent feature: model ; accuracy diff: 0.01\n",
      "absent feature: transmission_type ; accuracy diff: -0.02\n",
      "absent feature: vehicle_style ; accuracy diff: 0.0\n",
      "absent feature: engine_hp ; accuracy diff: 0.0\n",
      "absent feature: year ; accuracy diff: -0.02\n",
      "absent feature: engine_cylinders ; accuracy diff: -0.02\n",
      "absent feature: highway_mpg ; accuracy diff: -0.02\n",
      "absent feature: city_mpg ; accuracy diff: -0.02\n"
     ]
    }
   ],
   "source": [
    "for feature in features_li: \n",
    "    \n",
    "    l = features_li.copy()\n",
    "    l.remove(feature)\n",
    "    #print (l, 'absent feature:', feature)\n",
    "    print ('absent feature:', feature, ';', 'accuracy diff:', np.round(full_model_accuracy-prepare_data(l), 4))"
   ]
  },
  {
   "cell_type": "code",
   "execution_count": 60,
   "id": "a84b5a12-14c7-4411-a15e-34d1075ecc09",
   "metadata": {},
   "outputs": [],
   "source": []
  },
  {
   "cell_type": "code",
   "execution_count": null,
   "id": "8068654a-5ebe-4c5e-ad8d-35de98647217",
   "metadata": {},
   "outputs": [],
   "source": []
  },
  {
   "cell_type": "markdown",
   "id": "86cdc0e9-4b0f-4424-a285-e3d31c2bd1a9",
   "metadata": {},
   "source": [
    "# Question 6\n",
    "For this question, we'll see how to use a linear regression model from Scikit-Learn.\n",
    "* We'll need to use the original column price. Apply the logarithmic transformation to this column.\n",
    "* Fit the Ridge regression model on the training data with a solver 'sag'. Set the seed to 42.\n",
    "* This model also has a parameter alpha. Let's try the following values: [0, 0.01, 0.1, 1, 10].\n",
    "* Round your RMSE scores to 3 decimal digits.\n",
    "* Which of these alphas leads to the best RMSE on the validation set?\n",
    "\n",
    "Options\n",
    "* 0\n",
    "* 0.01\n",
    "* 0.1\n",
    "* 1\n",
    "* 10\n",
    "    \n",
    "Note: If there are multiple options, select the smallest alpha.\n",
    "\n"
   ]
  },
  {
   "cell_type": "code",
   "execution_count": 73,
   "id": "8851650b-501a-4ada-96d1-80d7038ef35d",
   "metadata": {},
   "outputs": [],
   "source": [
    "df = pd.read_csv('data.csv')\n",
    "\n",
    "features = ['Make', 'Model', 'Year', 'Engine HP', 'Engine Cylinders',\n",
    "            'Transmission Type', 'Vehicle Style', 'highway MPG', 'city mpg']\n",
    "\n",
    "df = df[features+['MSRP']]\n",
    "\n",
    "df.columns = df.columns.str.replace(' ', '_').str.lower()\n",
    "\n",
    "df[list(df.columns)] = df[list(df.columns)].fillna(0)\n",
    "\n",
    "df.columns = ['make', 'model', 'year', 'engine_hp', 'engine_cylinders',\n",
    "       'transmission_type', 'vehicle_style', 'highway_mpg', 'city_mpg',\n",
    "       'price']\n",
    "\n",
    "\n",
    "df['price'] = np.log1p(df['price'])"
   ]
  },
  {
   "cell_type": "code",
   "execution_count": 74,
   "id": "ebaa28a8-d2da-453e-b370-dca4e2f9fc18",
   "metadata": {},
   "outputs": [
    {
     "data": {
      "text/html": [
       "<div>\n",
       "<style scoped>\n",
       "    .dataframe tbody tr th:only-of-type {\n",
       "        vertical-align: middle;\n",
       "    }\n",
       "\n",
       "    .dataframe tbody tr th {\n",
       "        vertical-align: top;\n",
       "    }\n",
       "\n",
       "    .dataframe thead th {\n",
       "        text-align: right;\n",
       "    }\n",
       "</style>\n",
       "<table border=\"1\" class=\"dataframe\">\n",
       "  <thead>\n",
       "    <tr style=\"text-align: right;\">\n",
       "      <th></th>\n",
       "      <th>make</th>\n",
       "      <th>model</th>\n",
       "      <th>year</th>\n",
       "      <th>engine_hp</th>\n",
       "      <th>engine_cylinders</th>\n",
       "      <th>transmission_type</th>\n",
       "      <th>vehicle_style</th>\n",
       "      <th>highway_mpg</th>\n",
       "      <th>city_mpg</th>\n",
       "      <th>price</th>\n",
       "    </tr>\n",
       "  </thead>\n",
       "  <tbody>\n",
       "    <tr>\n",
       "      <th>0</th>\n",
       "      <td>BMW</td>\n",
       "      <td>1 Series M</td>\n",
       "      <td>2011</td>\n",
       "      <td>335.0</td>\n",
       "      <td>6.0</td>\n",
       "      <td>MANUAL</td>\n",
       "      <td>Coupe</td>\n",
       "      <td>26</td>\n",
       "      <td>19</td>\n",
       "      <td>10.739349</td>\n",
       "    </tr>\n",
       "    <tr>\n",
       "      <th>1</th>\n",
       "      <td>BMW</td>\n",
       "      <td>1 Series</td>\n",
       "      <td>2011</td>\n",
       "      <td>300.0</td>\n",
       "      <td>6.0</td>\n",
       "      <td>MANUAL</td>\n",
       "      <td>Convertible</td>\n",
       "      <td>28</td>\n",
       "      <td>19</td>\n",
       "      <td>10.612779</td>\n",
       "    </tr>\n",
       "    <tr>\n",
       "      <th>2</th>\n",
       "      <td>BMW</td>\n",
       "      <td>1 Series</td>\n",
       "      <td>2011</td>\n",
       "      <td>300.0</td>\n",
       "      <td>6.0</td>\n",
       "      <td>MANUAL</td>\n",
       "      <td>Coupe</td>\n",
       "      <td>28</td>\n",
       "      <td>20</td>\n",
       "      <td>10.500977</td>\n",
       "    </tr>\n",
       "  </tbody>\n",
       "</table>\n",
       "</div>"
      ],
      "text/plain": [
       "  make       model  year  engine_hp  engine_cylinders transmission_type  \\\n",
       "0  BMW  1 Series M  2011      335.0               6.0            MANUAL   \n",
       "1  BMW    1 Series  2011      300.0               6.0            MANUAL   \n",
       "2  BMW    1 Series  2011      300.0               6.0            MANUAL   \n",
       "\n",
       "  vehicle_style  highway_mpg  city_mpg      price  \n",
       "0         Coupe           26        19  10.739349  \n",
       "1   Convertible           28        19  10.612779  \n",
       "2         Coupe           28        20  10.500977  "
      ]
     },
     "execution_count": 74,
     "metadata": {},
     "output_type": "execute_result"
    }
   ],
   "source": [
    "df[0:3]"
   ]
  },
  {
   "cell_type": "code",
   "execution_count": 75,
   "id": "8aede4d9-2d73-4e80-9075-194ac746070d",
   "metadata": {},
   "outputs": [],
   "source": [
    "# test is 20%\n",
    "df_full_train, df_test = train_test_split(df, test_size=0.2, random_state=42)\n",
    "\n",
    "# full train = 80%, final train is 60% and validation is 20%\n",
    "df_train, df_val = train_test_split(df_full_train, test_size=0.25, random_state=42)\n",
    "\n",
    "df_train = df_train.reset_index(drop=True)\n",
    "df_val = df_val.reset_index(drop=True)\n",
    "df_test = df_test.reset_index(drop=True)\n",
    "\n",
    "y_train = df_train.price.values\n",
    "y_val = df_val.price.values\n",
    "y_test = df_test.price.values\n",
    "\n",
    "#del df_train['above_average']\n",
    "#del df_val['above_average']\n",
    "#del df_test['above_average']\n",
    "\n",
    "del df_train['price']\n",
    "del df_val['price']\n",
    "del df_test['price']"
   ]
  },
  {
   "cell_type": "code",
   "execution_count": 76,
   "id": "cb722cb3-c2d7-4a31-b39e-356f3b4dc95f",
   "metadata": {},
   "outputs": [
    {
     "data": {
      "text/html": [
       "<div>\n",
       "<style scoped>\n",
       "    .dataframe tbody tr th:only-of-type {\n",
       "        vertical-align: middle;\n",
       "    }\n",
       "\n",
       "    .dataframe tbody tr th {\n",
       "        vertical-align: top;\n",
       "    }\n",
       "\n",
       "    .dataframe thead th {\n",
       "        text-align: right;\n",
       "    }\n",
       "</style>\n",
       "<table border=\"1\" class=\"dataframe\">\n",
       "  <thead>\n",
       "    <tr style=\"text-align: right;\">\n",
       "      <th></th>\n",
       "      <th>make</th>\n",
       "      <th>model</th>\n",
       "      <th>year</th>\n",
       "      <th>engine_hp</th>\n",
       "      <th>engine_cylinders</th>\n",
       "      <th>transmission_type</th>\n",
       "      <th>vehicle_style</th>\n",
       "      <th>highway_mpg</th>\n",
       "      <th>city_mpg</th>\n",
       "    </tr>\n",
       "  </thead>\n",
       "  <tbody>\n",
       "    <tr>\n",
       "      <th>0</th>\n",
       "      <td>Mitsubishi</td>\n",
       "      <td>Endeavor</td>\n",
       "      <td>2011</td>\n",
       "      <td>225.0</td>\n",
       "      <td>6.0</td>\n",
       "      <td>AUTOMATIC</td>\n",
       "      <td>4dr SUV</td>\n",
       "      <td>19</td>\n",
       "      <td>15</td>\n",
       "    </tr>\n",
       "    <tr>\n",
       "      <th>1</th>\n",
       "      <td>Kia</td>\n",
       "      <td>Borrego</td>\n",
       "      <td>2009</td>\n",
       "      <td>276.0</td>\n",
       "      <td>6.0</td>\n",
       "      <td>AUTOMATIC</td>\n",
       "      <td>4dr SUV</td>\n",
       "      <td>21</td>\n",
       "      <td>17</td>\n",
       "    </tr>\n",
       "  </tbody>\n",
       "</table>\n",
       "</div>"
      ],
      "text/plain": [
       "         make     model  year  engine_hp  engine_cylinders transmission_type  \\\n",
       "0  Mitsubishi  Endeavor  2011      225.0               6.0         AUTOMATIC   \n",
       "1         Kia   Borrego  2009      276.0               6.0         AUTOMATIC   \n",
       "\n",
       "  vehicle_style  highway_mpg  city_mpg  \n",
       "0       4dr SUV           19        15  \n",
       "1       4dr SUV           21        17  "
      ]
     },
     "execution_count": 76,
     "metadata": {},
     "output_type": "execute_result"
    }
   ],
   "source": [
    "df_train[0:2]"
   ]
  },
  {
   "cell_type": "code",
   "execution_count": 77,
   "id": "4cb0b0cd-2a0b-4db5-9b49-5cc3a23882d1",
   "metadata": {},
   "outputs": [
    {
     "data": {
      "text/plain": [
       "array([10.42228135, 10.17526888, 12.42118806])"
      ]
     },
     "execution_count": 77,
     "metadata": {},
     "output_type": "execute_result"
    }
   ],
   "source": [
    "y_train[0:3]"
   ]
  },
  {
   "cell_type": "code",
   "execution_count": 85,
   "id": "aaa3ee76-2a93-4310-9bc0-2f281e78f33e",
   "metadata": {},
   "outputs": [],
   "source": [
    "features = categorical + numerical\n",
    "\n",
    "dv = DictVectorizer(sparse=False)\n",
    "\n",
    "train_dict = df_full_train[features].to_dict(orient='records')\n",
    "X_train = dv.fit_transform(train_dict)\n",
    "y_train = df_full_train.price.values\n",
    "    \n",
    "val_dict = df_val[features].to_dict(orient='records')\n",
    "X_val = dv.transform(val_dict)"
   ]
  },
  {
   "cell_type": "code",
   "execution_count": 88,
   "id": "894b0a08-a209-4c28-bfa7-20679c5c8eb7",
   "metadata": {},
   "outputs": [
    {
     "data": {
      "text/plain": [
       "array([[2.200e+01, 4.000e+00, 2.650e+02, ..., 1.000e+00, 0.000e+00,\n",
       "        2.016e+03],\n",
       "       [1.400e+01, 8.000e+00, 4.490e+02, ..., 0.000e+00, 0.000e+00,\n",
       "        2.017e+03]])"
      ]
     },
     "execution_count": 88,
     "metadata": {},
     "output_type": "execute_result"
    }
   ],
   "source": [
    "X_train[0:2]"
   ]
  },
  {
   "cell_type": "code",
   "execution_count": 87,
   "id": "a224cf74-1292-4812-b999-9490411677e0",
   "metadata": {},
   "outputs": [
    {
     "data": {
      "text/plain": [
       "array([10.88736216, 11.4494637 ])"
      ]
     },
     "execution_count": 87,
     "metadata": {},
     "output_type": "execute_result"
    }
   ],
   "source": [
    "y_train[0:2]"
   ]
  },
  {
   "cell_type": "code",
   "execution_count": 81,
   "id": "4ac9b87b-33c5-45ea-a1b1-85105241a329",
   "metadata": {},
   "outputs": [
    {
     "data": {
      "text/plain": [
       "['make',\n",
       " 'model',\n",
       " 'transmission_type',\n",
       " 'vehicle_style',\n",
       " 'engine_hp',\n",
       " 'year',\n",
       " 'engine_cylinders',\n",
       " 'highway_mpg',\n",
       " 'city_mpg']"
      ]
     },
     "execution_count": 81,
     "metadata": {},
     "output_type": "execute_result"
    }
   ],
   "source": [
    "features"
   ]
  },
  {
   "cell_type": "markdown",
   "id": "31e79b60-e9d4-4c69-9963-669cf20e252a",
   "metadata": {},
   "source": [
    "Fit the Ridge regression model on the training data with a solver 'sag'. Set the seed to 42.\n",
    "\n",
    "This model also has a parameter alpha. Let's try the following values: [0, 0.01, 0.1, 1, 10]."
   ]
  },
  {
   "cell_type": "code",
   "execution_count": 83,
   "id": "bf1577ba-9d99-47ca-a507-ca2e432de6b7",
   "metadata": {},
   "outputs": [
    {
     "data": {
      "text/plain": [
       "array([[  15.,    6.,  225., ...,    0.,    0., 2011.],\n",
       "       [  17.,    6.,  276., ...,    0.,    0., 2009.]])"
      ]
     },
     "execution_count": 83,
     "metadata": {},
     "output_type": "execute_result"
    }
   ],
   "source": [
    "X_train[0:2]"
   ]
  },
  {
   "cell_type": "code",
   "execution_count": 84,
   "id": "d5375fb9-f245-43f4-a0d3-d3d2e5321a98",
   "metadata": {},
   "outputs": [
    {
     "data": {
      "text/plain": [
       "array([10.42228135, 10.17526888])"
      ]
     },
     "execution_count": 84,
     "metadata": {},
     "output_type": "execute_result"
    }
   ],
   "source": [
    "y_train[0:2]"
   ]
  },
  {
   "cell_type": "code",
   "execution_count": 90,
   "id": "7a8767d8-80ba-4b62-962e-31b1d86f34fd",
   "metadata": {},
   "outputs": [],
   "source": [
    "def rmse(y, y_pred):\n",
    "    se = (y - y_pred) ** 2\n",
    "    mse = se.mean()\n",
    "    return np.sqrt(mse)"
   ]
  },
  {
   "cell_type": "code",
   "execution_count": null,
   "id": "38ab440b-00ec-4836-8856-61c779810235",
   "metadata": {},
   "outputs": [
    {
     "name": "stderr",
     "output_type": "stream",
     "text": [
      "/home/alla/anaconda3/lib/python3.9/site-packages/sklearn/linear_model/_sag.py:350: ConvergenceWarning: The max_iter was reached which means the coef_ did not converge\n",
      "  warnings.warn(\n"
     ]
    },
    {
     "name": "stdout",
     "output_type": "stream",
     "text": [
      "alpha: 0, rmse: 0.47666390339106063\n"
     ]
    },
    {
     "name": "stderr",
     "output_type": "stream",
     "text": [
      "/home/alla/anaconda3/lib/python3.9/site-packages/sklearn/linear_model/_sag.py:350: ConvergenceWarning: The max_iter was reached which means the coef_ did not converge\n",
      "  warnings.warn(\n"
     ]
    },
    {
     "name": "stdout",
     "output_type": "stream",
     "text": [
      "alpha: 0.01, rmse: 0.47666418445654185\n"
     ]
    },
    {
     "name": "stderr",
     "output_type": "stream",
     "text": [
      "/home/alla/anaconda3/lib/python3.9/site-packages/sklearn/linear_model/_sag.py:350: ConvergenceWarning: The max_iter was reached which means the coef_ did not converge\n",
      "  warnings.warn(\n"
     ]
    },
    {
     "name": "stdout",
     "output_type": "stream",
     "text": [
      "alpha: 0.1, rmse: 0.4766667139432609\n"
     ]
    }
   ],
   "source": [
    "for alpha in [0, 0.01, 0.1, 1, 10]:\n",
    "    clf = Ridge(alpha=alpha, solver='sag', random_state=42)\n",
    "    clf.fit(X_train, y_train)\n",
    "\n",
    "    # RMSE on validation: round to 3 decimal digits. \n",
    "    y_pred = clf.predict(X_val) #prediction on val  \n",
    "    #rmse = np.round(mean_squared_error(y_val, y_pred, squared=False),4)\n",
    "\n",
    "    print ('alpha: %s, rmse: %s' % (alpha, rmse(y_val, y_pred)))"
   ]
  },
  {
   "cell_type": "code",
   "execution_count": null,
   "id": "c0a8fd94-d9db-49d6-9de3-11a92d4f5a57",
   "metadata": {},
   "outputs": [],
   "source": [
    "# Which of these alphas leads to the best RMSE on the validation set? "
   ]
  },
  {
   "cell_type": "code",
   "execution_count": 67,
   "id": "acac506f-a590-4c08-8429-8c475bfa2b1e",
   "metadata": {},
   "outputs": [
    {
     "data": {
      "text/plain": [
       "array([10.23197934, 11.00719493,  9.22024756, ...,  9.03745341,\n",
       "       11.54439939, 10.84847629])"
      ]
     },
     "execution_count": 67,
     "metadata": {},
     "output_type": "execute_result"
    }
   ],
   "source": [
    "y_pred"
   ]
  },
  {
   "cell_type": "code",
   "execution_count": 68,
   "id": "373150ee-16ab-4c05-8552-6a38099f047d",
   "metadata": {},
   "outputs": [
    {
     "data": {
      "text/plain": [
       "array([4.45750343, 4.77959649, 4.30297994, ..., 4.34183006, 5.09235214,\n",
       "       4.72402997])"
      ]
     },
     "execution_count": 68,
     "metadata": {},
     "output_type": "execute_result"
    }
   ],
   "source": [
    "y_val"
   ]
  },
  {
   "cell_type": "markdown",
   "id": "32f5855e-ffa1-4074-9fd6-a11565750669",
   "metadata": {},
   "source": []
  },
  {
   "cell_type": "code",
   "execution_count": null,
   "id": "4887863a-c7fd-4889-a933-2a7f111cb589",
   "metadata": {},
   "outputs": [],
   "source": []
  },
  {
   "cell_type": "code",
   "execution_count": null,
   "id": "4ba46d8b-74fe-45f0-bb4c-aa63328bee84",
   "metadata": {},
   "outputs": [],
   "source": [
    "\n",
    "\n",
    "\n",
    "\n"
   ]
  },
  {
   "cell_type": "code",
   "execution_count": null,
   "id": "a7b4d3cc-fafc-43d1-af5c-cdfd8a1f6968",
   "metadata": {},
   "outputs": [],
   "source": []
  },
  {
   "cell_type": "code",
   "execution_count": null,
   "id": "feb184ec-7503-42a6-bdd8-192b0c07cbf0",
   "metadata": {},
   "outputs": [],
   "source": []
  },
  {
   "cell_type": "code",
   "execution_count": null,
   "id": "e3d35ce8-1da0-453a-95a5-5d84e7758e9c",
   "metadata": {},
   "outputs": [],
   "source": []
  },
  {
   "cell_type": "code",
   "execution_count": null,
   "id": "e5649397-378e-448d-92f9-4ed6ce8b1036",
   "metadata": {},
   "outputs": [],
   "source": []
  },
  {
   "cell_type": "code",
   "execution_count": null,
   "id": "137b61d1-c440-4daf-bd31-2ed67fb3504b",
   "metadata": {},
   "outputs": [],
   "source": []
  },
  {
   "cell_type": "code",
   "execution_count": null,
   "id": "38cef040-7474-4f8a-a3e8-f7251742a45f",
   "metadata": {},
   "outputs": [],
   "source": []
  }
 ],
 "metadata": {
  "kernelspec": {
   "display_name": "Python 3",
   "language": "python",
   "name": "python3"
  },
  "language_info": {
   "codemirror_mode": {
    "name": "ipython",
    "version": 3
   },
   "file_extension": ".py",
   "mimetype": "text/x-python",
   "name": "python",
   "nbconvert_exporter": "python",
   "pygments_lexer": "ipython3",
   "version": "3.9.13"
  }
 },
 "nbformat": 4,
 "nbformat_minor": 5
}
